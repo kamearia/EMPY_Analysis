{
 "cells": [
  {
   "cell_type": "code",
   "execution_count": 2,
   "id": "1adaf394-8a34-4605-824c-75edd3c01860",
   "metadata": {},
   "outputs": [],
   "source": [
    "from netgen.meshing import *\n",
    "from netgen.csg import *\n",
    "from netgen.occ import *\n",
    "from ngsolve import *\n",
    "from ngsolve.webgui import Draw\n",
    "from netgen.webgui import Draw as DrawGeo\n",
    "import math"
   ]
  },
  {
   "cell_type": "code",
   "execution_count": 25,
   "id": "bc1f37eb-977d-4b0b-9de9-68db06c888c1",
   "metadata": {},
   "outputs": [
    {
     "data": {
      "application/vnd.jupyter.widget-view+json": {
       "model_id": "f47e60623a544b128e94dbdb648f87a2",
       "version_major": 2,
       "version_minor": 0
      },
      "text/plain": [
       "WebGuiWidget(layout=Layout(height='50vh', width='100%'), value={'ngsolve_version': 'Netgen x.x', 'mesh_dim': 3…"
      ]
     },
     "metadata": {},
     "output_type": "display_data"
    },
    {
     "data": {
      "text/plain": [
       "BaseWebGuiScene"
      ]
     },
     "execution_count": 25,
     "metadata": {},
     "output_type": "execute_result"
    }
   ],
   "source": []
  },
  {
   "cell_type": "code",
   "execution_count": 28,
   "id": "0f768269-598f-4438-8caf-2fbab7eefd3e",
   "metadata": {},
   "outputs": [
    {
     "data": {
      "application/vnd.jupyter.widget-view+json": {
       "model_id": "85497b49a7ea4d92a34062ac11656774",
       "version_major": 2,
       "version_minor": 0
      },
      "text/plain": [
       "WebGuiWidget(layout=Layout(height='50vh', width='100%'), value={'ngsolve_version': 'Netgen x.x', 'mesh_dim': 3…"
      ]
     },
     "metadata": {},
     "output_type": "display_data"
    },
    {
     "name": "stdout",
     "output_type": "stream",
     "text": [
      "0.0003141592653589792\n"
     ]
    },
    {
     "data": {
      "application/vnd.jupyter.widget-view+json": {
       "model_id": "097dae8cc2e946819354d7d0d9b1f207",
       "version_major": 2,
       "version_minor": 0
      },
      "text/plain": [
       "WebGuiWidget(layout=Layout(height='50vh', width='100%'), value={'ngsolve_version': 'Netgen x.x', 'mesh_dim': 3…"
      ]
     },
     "metadata": {},
     "output_type": "display_data"
    },
    {
     "data": {
      "application/vnd.jupyter.widget-view+json": {
       "model_id": "b636959918104f4981a2eacacc38747b",
       "version_major": 2,
       "version_minor": 0
      },
      "text/plain": [
       "WebGuiWidget(layout=Layout(height='50vh', width='100%'), value={'gui_settings': {}, 'ngsolve_version': '6.2.24…"
      ]
     },
     "metadata": {},
     "output_type": "display_data"
    },
    {
     "data": {
      "text/plain": [
       "BaseWebGuiScene"
      ]
     },
     "execution_count": 28,
     "metadata": {},
     "output_type": "execute_result"
    }
   ],
   "source": [
    "a=0.01\n",
    "b=0.1\n",
    "h=0.05\n",
    "ndiv=36\n",
    "conductor = Cylinder((0,0,0), Z, r=a, h=h)\n",
    "conductor.maxh=2*math.pi*a/ndiv\n",
    "#Draw(conductor)\n",
    "conductor.faces.name=\"conductorBND\"\n",
    "conductor.faces.Max(Z).name=\"in\"\n",
    "conductor.faces.Min(Z).name=\"out\"\n",
    "conductor.mat(\"sig\")\n",
    "#crosssection = conductor.faces.Max(Z).mass\n",
    "#print(crosssection)\n",
    "\n",
    "outer = Cylinder((0,0,0), Z, r=b, h=h)\n",
    "outer.faces.name = \"outer\"\n",
    "air = outer-conductor\n",
    "air.maxh=2*math.pi*b/ndiv\n",
    "air.faces.Max(Z).name=\"upper\"\n",
    "air.faces.Min(Z).name=\"lower\"\n",
    "air.mat(\"air\")\n",
    "model=Glue([conductor,air])\n",
    "\n",
    "Draw(model)\n",
    "geo =OCCGeometry(model)\n",
    "with TaskManager():\n",
    "    mesh = Mesh(geo.GenerateMesh()).Curve(1) \n",
    "Draw(mesh)\n"
   ]
  },
  {
   "cell_type": "code",
   "execution_count": 37,
   "id": "6e7b210b-f347-45b8-a196-f4b22d924878",
   "metadata": {},
   "outputs": [],
   "source": [
    "fesA = HCurl(mesh, order=1, nograds=True,  dirichlet=\"out|in|upper|lower\", complex=True)\n",
    "A,N = fesA.TnT()\n",
    "mu = 4*math.pi*1e-7\n",
    "sigma = mesh.MaterialCF({ \"sig\" : 1e6 }, default=0)\n",
    "#sigma=1.e6\n",
    "freq=1.\n",
    "outerRadius=b\n",
    "current=1.\n",
    "h=current/(2*math.pi*outerRadius)\n",
    "s=1j*2*math.pi*freq\n",
    "a=BilinearForm(fesA)\n",
    "a += 1/mu*curl(A)*curl(N)*dx\n",
    "a += 1e-6/mu*A*N*dx\n",
    "a += sigma*s*A*N*dx(\"sig\")\n",
    "f = LinearForm(fesA)\n",
    "f += -N.Trace()*(0,0,1)*h*ds(\"outer\")\n",
    "\n",
    "gfA = GridFunction(fesA)\n",
    "\n",
    "with TaskManager():\n",
    "    c = Preconditioner(a, type=\"bddc\")\n",
    "    a.Assemble()\n",
    "    f.Assemble()"
   ]
  },
  {
   "cell_type": "code",
   "execution_count": 38,
   "id": "07ce35f0-33ad-41da-9a12-f7c64f3ea6dc",
   "metadata": {},
   "outputs": [
    {
     "name": "stdout",
     "output_type": "stream",
     "text": [
      "CG iteration 1, residual = 0.005034266514168248     \n",
      "CG iteration 2, residual = 1.2178366204936044e-09     \n",
      "CG iteration 3, residual = 9.777786172062313e-12     \n",
      "CG iteration 4, residual = 1.144014410586086e-14     \n"
     ]
    },
    {
     "data": {
      "text/plain": [
       "basevector"
      ]
     },
     "execution_count": 38,
     "metadata": {},
     "output_type": "execute_result"
    }
   ],
   "source": [
    "solvers.CG(sol=gfA.vec, rhs=f.vec, mat=a.mat, pre=c.mat, tol=1e-9, printrates=True, maxsteps=1000)"
   ]
  },
  {
   "cell_type": "code",
   "execution_count": 41,
   "id": "98b843cf-a5ab-4986-8586-56f6f5405e0a",
   "metadata": {},
   "outputs": [
    {
     "data": {
      "application/vnd.jupyter.widget-view+json": {
       "model_id": "7ccb9428a93043249cc2bc1717bbca4c",
       "version_major": 2,
       "version_minor": 0
      },
      "text/plain": [
       "WebGuiWidget(layout=Layout(height='50vh', width='100%'), value={'gui_settings': {}, 'ngsolve_version': '6.2.24…"
      ]
     },
     "metadata": {},
     "output_type": "display_data"
    },
    {
     "data": {
      "text/plain": [
       "BaseWebGuiScene"
      ]
     },
     "execution_count": 41,
     "metadata": {},
     "output_type": "execute_result"
    }
   ],
   "source": [
    "Draw(sigma, mesh)"
   ]
  },
  {
   "cell_type": "code",
   "execution_count": 31,
   "id": "7c0de515-a326-43b8-b930-bbf00abc6e79",
   "metadata": {},
   "outputs": [
    {
     "data": {
      "application/vnd.jupyter.widget-view+json": {
       "model_id": "d9257c1f3a0a4809bbbdfac48b0604bb",
       "version_major": 2,
       "version_minor": 0
      },
      "text/plain": [
       "WebGuiWidget(layout=Layout(height='50vh', width='100%'), value={'gui_settings': {}, 'ngsolve_version': '6.2.24…"
      ]
     },
     "metadata": {},
     "output_type": "display_data"
    }
   ],
   "source": [
    "Draw (curl(gfA), mesh, draw_surf=False, \\\n",
    "      min=0, max=1.e-5, clipping = { \"y\":1, \"z\" : 0, \"function\":False}, vectors = { \"grid_size\":100});"
   ]
  },
  {
   "cell_type": "code",
   "execution_count": null,
   "id": "3eb6b3e1-62ac-41fe-b5d8-21cf4be7c132",
   "metadata": {},
   "outputs": [],
   "source": []
  }
 ],
 "metadata": {
  "kernelspec": {
   "display_name": "my_env",
   "language": "python",
   "name": "my_env"
  },
  "language_info": {
   "codemirror_mode": {
    "name": "ipython",
    "version": 3
   },
   "file_extension": ".py",
   "mimetype": "text/x-python",
   "name": "python",
   "nbconvert_exporter": "python",
   "pygments_lexer": "ipython3",
   "version": "3.10.5"
  }
 },
 "nbformat": 4,
 "nbformat_minor": 5
}
