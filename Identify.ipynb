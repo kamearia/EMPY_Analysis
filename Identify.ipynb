{
 "cells": [
  {
   "cell_type": "code",
   "execution_count": 3,
   "id": "a5e52f22-d26b-4b05-900d-37542beb8b4a",
   "metadata": {},
   "outputs": [
    {
     "name": "stdout",
     "output_type": "stream",
     "text": [
      "nv= 1096  nedge= 6333  nfacet= 9962  ne= 4723\n"
     ]
    },
    {
     "data": {
      "application/vnd.jupyter.widget-view+json": {
       "model_id": "204731d596d54f0284e516568f0548ef",
       "version_major": 2,
       "version_minor": 0
      },
      "text/plain": [
       "WebGuiWidget(layout=Layout(height='50vh', width='100%'), value={'gui_settings': {}, 'ngsolve_version': '6.2.24…"
      ]
     },
     "metadata": {},
     "output_type": "display_data"
    },
    {
     "data": {
      "text/plain": [
       "BaseWebGuiScene"
      ]
     },
     "execution_count": 3,
     "metadata": {},
     "output_type": "execute_result"
    }
   ],
   "source": [
    "from netgen.meshing import *\n",
    "from netgen.csg import *\n",
    "from netgen.occ import *\n",
    "from ngsolve import *\n",
    "from ngsolve.webgui import Draw\n",
    "\n",
    "#import math\n",
    "class CubeMesh():\n",
    "    def __init__(self,  **kwargs):  \n",
    "        self.SetMesh(**kwargs)\n",
    "\n",
    "    def SetMesh(self, **kwargs):\n",
    "        default_values = {\"name\":\"Cube\",\n",
    "                          \"mur\":1000, \n",
    "                          \"msize\": meshsize.moderate,\n",
    "                          \"ndiv\":5,\n",
    "                          \"type\":0\n",
    "                         }\n",
    "        \n",
    "        default_values.update(kwargs)\n",
    "        self.name=default_values[\"name\"]\n",
    "        self.mur=default_values[\"mur\"]\n",
    "        self.msize=default_values[\"msize\"]\n",
    "        ndiv=default_values[\"ndiv\"]\n",
    "        type=default_values[\"type\"]\n",
    "        \n",
    "        curveOrder=1\n",
    "        iron = Box((0,0,0),(1, 1, 1))\n",
    "        iron.faces.Min(X).name=\"Bn0\"\n",
    "        iron.faces.Min(Y).name=\"Bn0\"\n",
    "        iron.faces.Min(Z).name=\"Ht0\"\n",
    "        if type==1:\n",
    "            iron.faces.Max(X).name=\"A_Omega_boundary\"\n",
    "            iron.faces.Max(Y).name=\"A_Omega_boundary\"\n",
    "            iron.faces.Max(Z).name=\"A_Omega_boundary\"\n",
    "        iron.mat(\"iron\")\n",
    "        #iron.maxh=1.0/ndiv\n",
    " \n",
    "        A_domain = Box((0,0,0),(1.5, 1.5, 1.5))\n",
    "        A_domain=A_domain-iron\n",
    "        #A_domain.faces.Min(Z).Identify(A_domain.faces.Max(Z), \"bot-top\", type=IdentificationType.CLOSESURFACES)\n",
    "\n",
    "        A_domain.faces.Min(X).name=\"Bn0\"\n",
    "        A_domain.faces.Min(Y).name=\"Bn0\"\n",
    "        A_domain.faces.Min(Z).name=\"Ht0\"\n",
    "        if type==0:\n",
    "            A_domain.faces.Max(X).name=\"A_Omega_boundary\"\n",
    "            A_domain.faces.Max(Y).name=\"A_Omega_boundary\"\n",
    "            A_domain.faces.Max(Z).name=\"A_Omega_boundary\"\n",
    "            A_domain.mat(\"A_domain\")\n",
    "        elif type==1:\n",
    "            A_domain.mat(\"Omega_domain\")\n",
    "        #A_domain.maxh=1.0/ndiv\n",
    "\n",
    "        #Omega_domain = Box((0,0,0),(10,10,10))\n",
    "        sph2 = Sphere(Pnt(0,0,10.), r=5)*Box((0,0,10), (5,5,15))\n",
    "        sph2.faces.Min(X).name=\"Bn0\"\n",
    "        sph2.faces.Min(Y).name=\"Bn0\"\n",
    "        sph2.faces.Min(Z).name=\"Ht0\"\n",
    "        sph2.mat(\"Kelvin\")\n",
    "        \n",
    "        Omega_domain=Sphere(Pnt(0,0,0.0), r=5)*Box((0,0,0), (5,5,5))\n",
    "        #Omega_domain.faces[0].Identify(Omega_domain.faces[4], \"ud0\",  IdentificationType.PERIODIC)\n",
    "        Omega_domain=Omega_domain-A_domain-iron\n",
    "        Omega_domain.faces.Min(X).name=\"Bn0\"\n",
    "        Omega_domain.faces.Min(Y).name=\"Bn0\"\n",
    "        Omega_domain.faces.Min(Z).name=\"Ht0\"\n",
    "        #Omega_domain.faces.Max(Y).name=\"Omega0\"\n",
    "        #Omega_domain.faces.Max(X).name=\"Omega0\"\n",
    "        #Omega_domain.faces.Max(Z).name=\"Omega0\"\n",
    "        #Omega_domain.faces.Min(Z).Identify(Omega_domain.faces.Max(Z), \"bot-top\", type=IdentificationType.CLOSESURFACES)\n",
    "        Omega_domain.mat(\"Omega_domain\")\n",
    "        #Omega_domain.maxh=5.0/ndiv\n",
    "\n",
    "        tmp=Omega_domain+sph2\n",
    "        tmp.faces[0].Identify(tmp.faces[7], \"ud0\",  IdentificationType.PERIODIC)\n",
    "        \n",
    "        geo=Glue([iron, A_domain, tmp])\n",
    "        \n",
    "        occgeo =OCCGeometry(geo)\n",
    "        #ngmesh = occgeo.GenerateMesh(self.msize, quad_dominated=False)\n",
    "        #ngmesh = occgeo.GenerateMesh(grading=0.05)\n",
    "        ngmesh = occgeo.GenerateMesh(self.msize)\n",
    "        #ngmesh.ZRefine(\"bot-top\", [])\n",
    "        mesh = Mesh(ngmesh)\n",
    "\n",
    "        self.geo=geo\n",
    "        self.mesh=mesh\n",
    "        if type==0:\n",
    "            self.reduced_region=\"Omega_domain|Kelvin\"\n",
    "            self.total_region=\"iron|A_domain\"\n",
    "        elif type==1:\n",
    "            self.reduced_region=\"Omega_domain|Kelvin\"\n",
    "            self.total_region=\"iron\"           \n",
    "        self.total_boundary=\"A_Omega_boundary\"\n",
    "        self.reduced_boundary=\"Omega0\"\n",
    "        self.Bn0_boundary=\"Bn0\"\n",
    "        self.Ht0_boundary=\"Ht0\"\n",
    "\n",
    "        import math\n",
    "        mur=self.mur\n",
    "        mu0=4.e-7*math.pi\n",
    "        mu=mu0*mur\n",
    "        mu_d={\"iron\":mu,  \"A_domain\":mu0, \"Omega_domain\":mu0,\"Kelvin\":mu0, 'default':mu0}\n",
    "        self.Mu = CoefficientFunction([mu_d[mat] for mat in mesh.GetMaterials()])  # デフォルトの物性値\n",
    "        \n",
    "        print(\"nv=\", mesh.nv, \" nedge=\", mesh.nedge, \" nfacet=\", mesh.nfacet, \" ne=\",mesh.ne)\n",
    "\n",
    "    def Print(self):\n",
    "        geo=self.geo\n",
    "        mesh=self.mesh\n",
    "        print(\"Model:\", self.name, \"mur=\", self.mur)\n",
    "        print(\"nv=\", mesh.nv, \" nedge=\", mesh.nedge, \" nfacet=\", mesh.nfacet, \" ne=\",mesh.ne)\n",
    "        for s in geo.solids:\n",
    "            print(\"name:\",s.name, \"  mass:\", s.mass, \"  center:\", s.center)\n",
    "\n",
    "from ngsolve import *\n",
    "from netgen.occ import *\n",
    "from ngsolve.webgui import Draw\n",
    "from netgen.webgui import Draw as DrawGeo  \n",
    "#sys.path.append(r'..\\Static') \n",
    "#from Omega_ReducedOmega import Omega_ReducedOmega_Method\n",
    "sys.path.append(r'..\\bin\\Release') \n",
    "\n",
    "\n",
    "model=CubeMesh(msize=meshsize.fine)\n",
    "Draw(model.mesh)"
   ]
  },
  {
   "cell_type": "code",
   "execution_count": null,
   "id": "b4234a88-c169-464d-b6db-1123e16f5e81",
   "metadata": {},
   "outputs": [],
   "source": []
  },
  {
   "cell_type": "code",
   "execution_count": null,
   "id": "e03b87f1-65b3-4451-add9-728c337a40f8",
   "metadata": {},
   "outputs": [],
   "source": []
  }
 ],
 "metadata": {
  "kernelspec": {
   "display_name": "Python 3 (ipykernel)",
   "language": "python",
   "name": "python3"
  },
  "language_info": {
   "codemirror_mode": {
    "name": "ipython",
    "version": 3
   },
   "file_extension": ".py",
   "mimetype": "text/x-python",
   "name": "python",
   "nbconvert_exporter": "python",
   "pygments_lexer": "ipython3",
   "version": "3.10.5"
  }
 },
 "nbformat": 4,
 "nbformat_minor": 5
}
