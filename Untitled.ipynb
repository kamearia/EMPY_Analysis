{
 "cells": [
  {
   "cell_type": "code",
   "execution_count": 4,
   "id": "023950e1-6a7e-46f7-b15b-7861dae496b3",
   "metadata": {},
   "outputs": [],
   "source": [
    "import netgen.gui\n",
    "import ngsolve as ngs # ngsolveのインポートはngsという別名に統一\n",
    "\n",
    "# Netgenの描画バックエンドを強制的に設定\n",
    "# True: matplotlibのような静止画出力（こちらが成功しやすい）\n",
    "# False: WebGLのインタラクティブ出力（webguiウィジェットが必要）\n",
    "netgen.gui.mpl = True\n",
    "\n",
    "# WebGL/WebGUI の描画モードを無効化（mpl=Trueが優先される）\n",
    "# netgen.gui.webgui = False \n",
    "\n",
    "# 描画オブジェクトを生成\n",
    "mesh = ngs.Mesh(ngs.unit_cube.GenerateMesh(maxh=0.5))\n",
    "\n",
    "# Draw()を実行し、結果を明示的に表示\n",
    "# mpl=True の場合、この Draw() で静止画像が表示されるはずです。\n",
    "ngs.Draw(mesh)"
   ]
  },
  {
   "cell_type": "code",
   "execution_count": 7,
   "id": "f5261b1e-1d7f-484f-acfa-dfe94c11e675",
   "metadata": {},
   "outputs": [],
   "source": [
    "from ngsolve.webgui import Draw\n",
    "ngs.Draw(mesh)"
   ]
  },
  {
   "cell_type": "code",
   "execution_count": null,
   "id": "910d9a3e-762e-496a-b28d-6e1c0350313b",
   "metadata": {},
   "outputs": [],
   "source": []
  }
 ],
 "metadata": {
  "kernelspec": {
   "display_name": "NGSolve (Conda)",
   "language": "python",
   "name": "ngsolve_env_new"
  },
  "language_info": {
   "codemirror_mode": {
    "name": "ipython",
    "version": 3
   },
   "file_extension": ".py",
   "mimetype": "text/x-python",
   "name": "python",
   "nbconvert_exporter": "python",
   "pygments_lexer": "ipython3",
   "version": "3.11.13"
  }
 },
 "nbformat": 4,
 "nbformat_minor": 5
}
