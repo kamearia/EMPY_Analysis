{
 "cells": [
  {
   "cell_type": "code",
   "execution_count": 5,
   "id": "358f53ff-1b6f-4fec-8005-0bc19e94fd32",
   "metadata": {},
   "outputs": [
    {
     "data": {
      "application/vnd.jupyter.widget-view+json": {
       "model_id": "ed1262b5aea645c390d0a644348c836d",
       "version_major": 2,
       "version_minor": 0
      },
      "text/plain": [
       "WebGuiWidget(layout=Layout(height='50vh', width='100%'), value={'ngsolve_version': 'Netgen x.x', 'mesh_dim': 3…"
      ]
     },
     "metadata": {},
     "output_type": "display_data"
    },
    {
     "name": "stdout",
     "output_type": "stream",
     "text": [
      "[22537, 24923]\n",
      "enter iccg_solve\n",
      "Dof= 24923    matrix size= 290401.0\n",
      "saving matrixW:\\00_CAE\\NGSolve\\EMPY\\EMPY_Analysis_old\\COIL\n",
      "shift parameter= 1.01\n",
      "minimum residual= 8.600156509343127e-17  at iteraions:  237\n",
      "結果のノルム: 1.1984955316471031e-14\n",
      "power=  5.58898458082715e-08\n",
      "enter iccg_solve\n",
      "Dof= 22537    matrix size= 256999.0\n",
      "saving matrixW:\\00_CAE\\NGSolve\\EMPY\\EMPY_Analysis_old\\COIL\n",
      "shift parameter= 1.0\n",
      "minimum residual= 9.305082008880855e-17  at iteraions:  301\n",
      "結果のノルム: 1.1347452298305654e-14\n",
      "power=  4.1769061694008723e-07\n",
      "enter iccg_solve\n",
      "Dof= 24923    matrix size= 290401.0\n",
      "saving matrixW:\\00_CAE\\NGSolve\\EMPY\\EMPY_Analysis_old\\COIL\n",
      "shift parameter= 1.01\n",
      "minimum residual= 9.461271839081763e-17  at iteraions:  249\n",
      "結果のノルム: 1.1417755820260651e-14\n",
      "power=  5.605905146382033e-08\n",
      "enter iccg_solve\n",
      "Dof= 22537    matrix size= 256999.0\n",
      "saving matrixW:\\00_CAE\\NGSolve\\EMPY\\EMPY_Analysis_old\\COIL\n",
      "shift parameter= 1.0\n",
      "minimum residual= 9.405529947126077e-17  at iteraions:  243\n",
      "結果のノルム: 1.0153636792977088e-14\n",
      "power=  4.4790576374321077e-07\n",
      "enter iccg_solve\n",
      "Dof= 24923    matrix size= 290401.0\n",
      "saving matrixW:\\00_CAE\\NGSolve\\EMPY\\EMPY_Analysis_old\\COIL\n",
      "shift parameter= 1.01\n",
      "minimum residual= 9.108365523856081e-17  at iteraions:  256\n",
      "結果のノルム: 1.1823098094607009e-14\n",
      "power=  5.608157013665544e-08\n",
      "enter iccg_solve\n",
      "Dof= 22537    matrix size= 256999.0\n",
      "saving matrixW:\\00_CAE\\NGSolve\\EMPY\\EMPY_Analysis_old\\COIL\n",
      "shift parameter= 1.0\n",
      "minimum residual= 8.87293552121541e-17  at iteraions:  228\n",
      "結果のノルム: 9.991278979190384e-15\n",
      "power=  4.7222818615272536e-07\n"
     ]
    },
    {
     "data": {
      "application/vnd.jupyter.widget-view+json": {
       "model_id": "4e3ce01207f141f78edcb69ced1515e1",
       "version_major": 2,
       "version_minor": 0
      },
      "text/plain": [
       "WebGuiWidget(layout=Layout(height='50vh', width='100%'), value={'gui_settings': {'Objects': {'Clipping Plane':…"
      ]
     },
     "metadata": {},
     "output_type": "display_data"
    },
    {
     "data": {
      "application/vnd.jupyter.widget-view+json": {
       "model_id": "7e687bf8232d46bc8e59758b297028be",
       "version_major": 2,
       "version_minor": 0
      },
      "text/plain": [
       "WebGuiWidget(layout=Layout(height='50vh', width='100%'), value={'gui_settings': {'Objects': {'Clipping Plane':…"
      ]
     },
     "metadata": {},
     "output_type": "display_data"
    },
    {
     "data": {
      "application/vnd.jupyter.widget-view+json": {
       "model_id": "2fe8f23464d04b5993f9e6a2451cc59a",
       "version_major": 2,
       "version_minor": 0
      },
      "text/plain": [
       "WebGuiWidget(layout=Layout(height='50vh', width='100%'), value={'gui_settings': {'Objects': {'Clipping Plane':…"
      ]
     },
     "metadata": {},
     "output_type": "display_data"
    },
    {
     "data": {
      "application/vnd.jupyter.widget-view+json": {
       "model_id": "306a7a7e16034dbf83ff2cfa6827326b",
       "version_major": 2,
       "version_minor": 0
      },
      "text/plain": [
       "WebGuiWidget(layout=Layout(height='50vh', width='100%'), value={'gui_settings': {'Objects': {'Clipping Plane':…"
      ]
     },
     "metadata": {},
     "output_type": "display_data"
    },
    {
     "data": {
      "text/plain": [
       "BaseWebGuiScene"
      ]
     },
     "execution_count": 5,
     "metadata": {},
     "output_type": "execute_result"
    }
   ],
   "source": [
    "import sys\n",
    "sys.path.append('./include')\n",
    "sys.path.append('../include')\n",
    "from Prob_Coil_quad import ProbCoil\n",
    "from EMPY_Field import *\n",
    "from ngsolve import *\n",
    "from netgen.occ import *\n",
    "from netgen.webgui import Draw as DrawGeo\n",
    "from ngsolve.webgui import Draw\n",
    "from MatrixSolver import MatrixSolver as solver \n",
    "\n",
    "coils = ProbCoil()\n",
    "radius = 50e-3\n",
    "height = 50e-3\n",
    "box = Box(Pnt(0,0,0), Pnt(radius, radius, height))\n",
    "cylinder1 = Cylinder((0, 0, 0), (0, 0, 1), 1.0*radius, height)\n",
    "cylinder2 = Cylinder((0, 0, 0), (0, 0, 1), 0.1*radius, height)\n",
    "model = (cylinder1 - cylinder2) * box\n",
    "#model = cylinder1 * box\n",
    "model.faces.Min(Y).name = \"minY\"\n",
    "model.faces.Min(X).name = \"minX\"\n",
    "#model.faces.edges.Nearest((0, 0, height/2)).name = \"gnd0\"\n",
    "model.faces.Nearest((0.1*radius/sqrt(2), 0.1*radius/sqrt(2), height/2)).name = \"gnd0\"\n",
    "geo = OCCGeometry(Glue([coils.geo, model]))\n",
    "\n",
    "DrawGeo(geo.shape)\n",
    "\n",
    "Order = 2\n",
    "mesh = Mesh(geo.GenerateMesh(maxh = 3e-3)).Curve(Order) \n",
    "\n",
    "B = Bfield(coils.field)\n",
    "\n",
    "fes_kai = H1(mesh, order=Order, dirichlet=\"gnd0|minX|minY\", complex=False, symmetry=True)\n",
    "kai, N_kai = fes_kai.TnT()\n",
    "\n",
    "fes_psi = H1(mesh, order=Order, dirichlet=\"gnd0\", complex=False, symmetry=True)\n",
    "psi, N_psi = fes_psi.TnT()\n",
    "\n",
    "print([sum(fes_kai.FreeDofs()), sum(fes_psi.FreeDofs())])\n",
    "\n",
    "gfkai = GridFunction(fes_kai)\n",
    "gfkai.Set(atan2(y,x) )\n",
    "\n",
    "for niter in range(3):\n",
    "\ta = BilinearForm(fes_psi)\n",
    "\ta += InnerProduct(Cross(grad(N_psi),grad(gfkai)),Cross(grad(psi),grad(gfkai)))*dx\n",
    "\tf = LinearForm(fes_psi)\n",
    "\tf += InnerProduct(Cross(grad(N_psi),grad(gfkai)),B)*dx\n",
    "\ta.Assemble()\n",
    "\tf.Assemble()\n",
    "\n",
    "#\tgfpsi.vec.data = a.mat.Inverse(fes_psi.FreeDofs()) * f.vec\n",
    "\tgfpsi = GridFunction(fes_psi)\n",
    "\tr = f.vec - a.mat * gfpsi.vec\n",
    "\tgfpsi = solver.iccg_solve(fes_psi, gfpsi, a, r.Evaluate(), tol=1.e-16, max_iter=1000, accel_factor=0, logplot=False, complex=False, cpp_solver=\"EMPY\") \n",
    "#\tgfpsi = solver.iccg_solve(fes_psi, gfpsi, a, f.vec.FV(), tol=1.e-16, max_iter=1000, accel_factor=0, logplot=False, complex=False, cpp_solver=\"EMPY\") \n",
    "\n",
    "\ta = BilinearForm(fes_kai)\n",
    "\ta += InnerProduct(Cross(grad(gfpsi),grad(N_kai)),Cross(grad(gfpsi),grad(kai)))*dx\n",
    "\tf = LinearForm(fes_kai)\n",
    "\tf += InnerProduct(Cross(grad(gfpsi),grad(N_kai)),B)*dx\n",
    "\ta.Assemble()\n",
    "\tf.Assemble()\n",
    "\t\n",
    "#\tgfkai.vec.data = a.mat.Inverse(fes_kai.FreeDofs()) * f.vec\n",
    "\tgfkai = GridFunction(fes_kai)\n",
    "\tgfkai.Set(atan2(y,x), BND)\n",
    "\tr = f.vec - a.mat * gfkai.vec\n",
    "\tgfkai = solver.iccg_solve(fes_kai, gfkai, a, r.Evaluate(), tol=1.e-16, max_iter=1000, accel_factor=0, logplot=False, complex=False, cpp_solver=\"EMPY\") \n",
    "#\tgfkai = solver.iccg_solve(fes_kai, gfkai, a, f.vec.FV(), tol=1.e-16, max_iter=1000, accel_factor=0, logplot=False, complex=False, cpp_solver=\"EMPY\") \n",
    "\n",
    "Draw(Cross(grad(gfpsi),grad(gfkai)), mesh, order=3, settings={\"Objects\":{\"Clipping Plane\":True, \"Vectors\":True}, \"Colormap\":{\"autoscale\":False, \"min\":0, \"max\":0.05, \"ncolors\":16}, \"Clipping\":{\"enable\":True, \"x\":1, \"y\":0, \"z\":0}, \"Vectors\":{\"grid_size\":80, \"offset\":-0.5}, \"camera\": {\"transformations\": [{\"type\": \"rotateY\", \"angle\": 90}, {\"type\": \"rotateZ\", \"angle\": 90}]}})\n",
    "Draw(B, mesh, order=3, min=0, max=0.01, settings={\"Objects\":{\"Clipping Plane\":True, \"Vectors\":True}, \"Colormap\":{\"autoscale\":False, \"min\":0, \"max\":0.05, \"ncolors\":16}, \"Clipping\":{\"enable\":True, \"x\":1, \"y\":0, \"z\":0}, \"Vectors\":{\"grid_size\":80, \"offset\":-0.5}, \"camera\": {\"transformations\": [{\"type\": \"rotateY\", \"angle\": 90}, {\"type\": \"rotateZ\", \"angle\": 90}]}})\n",
    "Draw(gfpsi, mesh, order=3, settings={\"Objects\":{\"Clipping Plane\":True}, \"Colormap\":{\"ncolors\":32}, \"Clipping\":{\"enable\":False, \"x\":1, \"y\":0, \"z\":0}, \"camera\": {\"transformations\": [{\"type\": \"rotateY\", \"angle\": 90}, {\"type\": \"rotateZ\", \"angle\": 90}]}})\n",
    "Draw(gfkai, mesh, order=3, settings={\"Objects\":{\"Clipping Plane\":True}, \"Colormap\":{\"ncolors\":32}, \"Clipping\":{\"enable\":False, \"x\":1, \"y\":0, \"z\":0}, \"camera\": {\"transformations\": [{\"type\": \"rotateY\", \"angle\": 90}, {\"type\": \"rotateZ\", \"angle\": 90}]}})"
   ]
  },
  {
   "cell_type": "code",
   "execution_count": null,
   "id": "8aaa2130-0afa-42d1-939e-9f82f6c4babc",
   "metadata": {},
   "outputs": [],
   "source": []
  }
 ],
 "metadata": {
  "kernelspec": {
   "display_name": "Python 3 (ipykernel)",
   "language": "python",
   "name": "python3"
  },
  "language_info": {
   "codemirror_mode": {
    "name": "ipython",
    "version": 3
   },
   "file_extension": ".py",
   "mimetype": "text/x-python",
   "name": "python",
   "nbconvert_exporter": "python",
   "pygments_lexer": "ipython3",
   "version": "3.10.5"
  }
 },
 "nbformat": 4,
 "nbformat_minor": 5
}
