{
 "cells": [
  {
   "cell_type": "code",
   "execution_count": 1,
   "id": "52057f70-21f4-41d6-8df7-a993adea6a48",
   "metadata": {},
   "outputs": [],
   "source": [
    "from netgen.meshing import *\n",
    "from netgen.csg import *\n",
    "from netgen.occ import *\n",
    "from ngsolve import *\n",
    "from ngsolve.webgui import Draw\n",
    "\n",
    "#import math\n",
    "class CubeMesh():\n",
    "    def __init__(self,  **kwargs):  \n",
    "        self.SetMesh(**kwargs)\n",
    "\n",
    "    def SetMesh(self, **kwargs):\n",
    "        default_values = {\"name\":\"Cube\",\n",
    "                          \"mur\":1000, \n",
    "                          \"msize\": meshsize.moderate,\n",
    "                          \"ndiv\":5,\n",
    "                          \"type\":0,\n",
    "                          \"curveOrder\":1,\n",
    "                          \"rKelvin\":5\n",
    "                         }\n",
    "        \n",
    "        default_values.update(kwargs)\n",
    "        self.name=default_values[\"name\"]\n",
    "        self.mur=default_values[\"mur\"]\n",
    "        self.msize=default_values[\"msize\"]\n",
    "        ndiv=default_values[\"ndiv\"]\n",
    "        type=default_values[\"type\"]\n",
    "        curveOrder=default_values[\"curveOrder\"]   \n",
    "        rKelvin=default_values[\"rKelvin\"]   \n",
    "        self.curveOrder=curveOrder\n",
    "        self.rKelvin=rKelvin\n",
    "        \n",
    "        iron = Box((0,0,0),(1, 1, 1))\n",
    "        iron.faces.Min(X).name=\"Bn0\"\n",
    "        iron.faces.Min(Y).name=\"Bn0\"\n",
    "        iron.faces.Min(Z).name=\"Ht0\"\n",
    "        if type==1:\n",
    "            iron.faces.Max(X).name=\"A_Omega_boundary\"\n",
    "            iron.faces.Max(Y).name=\"A_Omega_boundary\"\n",
    "            iron.faces.Max(Z).name=\"A_Omega_boundary\"\n",
    "        iron.mat(\"iron\")\n",
    "        #iron.maxh=1.0/ndiv\n",
    " \n",
    "        A_domain = Box((0,0,0),(1.2, 1.2, 1.2))\n",
    "        #A_domain.faces.Min(Z).Identify(A_domain.faces.Max(Z), \"bot-top\", type=IdentificationType.CLOSESURFACES)\n",
    "\n",
    "        A_domain.faces.Min(X).name=\"Bn0\"\n",
    "        A_domain.faces.Min(Y).name=\"Bn0\"\n",
    "        A_domain.faces.Min(Z).name=\"Ht0\"\n",
    "        if type==0:\n",
    "            A_domain.faces.Max(X).name=\"A_Omega_boundary\"\n",
    "            A_domain.faces.Max(Y).name=\"A_Omega_boundary\"\n",
    "            A_domain.faces.Max(Z).name=\"A_Omega_boundary\"\n",
    "            A_domain.mat(\"A_domain\")\n",
    "        elif type==1:\n",
    "            A_domain.mat(\"Omega_domain\")\n",
    "        #A_domain.maxh=1.0/ndiv\n",
    "\n",
    "\n",
    "        rk=rKelvin\n",
    "        Omega_domain=Sphere(Pnt(0,0,0.0), r=rk)*Box((0,0,0), (rk,rk,rk))\n",
    "        #Omega_domain.faces[0].Identify(Omega_domain.faces[4], \"ud0\",  IdentificationType.PERIODIC)\n",
    "        Omega_domain.faces.Min(X).name=\"Bn0\"\n",
    "        Omega_domain.faces.Min(Y).name=\"Bn0\"\n",
    "        Omega_domain.faces.Min(Z).name=\"Ht0\"\n",
    "        #Omega_domain.faces.Max(Y).name=\"Omega0\"\n",
    "        #Omega_domain.faces.Max(X).name=\"Omega0\"\n",
    "        #Omega_domain.faces.Max(Z).name=\"Omega0\"\n",
    "        #Omega_domain.faces.Min(Z).Identify(Omega_domain.faces.Max(Z), \"bot-top\", type=IdentificationType.CLOSESURFACES)\n",
    "        Omega_domain.mat(\"Omega_domain\")\n",
    "        Omega_domain.maxh=rk/5\n",
    "\n",
    "        rk=rKelvin\n",
    "        center=rk*2\n",
    "        external_domain = Sphere(Pnt(center,0,0.), r=rk)*Box((center,0,0), (center+rk,rk,rk))\n",
    "        external_domain.faces.Min(X).name=\"Bn0\"\n",
    "        external_domain.faces.Min(Y).name=\"Bn0\"\n",
    "        external_domain.faces.Min(Z).name=\"Ht0\"\n",
    "        external_domain.mat(\"Kelvin\")\n",
    "        external_domain.maxh=rk/5\n",
    "\n",
    "        external_domain.faces[0].Identify(Omega_domain.faces[0], \"ud0\",  IdentificationType.PERIODIC)\n",
    "        \n",
    "        geo=Glue([iron, A_domain, Omega_domain, external_domain])\n",
    "        \n",
    "        occgeo =OCCGeometry(geo)\n",
    "        #ngmesh = occgeo.GenerateMesh(self.msize, quad_dominated=False)\n",
    "        #ngmesh = occgeo.GenerateMesh(grading=0.05)\n",
    "        ngmesh = occgeo.GenerateMesh(self.msize)\n",
    "        #ngmesh.ZRefine(\"bot-top\", [])\n",
    "        print(\"curveOrder=\", curveOrder)\n",
    "        mesh = Mesh(ngmesh).Curve(curveOrder)\n",
    "\n",
    "        self.geo=geo\n",
    "        self.mesh=mesh\n",
    "        if type==0:\n",
    "            self.reduced_region=\"Omega_domain\"\n",
    "            self.total_region=\"iron|A_domain\"\n",
    "        elif type==1:\n",
    "            self.reduced_region=\"A_domain|Omega_domain\"\n",
    "            self.total_region=\"iron\"           \n",
    "        self.total_boundary=\"A_Omega_boundary\"\n",
    "        self.reduced_boundary=\"Omega0\"\n",
    "        self.Bn0_boundary=\"Bn0\"\n",
    "        self.Ht0_boundary=\"Ht0\"\n",
    "\n",
    "        import math\n",
    "        mur=self.mur\n",
    "        mu0=4.e-7*math.pi\n",
    "        mu=mu0*mur\n",
    "        mu_d={\"iron\":mu,  \"A_domain\":mu0, \"Omega_domain\":mu0,\"Kelvin\":mu0, 'default':mu0}\n",
    "        self.Mu = CoefficientFunction([mu_d[mat] for mat in mesh.GetMaterials()])  # デフォルトの物性値\n",
    "        \n",
    "        print(\"nv=\", mesh.nv, \" nedge=\", mesh.nedge, \" nfacet=\", mesh.nfacet, \" ne=\",mesh.ne)\n",
    "\n",
    "    def Print(self):\n",
    "        geo=self.geo\n",
    "        mesh=self.mesh\n",
    "        print(\"Model:\", self.name, \"mur=\", self.mur)\n",
    "        print(\"nv=\", mesh.nv, \" nedge=\", mesh.nedge, \" nfacet=\", mesh.nfacet, \" ne=\",mesh.ne)\n",
    "        for s in geo.solids:\n",
    "            print(\"name:\",s.name, \"  mass:\", s.mass, \"  center:\", s.center)\n",
    "\n"
   ]
  },
  {
   "cell_type": "code",
   "execution_count": 2,
   "id": "e526d86c-99b5-4591-a59d-389c1cfa01bc",
   "metadata": {},
   "outputs": [],
   "source": [
    "from netgen.meshing import *\n",
    "from netgen.csg import *\n",
    "from netgen.occ import *\n",
    "from ngsolve import *\n",
    "from ngsolve.webgui import Draw\n",
    "\n",
    "#import math\n",
    "class SphereMesh():\n",
    "    def __init__(self,  **kwargs):  \n",
    "        self.SetMesh(**kwargs)\n",
    "\n",
    "    def SetMesh(self, **kwargs):\n",
    "        default_values = {\"name\":\"Cube\",\n",
    "                          \"mur\":1000, \n",
    "                          \"sigma\": 5.e7,\n",
    "                          \"msize\": meshsize.moderate,\n",
    "                          \"ndiv\":5,\n",
    "                          \"type\":0,\n",
    "                          \"curveOrder\":1,\n",
    "                          \"rKelvin\":5\n",
    "                         }\n",
    "        \n",
    "        default_values.update(kwargs)\n",
    "        self.name=default_values[\"name\"]\n",
    "        self.mur=default_values[\"mur\"]\n",
    "        self.sigma=default_values[\"sigma\"]\n",
    "        self.msize=default_values[\"msize\"]\n",
    "        ndiv=default_values[\"ndiv\"]\n",
    "        type=default_values[\"type\"]\n",
    "        curveOrder=default_values[\"curveOrder\"]   \n",
    "        rKelvin=default_values[\"rKelvin\"]   \n",
    "        self.curveOrder=curveOrder\n",
    "        self.rKelvin=rKelvin\n",
    "        \n",
    "        iron = Sphere(Pnt(0,0,0.0), r=1)*Box((0,0,0), (1,1,1))\n",
    "        iron.faces.Min(X).name=\"Bn0\"\n",
    "        iron.faces.Min(Y).name=\"Bn0\"\n",
    "        iron.faces.Min(Z).name=\"Ht0\"\n",
    "        if type==1:\n",
    "            iron.face[0].name=\"A_Omega_boundary\"\n",
    "        iron.mat(\"iron\")\n",
    "        #iron.maxh=1.0/ndiv\n",
    " \n",
    "        A_domain =  Sphere(Pnt(0,0,0.0), r=1.5)*Box((0,0,0), (1.5,1.5,1.5))\n",
    "        #A_domain.faces.Min(Z).Identify(A_domain.faces.Max(Z), \"bot-top\", type=IdentificationType.CLOSESURFACES)\n",
    "\n",
    "        A_domain.faces.Min(X).name=\"Bn0\"\n",
    "        A_domain.faces.Min(Y).name=\"Bn0\"\n",
    "        A_domain.faces.Min(Z).name=\"Ht0\"\n",
    "        if type==0:\n",
    "            A_domain.faces[0].name=\"A_Omega_boundary\"\n",
    "            A_domain.mat(\"A_domain\")\n",
    "        elif type==1:\n",
    "            A_domain.mat(\"Omega_domain\")\n",
    "        #A_domain.maxh=1.0/ndiv\n",
    "\n",
    "        rk=rKelvin\n",
    "        Omega_domain=Sphere(Pnt(0,0,0.0), r=rk)*Box((0,0,0), (rk,rk,rk))\n",
    "        #Omega_domain.faces[0].Identify(Omega_domain.faces[4], \"ud0\",  IdentificationType.PERIODIC)\n",
    "        Omega_domain.faces.Min(X).name=\"Bn0\"\n",
    "        Omega_domain.faces.Min(Y).name=\"Bn0\"\n",
    "        Omega_domain.faces.Min(Z).name=\"Ht0\"\n",
    "        #Omega_domain.faces.Max(Y).name=\"Omega0\"\n",
    "        #Omega_domain.faces.Max(X).name=\"Omega0\"\n",
    "        #Omega_domain.faces.Max(Z).name=\"Omega0\"\n",
    "        #Omega_domain.faces.Min(Z).Identify(Omega_domain.faces.Max(Z), \"bot-top\", type=IdentificationType.CLOSESURFACES)\n",
    "        Omega_domain.mat(\"Omega_domain\")\n",
    "        #Omega_domain.maxh=rk/5\n",
    "\n",
    "        rk=rKelvin\n",
    "        center=rk*2\n",
    "        external_domain = Sphere(Pnt(center,0,0.), r=rk)*Box((center,0,0), (center+rk,rk,rk))\n",
    "        external_domain.faces.Min(X).name=\"Bn0\"\n",
    "        external_domain.faces.Min(Y).name=\"Bn0\"\n",
    "        external_domain.faces.Min(Z).name=\"Ht0\"\n",
    "        external_domain.mat(\"Kelvin\")\n",
    "        #external_domain.maxh=rk/5\n",
    "\n",
    "        external_domain.faces[0].Identify(Omega_domain.faces[0], \"ud0\",  IdentificationType.PERIODIC)\n",
    "        \n",
    "        geo=Glue([iron, A_domain, Omega_domain, external_domain])\n",
    "        \n",
    "        occgeo =OCCGeometry(geo)\n",
    "        #ngmesh = occgeo.GenerateMesh(self.msize, quad_dominated=False)\n",
    "        #ngmesh = occgeo.GenerateMesh(grading=0.05)\n",
    "        ngmesh = occgeo.GenerateMesh(self.msize)\n",
    "        #ngmesh.ZRefine(\"bot-top\", [])\n",
    "        print(\"curveOrder=\", curveOrder)\n",
    "        mesh = Mesh(ngmesh).Curve(curveOrder)\n",
    "\n",
    "        self.geo=geo\n",
    "        self.mesh=mesh\n",
    "        if type==0:\n",
    "            self.reduced_region=\"Omega_domain\"\n",
    "            self.total_region=\"iron|A_domain\"\n",
    "        elif type==1:\n",
    "            self.reduced_region=\"A_domain|Omega_domain\"\n",
    "            self.total_region=\"iron\"           \n",
    "        self.total_boundary=\"A_Omega_boundary\"\n",
    "        self.reduced_boundary=\"Omega0\"\n",
    "        self.Bn0_boundary=\"Bn0\"\n",
    "        self.Ht0_boundary=\"Ht0\"\n",
    "\n",
    "        import math\n",
    "        mur=self.mur\n",
    "        mu0=4.e-7*math.pi\n",
    "        mu=mu0*mur\n",
    "        mu_d={\"iron\":mu,  \"A_domain\":mu0, \"Omega_domain\":mu0,\"Kelvin\":mu0, 'default':mu0}\n",
    "        self.Mu = CoefficientFunction([mu_d[mat] for mat in mesh.GetMaterials()])  # デフォルトの物性値\n",
    "        mu_sigma={\"iron\":self.sigma,  \"A_domain\":0, \"Omega_domain\":0,\"Kelvin\":0, 'default':0}\n",
    "        self.Sigma = CoefficientFunction([mu_sigma[mat] for mat in mesh.GetMaterials()])  # デフォルトの物性値\n",
    "        \n",
    "        print(\"nv=\", mesh.nv, \" nedge=\", mesh.nedge, \" nfacet=\", mesh.nfacet, \" ne=\",mesh.ne)\n",
    "\n",
    "    def Print(self):\n",
    "        geo=self.geo\n",
    "        mesh=self.mesh\n",
    "        print(\"Model:\", self.name, \"mur=\", self.mur)\n",
    "        print(\"nv=\", mesh.nv, \" nedge=\", mesh.nedge, \" nfacet=\", mesh.nfacet, \" ne=\",mesh.ne)\n",
    "        for s in geo.solids:\n",
    "            print(\"name:\",s.name, \"  mass:\", s.mass, \"  center:\", s.center)"
   ]
  },
  {
   "cell_type": "code",
   "execution_count": 3,
   "id": "67646947-5094-47ed-a5f9-f0a968f29b8a",
   "metadata": {
    "scrolled": true
   },
   "outputs": [
    {
     "name": "stdout",
     "output_type": "stream",
     "text": [
      "curveOrder= 3\n",
      "nv= 105  nedge= 434  nfacet= 570  ne= 239\n"
     ]
    },
    {
     "data": {
      "application/vnd.jupyter.widget-view+json": {
       "model_id": "4c8d64bb471d44e6bfdae72b2465f83d",
       "version_major": 2,
       "version_minor": 0
      },
      "text/plain": [
       "WebGuiWidget(layout=Layout(height='50vh', width='100%'), value={'gui_settings': {}, 'ngsolve_version': '6.2.24…"
      ]
     },
     "metadata": {},
     "output_type": "display_data"
    },
    {
     "name": "stdout",
     "output_type": "stream",
     "text": [
      "enter iccg_solve\n",
      "Dof= 3286    Nonzeros= 148770\n",
      "shift parameter= 1.0\n",
      "minimum residual= 7.508637077399819e-09  at iteraions:  42\n"
     ]
    },
    {
     "data": {
      "image/png": "[encoded data removed]",
      "text/plain": [
       "<Figure size 640x480 with 1 Axes>"
      ]
     },
     "metadata": {},
     "output_type": "display_data"
    },
    {
     "name": "stdout",
     "output_type": "stream",
     "text": [
      "ICCG calculation time (sec): 0.018024699995294213\n",
      "*** Ar ***\n"
     ]
    },
    {
     "data": {
      "application/vnd.jupyter.widget-view+json": {
       "model_id": "bae0be2ac43a46ae98f4ff861db96220",
       "version_major": 2,
       "version_minor": 0
      },
      "text/plain": [
       "WebGuiWidget(layout=Layout(height='50vh', width='100%'), value={'gui_settings': {}, 'ngsolve_version': '6.2.24…"
      ]
     },
     "metadata": {},
     "output_type": "display_data"
    },
    {
     "name": "stdout",
     "output_type": "stream",
     "text": [
      "feOrder= 3    ndof= 4001   \n",
      "center magnetic field =  (-0.002048108532713967, -2.7847990496655162e-14, 2.9927994443669097)   \n",
      "magnetic energy= 1866.000145462595   \n",
      "**** B field ****\n"
     ]
    },
    {
     "data": {
      "application/vnd.jupyter.widget-view+json": {
       "model_id": "d792975675374d8f96018fad7ae89431",
       "version_major": 2,
       "version_minor": 0
      },
      "text/plain": [
       "WebGuiWidget(layout=Layout(height='50vh', width='100%'), value={'gui_settings': {}, 'ngsolve_version': '6.2.24…"
      ]
     },
     "metadata": {},
     "output_type": "display_data"
    },
    {
     "name": "stdout",
     "output_type": "stream",
     "text": [
      "経過時間: 0.7010 秒  \n"
     ]
    }
   ],
   "source": [
    "from ngsolve import *\n",
    "from netgen.occ import *\n",
    "from ngsolve.webgui import Draw\n",
    "from netgen.webgui import Draw as DrawGeo  \n",
    "sys.path.append(r'..\\Static') \n",
    "from Omega_ReducedOmega import Omega_ReducedOmega_Method\n",
    "from A_ReducedOmega import A_ReducedOmega_Method\n",
    "from A_ReducedA import A_ReducedA_Method\n",
    "sys.path.append(r'..\\bin\\Release') \n",
    "from EMPY_Field import *\n",
    "\n",
    "coil=UNIF(0,0,1,0)\n",
    "#model=CubeMesh(msize=meshsize.coarse, curveOrder=3, rKelvin=5)\n",
    "model=SphereMesh(sigma=5.e7, msize=meshsize.coarse, curveOrder=3, rKelvin=2)\n",
    "mesh=model.mesh\n",
    "Draw(mesh)\n",
    "\n",
    "\n",
    "feOrder=3\n",
    "#cal=Omega_ReducedOmega_Method(model, coil, feOrder=feOrder, boundaryCD=\"Bn0\", Kelvin=\"on\")\n",
    "cal=A_ReducedA_Method(model, coil, feOrder=feOrder, Kelvin=\"on\")\n",
    "#maxerror, error=cal.CalcError()"
   ]
  },
  {
   "cell_type": "code",
   "execution_count": 4,
   "id": "fecb3b39-4938-4cfa-acb2-f63d0d027a16",
   "metadata": {
    "scrolled": true
   },
   "outputs": [
    {
     "data": {
      "text/plain": [
       "'\\niter=0\\nfor iter in range(6):\\n#while cal.fes.ndof < 100000:\\n    iter=iter+1\\n    print(\"Adaptive iteration: \",iter) \\n    maxerror, error=cal.CalcError()\\n    cal.Refine(maxerror, error)\\n    Draw(mesh)\\n    cal=A_ReducedA_Method(model, coil, feOrder=feOrder, boundaryCD=\"Bn0\", Kelvin=\"on\")\\n    #cal=Omega_ReducedOmega_Method(model, coil, feOrder=feOrder, boundaryCD=\"Bn0\")\\n'"
      ]
     },
     "execution_count": 4,
     "metadata": {},
     "output_type": "execute_result"
    }
   ],
   "source": [
    "\"\"\"\n",
    "iter=0\n",
    "for iter in range(6):\n",
    "#while cal.fes.ndof < 100000:\n",
    "    iter=iter+1\n",
    "    print(\"Adaptive iteration: \",iter) \n",
    "    maxerror, error=cal.CalcError()\n",
    "    cal.Refine(maxerror, error)\n",
    "    Draw(mesh)\n",
    "    cal=A_ReducedA_Method(model, coil, feOrder=feOrder, boundaryCD=\"Bn0\", Kelvin=\"on\")\n",
    "    #cal=Omega_ReducedOmega_Method(model, coil, feOrder=feOrder, boundaryCD=\"Bn0\")\n",
    "\"\"\""
   ]
  },
  {
   "cell_type": "code",
   "execution_count": null,
   "id": "8e4cda09-8fd9-4f59-9306-3abe269b9ca0",
   "metadata": {},
   "outputs": [],
   "source": []
  }
 ],
 "metadata": {
  "kernelspec": {
   "display_name": "Python 3 (ipykernel)",
   "language": "python",
   "name": "python3"
  },
  "language_info": {
   "codemirror_mode": {
    "name": "ipython",
    "version": 3
   },
   "file_extension": ".py",
   "mimetype": "text/x-python",
   "name": "python",
   "nbconvert_exporter": "python",
   "pygments_lexer": "ipython3",
   "version": "3.10.5"
  }
 },
 "nbformat": 4,
 "nbformat_minor": 5
}
