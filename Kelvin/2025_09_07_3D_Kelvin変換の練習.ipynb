{
 "cells": [
  {
   "cell_type": "markdown",
   "id": "popular-speaker",
   "metadata": {},
   "source": [
    "# 3D Example"
   ]
  },
  {
   "cell_type": "code",
   "execution_count": 1,
   "id": "valid-restriction",
   "metadata": {},
   "outputs": [
    {
     "name": "stdout",
     "output_type": "stream",
     "text": [
      "('iron', 'default', 'default')\n",
      "('default', 'default', 'default', 'default', 'gnd', 'default', 'outer', 'default', 'gnd', 'default', 'outer', 'default', 'gnd', 'default')\n"
     ]
    },
    {
     "data": {
      "application/vnd.jupyter.widget-view+json": {
       "model_id": "10d14a37e0dc4960a76dee817b1c02d4",
       "version_major": 2,
       "version_minor": 0
      },
      "text/plain": [
       "WebGuiWidget(layout=Layout(height='50vh', width='100%'), value={'gui_settings': {}, 'ngsolve_version': '6.2.24…"
      ]
     },
     "metadata": {},
     "output_type": "display_data"
    },
    {
     "data": {
      "application/vnd.jupyter.widget-view+json": {
       "model_id": "92a98fe9768f4c0684e119bc3f84754c",
       "version_major": 2,
       "version_minor": 0
      },
      "text/plain": [
       "WebGuiWidget(layout=Layout(height='50vh', width='100%'), value={'gui_settings': {}, 'ngsolve_version': '6.2.24…"
      ]
     },
     "metadata": {},
     "output_type": "display_data"
    }
   ],
   "source": [
    "from ngsolve import *\n",
    "from netgen.occ import *\n",
    "from netgen.meshing import MeshingParameters\n",
    "from netgen.webgui import Draw\n",
    "\n",
    "iron = Box((0,0,0),(1,1,1))\n",
    "iron.name = \"iron\"\n",
    "iron.maxh = 0.2\n",
    "internal_domain = Sphere(Pnt(0,0,0.0), r=2)*Box((0,0,0), (5,5,5))\n",
    "internal_domain.name = \"air\"\n",
    "internal_domain.maxh = 1.0\n",
    "internal_domain.faces.Min(Z).name = \"gnd\"\n",
    "internal_domain.faces[0].name = \"outer\"\n",
    "\n",
    "external_domain=Sphere(Pnt(3,0,0.0), r=2)*Box((3,0,0), (3+5,5,5))\n",
    "external_domain.name = \"air\"\n",
    "external_domain.maxh = 1.0\n",
    "external_domain.faces.Min(Z).name = \"gnd\"\n",
    "external_domain.faces[0].name = \"outer\"\n",
    "\n",
    "external_domain.faces[0].Identify(internal_domain.faces[0], \"id\")\n",
    "domain = Glue([iron, internal_domain, external_domain])\n",
    "#Draw(domain)\n",
    "\n",
    "geo = OCCGeometry(domain, dim=3)\n",
    "mp = MeshingParameters(maxh=20.0, segmentsperedge=1, grading=0.7)\n",
    "\n",
    "from ngsolve.webgui import Draw\n",
    "mesh = Mesh(geo.GenerateMesh(mp)).Curve(2)\n",
    "\n",
    "print(mesh.GetMaterials())\n",
    "print(mesh.GetBoundaries())\n",
    "\n",
    "plist = []\n",
    "for pair in mesh.ngmesh.GetIdentifications():\n",
    "    plist += list(mesh.ngmesh[pair[0]].p)\n",
    "    plist += list(mesh.ngmesh[pair[1]].p)\n",
    "#   print([mesh.vertices[pair[0]-1].point, mesh.vertices[pair[1]-1].point])\n",
    "Draw(mesh, objects=[{\"type\" : \"lines\", \"position\" : plist, \"name\": \"identification\", \"color\": \"red\"}]);\n",
    "\n",
    "fes = Periodic(H1(mesh, order=1, dirichlet='gnd'))\n",
    "u = fes.TrialFunction()\n",
    "v = fes.TestFunction()\n",
    "\n",
    "a = BilinearForm(fes) \n",
    "a += grad(u)*grad(v)*dx\n",
    "a.Assemble()\n",
    "\n",
    "f = LinearForm(fes)\n",
    "f += v*z*dx(definedon=mesh.Materials(\"iron\"))\n",
    "f.Assemble()\n",
    "\n",
    "gfu = GridFunction(fes)\n",
    "gfu.vec.data = a.mat.Inverse(fes.FreeDofs()) * f.vec\n",
    "Draw (gfu, mesh);\n"
   ]
  },
  {
   "cell_type": "code",
   "execution_count": null,
   "id": "sized-junction",
   "metadata": {},
   "outputs": [],
   "source": []
  }
 ],
 "metadata": {
  "kernelspec": {
   "display_name": "Python 3 (ipykernel)",
   "language": "python",
   "name": "python3"
  },
  "language_info": {
   "codemirror_mode": {
    "name": "ipython",
    "version": 3
   },
   "file_extension": ".py",
   "mimetype": "text/x-python",
   "name": "python",
   "nbconvert_exporter": "python",
   "pygments_lexer": "ipython3",
   "version": "3.12.10"
  }
 },
 "nbformat": 4,
 "nbformat_minor": 5
}
