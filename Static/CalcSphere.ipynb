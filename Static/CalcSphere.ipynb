{
 "cells": [
  {
   "cell_type": "code",
   "execution_count": 1,
   "id": "67646947-5094-47ed-a5f9-f0a968f29b8a",
   "metadata": {
    "scrolled": true
   },
   "outputs": [
    {
     "name": "stdout",
     "output_type": "stream",
     "text": [
      "curveOrder= 3\n",
      "nv= 105  nedge= 434  nfacet= 570  ne= 239\n"
     ]
    },
    {
     "data": {
      "application/vnd.jupyter.widget-view+json": {
       "model_id": "32fab485b5ae44dcbfaf864acead2d54",
       "version_major": 2,
       "version_minor": 0
      },
      "text/plain": [
       "WebGuiWidget(layout=Layout(height='50vh', width='100%'), value={'gui_settings': {}, 'ngsolve_version': '6.2.24…"
      ]
     },
     "metadata": {},
     "output_type": "display_data"
    },
    {
     "name": "stdout",
     "output_type": "stream",
     "text": [
      "enter iccg_solve\n",
      "Dof= 1160    Nonzeros= 47242\n",
      "shift parameter= 1.0\n",
      "minimum residual= 6.454369271466025e-09  at iteraions:  29\n"
     ]
    },
    {
     "data": {
      "image/png": "[encoded data removed]",
      "text/plain": [
       "<Figure size 640x480 with 1 Axes>"
      ]
     },
     "metadata": {},
     "output_type": "display_data"
    },
    {
     "name": "stdout",
     "output_type": "stream",
     "text": [
      "ICCG calculation time (sec): 0.004686600000241015\n",
      "feOrder= 3    ndof= 1543   \n",
      "経過時間: 0.5195 秒  \n",
      "center magnetic field =  (-1.1283327138464487e-12, 0.0018076501141147043, 2.9931296667474485)   \n",
      " Average magnetic energy in conductor=\n"
     ]
    },
    {
     "data": {
      "application/vnd.jupyter.widget-view+json": {
       "model_id": "d7586085f3854dba98d8c94f7e14ac35",
       "version_major": 2,
       "version_minor": 0
      },
      "text/plain": [
       "WebGuiWidget(layout=Layout(height='50vh', width='100%'), value={'gui_settings': {}, 'ngsolve_version': '6.2.24…"
      ]
     },
     "metadata": {},
     "output_type": "display_data"
    }
   ],
   "source": [
    "from ngsolve import *\n",
    "from netgen.occ import *\n",
    "from ngsolve.webgui import Draw\n",
    "from netgen.webgui import Draw as DrawGeo  \n",
    "sys.path.append(r'..\\Static') \n",
    "from Omega_ReducedOmega import Omega_ReducedOmega_Method\n",
    "from A_ReducedOmega import A_ReducedOmega_Method\n",
    "from A_ReducedA import A_ReducedA_Method\n",
    "from A_Phi_ReducedA import A_Phi_ReducedA_Method\n",
    "sys.path.append(r'..\\bin\\Release') \n",
    "from EMPY_Field import *\n",
    "sys.path.append(r'..\\model')\n",
    "from SphereMesh import SphereMesh\n",
    "from BathPlateModel import BathPlateModel\n",
    "from Team7Model import Team7Model\n",
    "\n",
    "\n",
    "#model=SphereMesh(mur=1, sigma=5.e7, msize=meshsize.coarse, curveOrder=3, rKelvin=2)\n",
    "model=SphereMesh(mur=1000,  msize=meshsize.coarse, curveOrder=3, rKelvin=2)\n",
    "Draw(model.mesh)\n",
    "#DrawGeo(model.geo)\n",
    "\n",
    "feOrder=3\n",
    "cal=Omega_ReducedOmega_Method(model,  feOrder=feOrder, boundaryCD=\"Bn0\", Kelvin=\"on\")\n",
    "#cal=A_Phi_ReducedA_Method(model, jomega=True, freq=0.1)\n",
    "cal.Calc( feOrder=feOrder, Kelvin=\"on\", boundaryCD=\"Bn0\", regularization=False, tol=1.e-8)\n",
    "cal.CalcResult(model, plotBFieldonLine=False, drawFields=True, pltBField=True)\n",
    "#maxerror, error=cal.CalcError()\n",
    "#cal.CalcError()\n"
   ]
  },
  {
   "cell_type": "markdown",
   "id": "ba9e59c4-0cd5-4600-9015-24ab0e9a2b4e",
   "metadata": {},
   "source": [
    "Mathematica  \n",
    "Um=24109.6 - 17110.9 I  \n",
    "Pj=18305.3 + 32993.2 I  \n",
    "\n",
    "very caorse ne=44    \n",
    "Um=29152.977730838058-20618.858657114157j    \n",
    "Pj=15048.519194226223+33252.89982907082j\n",
    "\n",
    "coarse  \n",
    "Um=26146.590373414005-18569.488874054114j  \n",
    "Pj=16802.860226759993+31796.38000918764j  \n",
    "\n",
    "moderate  \n",
    "Um=24143.289346728347-17094.02370193622j   \n",
    "Pj=18318.698319999978+32968.13309954526j   \n",
    "\n",
    "fine    \n",
    "Um=24121.69360674798-17104.760817407318j   \n",
    "Pj=18309.888121815544+32984.582040425186j      \n",
    "\n",
    "very_fine  ne= 5004  \n",
    "Um=24111.180175803653-17109.842896500486j\n",
    "Pj=18306.565250782296+32992.76067689554j   "
   ]
  },
  {
   "cell_type": "code",
   "execution_count": 2,
   "id": "fecb3b39-4938-4cfa-acb2-f63d0d027a16",
   "metadata": {},
   "outputs": [
    {
     "data": {
      "text/plain": [
       "'\\niter=0\\n#for iter in range(6):\\nwhile True:\\n    iter=iter+1\\n    print(\"Adaptive iteration: \",iter) \\n    maxerror, error=cal.CalcError()\\n    cal.Refine(maxerror, error)\\n    Draw(mesh)\\n    cal=A_Phi_ReducedA_Method(model, jomega=True, freq=0.1)\\n    rt=cal.Calc(feOrder=feOrder, Kelvin=\"on\", boundaryCD=\"Bn0\", regularization=False, tol=1.e-8)\\n    if rt==0: break\\n    cal.CalcResult(model, plotBFieldonLine=False, drawFields=True, pltBField=True)\\n    #cal=Omega_ReducedOmega_Method(model, coil, feOrder=feOrder, boundaryCD=\"Bn0\")\\n'"
      ]
     },
     "execution_count": 2,
     "metadata": {},
     "output_type": "execute_result"
    }
   ],
   "source": [
    "\"\"\"\n",
    "iter=0\n",
    "#for iter in range(6):\n",
    "while True:\n",
    "    iter=iter+1\n",
    "    print(\"Adaptive iteration: \",iter) \n",
    "    maxerror, error=cal.CalcError()\n",
    "    cal.Refine(maxerror, error)\n",
    "    Draw(mesh)\n",
    "    cal=A_Phi_ReducedA_Method(model, jomega=True, freq=0.1)\n",
    "    rt=cal.Calc(feOrder=feOrder, Kelvin=\"on\", boundaryCD=\"Bn0\", regularization=False, tol=1.e-8)\n",
    "    if rt==0: break\n",
    "    cal.CalcResult(model, plotBFieldonLine=False, drawFields=True, pltBField=True)\n",
    "    #cal=Omega_ReducedOmega_Method(model, coil, feOrder=feOrder, boundaryCD=\"Bn0\")\n",
    "\"\"\"\n"
   ]
  },
  {
   "cell_type": "markdown",
   "id": "429bc051-f91a-46a2-83f9-68f39e9dbed2",
   "metadata": {},
   "source": [
    "Mathematica  \n",
    "Um=24109.6 - 17110.9 I                                                              Pj=18305.3 + 32993.2 I  \n",
    "Magnetic energy in conductor= (29152.977730838058-20618.858657114157j)  Joule loss=  (15048.519194226223+33252.89982907082j)\n",
    "Magnetic energy in conductor= (37828.302384307855-26242.38463379714j)  Joule loss=  (25974.64687238716+48810.56282285748j)\n",
    "Magnetic energy in conductor= (24058.853347047072-16708.54626287997j)  Joule loss=  (17734.066554176097+32439.74892019239j)  "
   ]
  }
 ],
 "metadata": {
  "kernelspec": {
   "display_name": "Python 3 (ipykernel)",
   "language": "python",
   "name": "python3"
  },
  "language_info": {
   "codemirror_mode": {
    "name": "ipython",
    "version": 3
   },
   "file_extension": ".py",
   "mimetype": "text/x-python",
   "name": "python",
   "nbconvert_exporter": "python",
   "pygments_lexer": "ipython3",
   "version": "3.10.5"
  }
 },
 "nbformat": 4,
 "nbformat_minor": 5
}
