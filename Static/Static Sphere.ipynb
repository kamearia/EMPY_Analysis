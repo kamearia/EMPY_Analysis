{
 "cells": [
  {
   "cell_type": "code",
   "execution_count": 2,
   "id": "55c21679-abb3-4249-87e3-9ec33edf9d8e",
   "metadata": {},
   "outputs": [
    {
     "name": "stdout",
     "output_type": "stream",
     "text": [
      "nv= 1457  nedge= 9459  nfacet= 15789  ne= 7786\n",
      "Model: Spere mur= 1000 curveOrder= 3\n",
      "nv= 1457  nedge= 9459  nfacet= 15789  ne= 7786\n",
      "name: iron   mass: 4.18879020478639   center: (-9.48928e-17, -7.80626e-17, 1.05059e-16)\n",
      "name: A_domain   mass: 3.049439269084493   center: (-4.34475e-17, -1.61682e-32, 3.24312e-16)\n",
      "name: Omega_domain   mass: 516.3605461244282   center: (-2.16666e-16, -3.44955e-16, -2.42091e-16)\n"
     ]
    },
    {
     "data": {
      "application/vnd.jupyter.widget-view+json": {
       "model_id": "f4585b7629944ae4b54db620b80557b0",
       "version_major": 2,
       "version_minor": 0
      },
      "text/plain": [
       "WebGuiWidget(layout=Layout(height='50vh', width='100%'), value={'gui_settings': {}, 'ngsolve_version': '6.2.24…"
      ]
     },
     "metadata": {},
     "output_type": "display_data"
    },
    {
     "data": {
      "text/plain": [
       "BaseWebGuiScene"
      ]
     },
     "execution_count": 2,
     "metadata": {},
     "output_type": "execute_result"
    }
   ],
   "source": [
    "from ngsolve import *\n",
    "from netgen.meshing import *\n",
    "import math\n",
    "import sys\n",
    "\"\"\"\n",
    "sys.path.append('..\\include')\n",
    "from MatrixSolver import MatrixSolver as solver \n",
    "\"\"\"\n",
    "sys.path.append(r'..\\bin\\Release') \n",
    "from EMPY_Field import *\n",
    "from ngsolve.webgui import Draw\n",
    "from Models import SphereMesh\n",
    "coil=UNIF(0,0,1,0)\n",
    "\n",
    "from A_ReducedA import A_ReducedA_Method\n",
    "from Omega_ReducedOmega import Omega_ReducedOmega_Method\n",
    "from A_ReducedOmega import A_ReducedOmega_Method\n",
    "\n",
    "model=SphereMesh(mur=1000, curveOrder=3, msize=meshsize.fine, ndiv=4)\n",
    "model.Print()\n",
    "mesh=model.mesh\n",
    "Draw(mesh)"
   ]
  },
  {
   "cell_type": "code",
   "execution_count": 4,
   "id": "01f90e75-d10a-4941-b787-5d42e1f1f0c7",
   "metadata": {},
   "outputs": [
    {
     "name": "stdout",
     "output_type": "stream",
     "text": [
      "enter iccg_solve\n",
      "Dof= 36164    Nonzeros= 1718140\n",
      "shift parameter= 1.0\n",
      "minimum residual= 1.6370741881982481e-18  at iteraions:  83\n"
     ]
    },
    {
     "data": {
      "image/png": "[encoded data removed]",
      "text/plain": [
       "<Figure size 640x480 with 1 Axes>"
      ]
     },
     "metadata": {},
     "output_type": "display_data"
    },
    {
     "name": "stdout",
     "output_type": "stream",
     "text": [
      "ICCG calculation time (sec): 0.5855784000013955\n",
      "feOrder= 3    ndof= 36164   \n",
      "center magnetic field =  (1.0315429688515974e-06, 2.8305790384250564e-06, 2.9470889531420035)   \n",
      "magnetic energy= 28951.510328061446   \n",
      "**** B field ****\n"
     ]
    },
    {
     "data": {
      "application/vnd.jupyter.widget-view+json": {
       "model_id": "28e60bfedb804ccd9a6285850d7a8dd6",
       "version_major": 2,
       "version_minor": 0
      },
      "text/plain": [
       "WebGuiWidget(layout=Layout(height='50vh', width='100%'), value={'gui_settings': {}, 'ngsolve_version': '6.2.24…"
      ]
     },
     "metadata": {},
     "output_type": "display_data"
    },
    {
     "name": "stdout",
     "output_type": "stream",
     "text": [
      "経過時間: 1.9268 秒  \n"
     ]
    },
    {
     "data": {
      "text/plain": [
       "<Omega_ReducedOmega.Omega_ReducedOmega_Method at 0x25322149540>"
      ]
     },
     "execution_count": 4,
     "metadata": {},
     "output_type": "execute_result"
    }
   ],
   "source": [
    "feOrder=3\n",
    "Omega_ReducedOmega_Method(model, coil, feOrder=feOrder, boundaryCD=\"Bn0\")"
   ]
  },
  {
   "cell_type": "code",
   "execution_count": 3,
   "id": "47b73a2c-0bd1-46d5-b8a1-fc466481511a",
   "metadata": {},
   "outputs": [],
   "source": [
    "#feOrder=2\n",
    "#A_ReducedA_Method(model, coil, feOrder=feOrder, boundaryCD=\"Bn0\")"
   ]
  },
  {
   "cell_type": "code",
   "execution_count": 4,
   "id": "edb5f35d-8999-4b36-9938-23b3a84285a0",
   "metadata": {
    "scrolled": true
   },
   "outputs": [
    {
     "data": {
      "text/plain": [
       "'\\nndiv=3\\nndiv=2**ndiv\\nmodel=CubeMesh(mur=1000, msize=meshsize.very_coarse, ndiv=ndiv, type=1)\\nfor feOrder in range(1,2):\\n    A_ReducedA_Method(model, coil, feOrder=feOrder, boundaryCD=\"Bn0\")\\n'"
      ]
     },
     "execution_count": 4,
     "metadata": {},
     "output_type": "execute_result"
    }
   ],
   "source": [
    "\"\"\"\n",
    "ndiv=3\n",
    "ndiv=2**ndiv\n",
    "model=CubeMesh(mur=1000, msize=meshsize.very_coarse, ndiv=ndiv, type=1)\n",
    "for feOrder in range(1,2):\n",
    "    A_ReducedA_Method(model, coil, feOrder=feOrder, boundaryCD=\"Bn0\")\n",
    "\"\"\""
   ]
  },
  {
   "cell_type": "markdown",
   "id": "e965e96a-2f80-4f18-a844-3c5dd396b30f",
   "metadata": {},
   "source": [
    "ICCG calculation time (sec): 0.4919025999988662\n",
    "feOrder= 1    ndof= 100942   \n",
    "center magnetic field =  (0.0, 0.0, 3.4921274286450124)   \n",
    "magnetic energy= 12459.505467618646 \n",
    "\n",
    "ICCG calculation time (sec): 0.04952410000259988\n",
    "feOrder= 1    ndof= 15486   \n",
    "center magnetic field =  (2.9709247960543865e-16, -3.0368127399410497e-16, 3.3953507197559536)   \n",
    "magnetic energy= 10728.858325722651 "
   ]
  },
  {
   "cell_type": "code",
   "execution_count": 5,
   "id": "323ae04e-c667-497e-9a85-1793c42b686e",
   "metadata": {
    "scrolled": true
   },
   "outputs": [
    {
     "ename": "NameError",
     "evalue": "name 'CubeMesh' is not defined",
     "output_type": "error",
     "traceback": [
      "\u001b[1;31m---------------------------------------------------------------------------\u001b[0m",
      "\u001b[1;31mNameError\u001b[0m                                 Traceback (most recent call last)",
      "Cell \u001b[1;32mIn[5], line 4\u001b[0m\n\u001b[0;32m      2\u001b[0m \u001b[38;5;28;01mfor\u001b[39;00m ndiv \u001b[38;5;129;01min\u001b[39;00m \u001b[38;5;28mrange\u001b[39m(\u001b[38;5;241m4\u001b[39m,\u001b[38;5;241m5\u001b[39m):\n\u001b[0;32m      3\u001b[0m     ndiv\u001b[38;5;241m=\u001b[39m\u001b[38;5;241m2\u001b[39m\u001b[38;5;241m*\u001b[39m\u001b[38;5;241m*\u001b[39mndiv\n\u001b[1;32m----> 4\u001b[0m     model\u001b[38;5;241m=\u001b[39m\u001b[43mCubeMesh\u001b[49m(mur\u001b[38;5;241m=\u001b[39m\u001b[38;5;241m1000\u001b[39m, ndiv\u001b[38;5;241m=\u001b[39mndiv)\n\u001b[0;32m      5\u001b[0m     Draw(model\u001b[38;5;241m.\u001b[39mmesh)\n\u001b[0;32m      6\u001b[0m     model\u001b[38;5;241m.\u001b[39mPrint()\n",
      "\u001b[1;31mNameError\u001b[0m: name 'CubeMesh' is not defined"
     ]
    }
   ],
   "source": [
    "\n",
    "feOrder=1\n",
    "for ndiv in range(4,5):\n",
    "    ndiv=2**ndiv\n",
    "    model=CubeMesh(mur=1000, ndiv=ndiv)\n",
    "    Draw(model.mesh)\n",
    "    model.Print()\n",
    "    A_ReducedOmega_Method(model, coil, feOrder=feOrder, boundaryCD=\"Bn0\")\n"
   ]
  },
  {
   "cell_type": "markdown",
   "id": "6c1f60c0-4c71-4250-b0b7-a61ded6c5054",
   "metadata": {},
   "source": [
    "feOrder=5\n",
    "k= 0   Wm= 11432.890765134869\n",
    "k= 1   Wm= 11438.036963840852\n",
    "k= 2   Wm= 11438.036963840852\n",
    "k= 3   Wm= 11438.471003353945\n",
    "k= 4   Wm= 11438.471003353945\n",
    "k= 5   Wm= 11438.471003353898\n",
    "k= 6   Wm= 11438.471003353898\n",
    "k= 7   Wm= 11438.471003353901\n",
    "k= 8   Wm= 11438.471003353901\n",
    "k= 9   Wm= 11438.471003353705\n",
    "k= 10   Wm= 11438.471003353705\n",
    "magnetic energy= 11432.890765134869\n",
    "\n",
    "feOrder=6\n",
    "k= 0   Wm= 11464.073724724947\n",
    "k= 1   Wm= 11475.463653265768\n",
    "k= 2   Wm= 11475.463653265768\n",
    "k= 3   Wm= 11476.310128967762\n",
    "k= 4   Wm= 11476.310128967762\n",
    "k= 5   Wm= 11476.508350197375\n",
    "k= 6   Wm= 11476.508350197375\n",
    "k= 7   Wm= 11476.508350197377\n",
    "k= 8   Wm= 11476.508350197377\n",
    "k= 9   Wm= 11476.508350197171\n",
    "k= 10   Wm= 11476.508350197171\n",
    "magnetic energy= 11464.073724724947"
   ]
  },
  {
   "cell_type": "code",
   "execution_count": null,
   "id": "3440dd21-1179-40a9-bdfe-aad20efd903c",
   "metadata": {},
   "outputs": [],
   "source": [
    "#for feOrder in range(1,9):\n",
    "#    Omega_ReducedOmega_Method(model, coil, feOrder=feOrder, boundaryCD=\"Bn0\")"
   ]
  },
  {
   "cell_type": "code",
   "execution_count": null,
   "id": "5b32dc36-46a4-4029-afad-9e4b4e384b7e",
   "metadata": {},
   "outputs": [],
   "source": [
    "#Omega_ReducedOmega_Method(model, coil, feOrder=feOrder, boundaryCD=\"Bn0\")"
   ]
  },
  {
   "cell_type": "code",
   "execution_count": null,
   "id": "259b286e-91f8-4f03-b4e0-dc041e990222",
   "metadata": {},
   "outputs": [],
   "source": [
    "#A_ReducedOmega_Method(model, coil, feOrder=feOrder, boundaryCD=\"Bn0\")"
   ]
  },
  {
   "cell_type": "code",
   "execution_count": null,
   "id": "d5f69d12-5a83-4757-ad9d-2798d9a5913f",
   "metadata": {},
   "outputs": [],
   "source": [
    "        \"\"\"\n",
    "        with TaskManager():\n",
    "        a.Assemble()\n",
    "        gf=GridFunction(fes)\n",
    "        gf.vec.data += a.mat.Inverse(freedofs=fes.FreeDofs()) * f.vec\n",
    "        \"\"\""
   ]
  },
  {
   "cell_type": "code",
   "execution_count": null,
   "id": "704a13ef-e449-4d89-8c11-c16024008c68",
   "metadata": {},
   "outputs": [],
   "source": [
    "        \"\"\"\n",
    "        a += 1e-8/mua*A*N*dx(\"iron\")+1e-8/mu0*A*N*dx(\"A_domain\")\n",
    "        c = Preconditioner(a, \"bddc\")\n",
    "        #c = Preconditioner(a, \"local\")\n",
    "        with TaskManager():\n",
    "            a.Assemble()\n",
    "        gf = GridFunction(fes)\n",
    "        solver = GMRESSolver(a.mat, pre=c.mat)\n",
    "        with TaskManager():\n",
    "            solvers.CG(sol=gf.vec, rhs=f.vec, mat=a.mat, pre=c.mat, printrates=True)\n",
    "        \"\"\""
   ]
  },
  {
   "cell_type": "code",
   "execution_count": null,
   "id": "ac258d28-a5a0-4a4a-b6a6-21936c1e68bc",
   "metadata": {},
   "outputs": [],
   "source": [
    "\"\"\"\n",
    "print(\"nv=\", mesh.nv, \" nedge=\", mesh.nedge, \" nfacet=\", mesh.nfacet, \" ne=\",mesh.ne)\n",
    "print(mesh.GetMaterials())\n",
    "for v in mesh.vertices:\n",
    "    print( v.nr, v.point)\n",
    "for ed in mesh.edges:\n",
    "    print(ed, ed.vertices)\n",
    "for el in mesh.Elements():\n",
    "    print( el.nr, el.mat, el.vertices, el.edges, el.faces)\n",
    "\n",
    "print(\"ndof=\", fes.ndof)\n",
    "print(fes.FreeDofs())\n",
    "for el in mesh.Elements():\n",
    "    print(fes.GetDofNrs(el))\n",
    "\"\"\"\n",
    "\n",
    "\"\"\"\n",
    "print(\"ndof=\", fesA.ndof)\n",
    "print(fesA.FreeDofs())\n",
    "for el in mesh.Elements():\n",
    "    print(fesA.GetDofNrs(el))\n",
    "\n",
    "print(\"ndof=\", fesOmega.ndof)\n",
    "print(fesOmega.FreeDofs())\n",
    "for el in mesh.Elements():\n",
    "    print(fesOmega.GetDofNrs(el))\n",
    "\n",
    "from ngsolve.webgui import Draw\n",
    "gf = GridFunction(fesA)\n",
    "print(\"dof=\", fesA.ndof)\n",
    "for n in range(fesA.ndof):\n",
    "    gf.vec.FV()[n]= 0\n",
    "#print([m])\n",
    "gf.vec.FV()[10]= 1\n",
    "Draw (gf)\n",
    "\"\"\""
   ]
  },
  {
   "attachments": {
    "beac103b-3467-45dd-a109-dd8f6f321eb7.png": {
     "image/png": "[encoded data removed]"
    }
   },
   "cell_type": "markdown",
   "id": "bf314a63-cc7e-48ed-afd2-89c4a7b59338",
   "metadata": {},
   "source": [
    "meshsize.coarse\n",
    "\n",
    "feOrder= 1   \n",
    "nv= 384  nedge= 2151  nfacet= 3328  ne= 1560\n",
    "ndof= 2535   \n",
    "center magnetic field =  (0.0, 0.13648550675761853, 3.8822326063047488)   \n",
    "magnetic energy= 12575.928132032475   \n",
    "経過時間: 10.6726 秒  \n",
    "enter iccg_solve\n",
    "Dof= 1126  Nonzeros= 16010  symmetric matrix size= 8568.0\n",
    "shift parameter= 1.0\n",
    "minimum residual= 4.023818902577089e-13  at iteraions:  48\n",
    "\n",
    "feOrder= 2   \n",
    "nv= 384  nedge= 2151  nfacet= 3328  ne= 1560\n",
    "ndof= 7058   \n",
    "center magnetic field =  (0.0, -0.07448297716955096, 3.441529057512686)   \n",
    "magnetic energy= 12129.622568449831   \n",
    "経過時間: 4.1067 秒 \n",
    "enter iccg_solve\n",
    "Dof= 5279  Nonzeros= 135587  symmetric matrix size= 70433.0\n",
    "shift parameter= 1.0\n",
    "minimum residual= 1.0590739344522164e-12  at iteraions:  187\n",
    "\n",
    "feOrder= 3   \n",
    "nv= 384  nedge= 2151  nfacet= 3328  ne= 1560\n",
    "ndof= 17235   \n",
    "center magnetic field =  (0.0, -0.00577938933757507, 3.5583735344109964)   \n",
    "magnetic energy= 12245.624515698084   \n",
    "経過時間: 3.8810 秒 \n",
    "enter iccg_solve\n",
    "Dof= 14886  Nonzeros= 675891  symmetric matrix size= 345388.5\n",
    "shift parameter= 1.0\n",
    "minimum residual= 1.3969153168293444e-12  at iteraions:  277\n",
    "\n",
    "feOrder= 6   \n",
    "nv= 384  nedge= 2151  nfacet= 3328  ne= 1560\n",
    "ndof= 104490   \n",
    "center magnetic field =  (0.0, 7.769305790574445e-06, 3.566723363269401)   \n",
    "magnetic energy= 12342.56448263178   \n",
    "経過時間: 51.8855 秒  \n",
    "enter iccg_solve\n",
    "Dof= 99231  Nonzeros= 16638504  symmetric matrix size= 8368867.5\n",
    "shift parameter= 1.0\n",
    "minimum residual= 2.165483052807027e-12  at iteraions:  734\n",
    "\n",
    "a.mat.Inverse\n",
    "feOrder= 6   \n",
    "nv= 384  nedge= 2151  nfacet= 3328  ne= 1560\n",
    "ndof= 104490   \n",
    "center magnetic field =  (0.0, 7.755773891963375e-06, 3.566723375220046)   \n",
    "magnetic energy= 12342.564485475083   \n",
    "経過時間: 18.8254 秒  \n",
    "![image.png](attachment:beac103b-3467-45dd-a109-dd8f6f321eb7.png)\n",
    "\n",
    "meshsize.fine\n",
    "\n",
    "feOrder= 1   \n",
    "enter iccg_solve\n",
    "nv= 2639  nedge= 16366  nfacet= 26618  ne= 12890\n",
    "ndof= 19005   \n",
    "center magnetic field =  (0.0, 0.0, 3.5973786148289246)   \n",
    "magnetic energy= 12179.921019624098   \n",
    "経過時間: 1.8049 秒  \n",
    "Dof= 8882  Nonzeros= 134846  symmetric matrix size= 71864.0\n",
    "shift parameter= 1.06\n",
    "minimum residual= 4.870886337406865e-13  at iteraions:  84\n",
    "\n",
    "enter iccg_solve\n",
    "feOrder= 5   \n",
    "nv= 2639  nedge= 16366  nfacet= 26618  ne= 12890\n",
    "ndof= 520775   \n",
    "center magnetic field =  (-1.0032272515336623e-39, 9.643647873364105e-40, 3.567305166599915)   \n",
    "magnetic energy= 12360.950080273635   \n",
    "経過時間: 79.0045 秒\n",
    " magnetic energy= 12360.950080273635   \n",
    "経過時間: 79.0045 秒  \n",
    "Dof= 497688  Nonzeros= 59831900  symmetric matrix size= 30164794.0\n",
    "shift parameter= 1.06\n",
    "minimum residual= 4.376304864760951e-12  at iteraions:  230\n",
    "\n",
    "feOrder= 6   \n",
    "nv= 2639  nedge= 16366  nfacet= 26618  ne= 12890\n",
    "ndof= 860260   \n",
    "center magnetic field =  (1.6252957936518763e-40, -1.5623359812123905e-40, 3.567553236498278)   \n",
    "magnetic energy= 12366.42875120857   \n",
    "経過時間: 256.1622 秒 \n",
    "enter iccg_solve\n",
    "Dof= 831522  Nonzeros= 145658402  symmetric matrix size= 73244962.0\n",
    "shift parameter= 1.06\n",
    "minimum residual= 1.1119254036259493e-11  at iteraions:  422\n",
    "\n",
    "\"bddc\"\n",
    "feOrder= 1   \n",
    "nv= 2639  nedge= 16366  nfacet= 26618  ne= 12890\n",
    "ndof= 19005   \n",
    "center magnetic field =  (0.0, 0.0, 3.597378599442934)   \n",
    "magnetic energy= 12179.920950620493   \n",
    "経過時間: 3.1884 秒 \n",
    "CG iteration 1, residual = 2071.2362470318703     \n",
    "CG iteration 2, residual = 2.2422268129359974e-06     \n",
    "CG iteration 3, residual = 8.870933401796136e-11   \n",
    "\n",
    "\n",
    "a.mat.Inverse\n",
    "feOrder= 1   \n",
    "nv= 2639  nedge= 16366  nfacet= 26618  ne= 12890\n",
    "ndof= 19005   \n",
    "center magnetic field =  (0.0, 0.0, 3.597378614826003)   \n",
    "magnetic energy= 12179.921019622425   \n",
    "経過時間: 3.2571 秒 \n",
    "\n",
    "feOrder= 3   \n",
    "nv= 2639  nedge= 16366  nfacet= 26618  ne= 12890\n",
    "ndof= 137542   \n",
    "center magnetic field =  (-2.232454635139055e-37, 2.1459750382207594e-37, 3.5657416580228847)   \n",
    "magnetic energy= 12326.599466477426   \n",
    "経過時間: 10.1959 秒 \n",
    "\n",
    "feOrder= 5   \n",
    "nv= 2639  nedge= 16366  nfacet= 26618  ne= 12890\n",
    "ndof= 520775   \n",
    "center magnetic field =  (-1.0032113462227169e-39, 9.64349498156632e-40, 3.5673051665833153)   \n",
    "magnetic energy= 12360.950080271783   \n",
    "経過時間: 174.2252 秒  \n",
    "\n",
    "feOrder= 6\n",
    "NgException: PardisoInverse: Setup and Factorization failed"
   ]
  },
  {
   "cell_type": "code",
   "execution_count": null,
   "id": "552c52ce-e911-472d-bc3e-c6acd976e541",
   "metadata": {},
   "outputs": [],
   "source": []
  }
 ],
 "metadata": {
  "kernelspec": {
   "display_name": "my_env",
   "language": "python",
   "name": "my_env"
  },
  "language_info": {
   "codemirror_mode": {
    "name": "ipython",
    "version": 3
   },
   "file_extension": ".py",
   "mimetype": "text/x-python",
   "name": "python",
   "nbconvert_exporter": "python",
   "pygments_lexer": "ipython3",
   "version": "3.10.5"
  }
 },
 "nbformat": 4,
 "nbformat_minor": 5
}
