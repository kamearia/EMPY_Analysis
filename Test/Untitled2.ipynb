{
 "cells": [
  {
   "cell_type": "code",
   "execution_count": 1,
   "id": "1e4bbc4a-3792-4ebd-8136-bbfdd9459376",
   "metadata": {},
   "outputs": [
    {
     "data": {
      "application/vnd.jupyter.widget-view+json": {
       "model_id": "377b162121274b3e93cc55c08eedae8e",
       "version_major": 2,
       "version_minor": 0
      },
      "text/plain": [
       "WebGuiWidget(layout=Layout(height='50vh', width='100%'), value={'gui_settings': {'Objects': {'Clipping Plane':…"
      ]
     },
     "metadata": {},
     "output_type": "display_data"
    }
   ],
   "source": [
    "from netgen.csg import *\n",
    "geo = CSGeometry()\n",
    "brick = OrthoBrick(Pnt(-2,-2,-2), Pnt(2,2,2))\n",
    "sphere = Sphere(Pnt(0,0,0),1)\n",
    "\n",
    "from netgen.meshing import MeshingParameters\n",
    "mp = MeshingParameters(maxh=0.5, grading=0.2, optimize3d=\"m\")\n",
    "mp.RestrictH(x=0, y=0, z=1, h=0.01) \n",
    "\n",
    "geo.Add(brick-sphere)\n",
    "geo.Add(sphere)\n",
    "\n",
    "ngmesh = geo.GenerateMesh(mp=mp)\n",
    "ngmesh.Curve(2)\n",
    "ngmesh.SetMaterial(1, \"brick\")\n",
    "ngmesh.SetMaterial(2, \"sphere\")\n",
    "\n",
    "from ngsolve.webgui import Draw\n",
    "Draw(ngmesh, order=2, settings={\"Objects\":{\"Clipping Plane\":True, \"Vectors\":True}, \"Colormap\":{\"autoscale\":False, \"min\":0, \"max\":0.05, \"ncolors\":32}, \"Clipping\":{\"enable\":True, \"x\":1, \"y\":0, \"z\":0, \"dist\":0.2}, \"Vectors\":{\"grid_size\":80, \"offset\":-0.5}, \"camera\": {\"transformations\": [{\"type\": \"rotateY\", \"angle\": 40}, {\"type\": \"rotateZ\", \"angle\": 90}]}})\n",
    "ngmesh.Export(\"mesh.msh\", \"Gmsh Format\")\n"
   ]
  },
  {
   "cell_type": "code",
   "execution_count": null,
   "id": "4c56d2f5-156b-4453-b6a8-65506c9b977e",
   "metadata": {},
   "outputs": [],
   "source": []
  }
 ],
 "metadata": {
  "kernelspec": {
   "display_name": "Python 3 (ipykernel)",
   "language": "python",
   "name": "python3"
  },
  "language_info": {
   "codemirror_mode": {
    "name": "ipython",
    "version": 3
   },
   "file_extension": ".py",
   "mimetype": "text/x-python",
   "name": "python",
   "nbconvert_exporter": "python",
   "pygments_lexer": "ipython3",
   "version": "3.10.5"
  }
 },
 "nbformat": 4,
 "nbformat_minor": 5
}
