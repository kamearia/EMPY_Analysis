{
 "cells": [
  {
   "cell_type": "code",
   "execution_count": 1,
   "id": "1c369104-eeae-4b5b-a034-be4e9772b064",
   "metadata": {},
   "outputs": [],
   "source": [
    "from ngsolve import *\n",
    "from netgen.geom2d import unit_square\n",
    "mesh = Mesh(unit_square.GenerateMesh(maxh=0.2))\n",
    "fes = H1(mesh, order=2, dirichlet=\"bottom|right\")\n",
    "gfu = GridFunction(fes)\n",
    "a = BilinearForm(fes, symmetric=True)\n",
    "a += grad(fes.TrialFunction())*grad(fes.TestFunction())*dx\n",
    "a.Assemble()\n",
    "f = LinearForm(fes)\n",
    "f += x*fes.TestFunction()*dx\n",
    "f.Assemble()\n",
    "gfu.vec.data = a.mat.Inverse(freedofs=fes.FreeDofs()) * f.vec"
   ]
  },
  {
   "cell_type": "code",
   "execution_count": 2,
   "id": "4276c658-83e1-41e4-93dc-65bd89a9fc15",
   "metadata": {},
   "outputs": [
    {
     "data": {
      "text/plain": [
       "'vtk_example1'"
      ]
     },
     "execution_count": 2,
     "metadata": {},
     "output_type": "execute_result"
    }
   ],
   "source": [
    "vtk = VTKOutput(mesh,coefs=[gfu],names=[\"sol\"],filename=\"vtk_example1\",subdivision=2)\n",
    "vtk.Do()"
   ]
  },
  {
   "cell_type": "code",
   "execution_count": 4,
   "id": "bbd8a165-09be-411f-aae5-1467be937d62",
   "metadata": {},
   "outputs": [
    {
     "name": "stdout",
     "output_type": "stream",
     "text": [
      " ドライブ C のボリューム ラベルは OS です\n",
      " ボリューム シリアル番号は BC08-F164 です\n",
      "\n",
      " C:\\EMSolution\\EMSolpy5\\EMPY_Analysis\\Test のディレクトリ\n",
      "\n",
      "2025/09/28  18:11    <DIR>          .\n",
      "2025/09/28  11:16    <DIR>          ..\n",
      "2025/09/28  18:09    <DIR>          .ipynb_checkpoints\n",
      "2025/04/03  16:22            71,300 box.vol\n",
      "2025/09/02  20:30       206,132,532 J.vtk\n",
      "2025/05/02  12:40            10,868 RegularMesh-Copy1.ipynb\n",
      "2025/05/02  12:40            20,729 RegularMesh.ipynb\n",
      "2025/09/02  20:31             2,334 Untitled.ipynb\n",
      "2025/09/28  18:11             2,225 Untitled1.ipynb\n",
      "2025/09/28  18:10                 0 vtk_example1.vtu\n",
      "               7 個のファイル         206,239,988 バイト\n",
      "               3 個のディレクトリ  334,269,943,808 バイトの空き領域\n"
     ]
    }
   ],
   "source": [
    "!dir"
   ]
  },
  {
   "cell_type": "code",
   "execution_count": null,
   "id": "4e8b1fd6-ed28-4665-8839-8f85870e3ac4",
   "metadata": {},
   "outputs": [],
   "source": []
  }
 ],
 "metadata": {
  "kernelspec": {
   "display_name": "Python 3 (ipykernel)",
   "language": "python",
   "name": "python3"
  },
  "language_info": {
   "codemirror_mode": {
    "name": "ipython",
    "version": 3
   },
   "file_extension": ".py",
   "mimetype": "text/x-python",
   "name": "python",
   "nbconvert_exporter": "python",
   "pygments_lexer": "ipython3",
   "version": "3.10.5"
  }
 },
 "nbformat": 4,
 "nbformat_minor": 5
}
