{
 "cells": [
  {
   "cell_type": "code",
   "execution_count": 5,
   "id": "eaea1b27-4e49-4419-823b-4cf86136b1e3",
   "metadata": {},
   "outputs": [
    {
     "name": "stdout",
     "output_type": "stream",
     "text": [
      "NGSolve Version: 6.2.2506\n",
      "NGSolveのインポート成功。\n"
     ]
    }
   ],
   "source": [
    "import numpy as np\n",
    "from ngsolve import * # ここでモジュール名「ngsolve」を定義する\n",
    "import ngsolve\n",
    "\n",
    "print(f\"NGSolve Version: {ngsolve.__version__}\")\n",
    "print(\"NGSolveのインポート成功。\")"
   ]
  },
  {
   "cell_type": "code",
   "execution_count": null,
   "id": "dd074ce6-0778-4ade-b82b-4cc87f23cffe",
   "metadata": {},
   "outputs": [],
   "source": []
  }
 ],
 "metadata": {
  "kernelspec": {
   "display_name": "Python 3 (ipykernel)",
   "language": "python",
   "name": "python3"
  },
  "language_info": {
   "codemirror_mode": {
    "name": "ipython",
    "version": 3
   },
   "file_extension": ".py",
   "mimetype": "text/x-python",
   "name": "python",
   "nbconvert_exporter": "python",
   "pygments_lexer": "ipython3",
   "version": "3.10.5"
  }
 },
 "nbformat": 4,
 "nbformat_minor": 5
}
