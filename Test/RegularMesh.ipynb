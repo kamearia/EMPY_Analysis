{
 "cells": [
  {
   "cell_type": "code",
   "execution_count": 1,
   "id": "46aa4ccc-11d5-4db9-ab7e-619e72d8a312",
   "metadata": {},
   "outputs": [],
   "source": [
    "from multiprocessing import current_process\n",
    "from netgen.meshing import *\n",
    "from netgen.csg import *\n",
    "from netgen.occ import *\n",
    "from ngsolve import *\n",
    "from ngsolve.webgui import Draw\n",
    "from netgen.webgui import Draw as DrawGeo\n",
    "import math\n",
    "from numpy import *\n",
    "import scipy.sparse as sp\n",
    "import matplotlib.pylab as plt\n",
    "from scipy.io import savemat\n",
    "import scipy.sparse as sp\n",
    "\n",
    "import os, sys\n",
    "sys.path.append('..\\include')\n",
    "from MatrixSolver import MatrixSolver as solver \n",
    "cpp_solver=\"EMPY\"\n",
    "#cpp_solver=\"JP_MARs\""
   ]
  },
  {
   "cell_type": "code",
   "execution_count": 2,
   "id": "9f9dff28-8748-49a9-b57c-f3f022b7b604",
   "metadata": {},
   "outputs": [
    {
     "name": "stderr",
     "output_type": "stream",
     "text": [
      "C:\\Users\\kamea\\AppData\\Roaming\\Python\\Python310\\site-packages\\jupyter_client\\session.py:721: UserWarning: Message serialization failed with:\n",
      "Out of range float values are not JSON compliant\n",
      "Supporting this message is deprecated in jupyter-client 7, please make sure your message is JSON-compliant\n",
      "  content = self.pack(content)\n"
     ]
    },
    {
     "data": {
      "application/vnd.jupyter.widget-view+json": {
       "model_id": "27d7431f9ff24496ae89af3ae20ae260",
       "version_major": 2,
       "version_minor": 0
      },
      "text/plain": [
       "WebGuiWidget(layout=Layout(height='50vh', width='100%'), value={'gui_settings': {}, 'ngsolve_version': '6.2.24…"
      ]
     },
     "metadata": {},
     "output_type": "display_data"
    },
    {
     "name": "stdout",
     "output_type": "stream",
     "text": [
      "#nv= 726\n",
      "#nedge= 1925\n",
      "#nface= 1700\n",
      "#ne= 500\n",
      "17475\n"
     ]
    }
   ],
   "source": [
    "from numpy import *\n",
    "from netgen.csg import Pnt\n",
    "from netgen.meshing import Element3D, Element2D, MeshPoint, FaceDescriptor, Mesh\n",
    "mesh = Mesh()\n",
    "mesh.dim = 3\n",
    "dom = {}\n",
    "dom3d = {}\n",
    "dom3d[1] =1\n",
    "dom3d[2] =2\n",
    "dom[2] = mesh.Add(FaceDescriptor(bc=2, domin=2, surfnr=2))\n",
    "dom[3] = mesh.Add(FaceDescriptor(bc=3, domin=3, surfnr=3))\n",
    "dom[4] = mesh.Add(FaceDescriptor(bc=4, domin=4, surfnr=4))\n",
    "#dom[5] = mesh.Add(FaceDescriptor(bc=5, domin=2, surfnr=5))\n",
    "#dom[6] = mesh.Add(FaceDescriptor(bc=6, domin=2, surfnr=6))\n",
    "\n",
    "Nx = 11\n",
    "Ny = 11\n",
    "Nz = 6\n",
    "X = linspace(0,2,Nx)\n",
    "Y = linspace(0,2,Ny)\n",
    "Z = linspace(0,1,Nz)\n",
    "v = []\n",
    "for nz in range(Nz):\n",
    "\tfor ny in range(Ny):\n",
    "\t\tfor nx in range(Nx):\n",
    "\t\t\tv.append(mesh.Add(MeshPoint(Pnt(X[nx],Y[ny],Z[nz]))))\n",
    "#\t\t\tv.append(mesh.Add(MeshPoint(Pnt(X[nx],Y[ny],Z[nz]+dZ))))\n",
    "for nz in range(Nz-1):\n",
    "    for ny in range(Ny-1):\n",
    "        for nx in range(Nx-1):\n",
    "            n0 = (Nx*Ny)*(nz+0) + Nx*(ny+0) + (nx+0)\n",
    "            n1 = (Nx*Ny)*(nz+0) + Nx*(ny+0) + (nx+1)\n",
    "            n2 = (Nx*Ny)*(nz+0) + Nx*(ny+1) + (nx+1)\n",
    "            n3 = (Nx*Ny)*(nz+0) + Nx*(ny+1) + (nx+0)\n",
    "            n4 = (Nx*Ny)*(nz+1) + Nx*(ny+0) + (nx+0)\n",
    "            n5 = (Nx*Ny)*(nz+1) + Nx*(ny+0) + (nx+1)\n",
    "            n6 = (Nx*Ny)*(nz+1) + Nx*(ny+1) + (nx+1)\n",
    "            n7= (Nx*Ny)*(nz+1) + Nx*(ny+1) + (nx+0)\n",
    "            \"\"\"\n",
    "            if nx == 0:\n",
    "                mesh.Add(Element2D(dom[4], [v[n7],v[n4],v[n0],v[n3]]))     \n",
    "            if nx == Nx-2:\n",
    "                mesh.Add(Element2D(dom[4], [v[n5],v[n6],v[n2],v[n1]]))\n",
    "            if ny == 0:  \n",
    "                mesh.Add(Element2D(dom[4], [v[n4],v[n5],v[n1],v[n0]]))\n",
    "            if ny == Ny-2:\n",
    "                mesh.Add(Element2D(dom[4], [v[n6],v[n7],v[n3],v[n2]]))\n",
    "            \"\"\"   \n",
    "            if nx< Nx/2-1 and ny< Ny/2-1:\n",
    "                mesh.Add(Element3D(dom3d[1], [v[n0],v[n1],v[n2],v[n3],v[n4],v[n5],v[n6],v[n7]]))\n",
    "                \"\"\"\n",
    "                #if nz == 0:\n",
    "                    #mesh.Add(Element2D(dom[3], [v[n0],v[n1],v[n2],v[n3]]))\n",
    "                #if nz == Nz-2:\n",
    "                    #mesh.Add(Element2D(dom[2], [v[n7],v[n6],v[n5],v[n4]]))\n",
    "                \"\"\"\n",
    "            else:\n",
    "                mesh.Add(Element3D(dom3d[2], [v[n0],v[n1],v[n2],v[n3],v[n4],v[n5],v[n6],v[n7]]))\n",
    "                \"\"\"\n",
    "                if nz == 0:\n",
    "                    mesh.Add(Element2D(dom[6], [v[n0],v[n1],v[n2],v[n3]]))\n",
    "                if nz == Nz-2:\n",
    "                    mesh.Add(Element2D(dom[5], [v[n7],v[n6],v[n5],v[n4]]))\n",
    "                \"\"\"\n",
    "mesh.SetBCName(1, \"out\")\n",
    "mesh.SetBCName(2, \"in\")\n",
    "mesh.SetBCName(3, \"conductorBND\")\n",
    "#mesh.SetBCName(4, \"air_upper\")\n",
    "#mesh.SetBCName(5, \"aie_lower\")\n",
    "mesh.SetMaterial(1,\"sig\")\n",
    "mesh.SetMaterial(2,\"air\")\n",
    "meshx=mesh\n",
    "mesh.Save(\"box.vol\")\n",
    "from ngsolve import *\n",
    "from ngsolve.webgui import Draw\n",
    "mesh = Mesh(mesh)\n",
    "Draw(mesh)\n",
    "\n",
    "\n",
    "feOrder=0\n",
    "edges_no=mesh.nedge\n",
    "faces_no=mesh.nface\n",
    "elements_no=mesh.nv\n",
    "calcd_ndof = (mesh.nedge*3)+( mesh.nface*6)+( mesh.ne*3)\n",
    "print('#nv=', mesh.nv)\n",
    "print('#nedge=', mesh.nedge)\n",
    "print('#nface=', mesh.nface)\n",
    "print('#ne=', mesh.ne)\n",
    "print(calcd_ndof)\n",
    "#order=1\n",
    "#fesA = HCurl(mesh, order=feOrder, nograds=True, dirichlet=\"in|out|conductorBND\", complex=False)\n",
    "\n",
    "#print (\"Hcurl_ndof =\", fesA.ndof)\n",
    "#print (\"H1_ndof =\", fesPhi.ndof)\n",
    "#print (\"ndof =\", fesA.ndof+fesPhi.ndof)\n",
    "\n",
    "#A, N =fesA.TnT()\n",
    "#phi, psi =fesPhi.TnT()\n",
    "\n",
    "c = 299792458.\n",
    "mu = 4*math.pi*1e-7\n",
    "eps = 1/(c*c*mu)\n",
    "sigma=1e6"
   ]
  },
  {
   "cell_type": "code",
   "execution_count": 3,
   "id": "79783a54-c54e-4089-b86b-ebf4487060a5",
   "metadata": {},
   "outputs": [
    {
     "name": "stdout",
     "output_type": "stream",
     "text": [
      "enter iccg_solve\n",
      "Dof= 216    matrix size= 1716.0\n",
      "shift parameter= 1.0\n"
     ]
    },
    {
     "data": {
      "image/png": "[encoded data removed]",
      "text/plain": [
       "<Figure size 640x480 with 1 Axes>"
      ]
     },
     "metadata": {},
     "output_type": "display_data"
    },
    {
     "name": "stdout",
     "output_type": "stream",
     "text": [
      "結果のノルム: nan\n",
      "power=  0.0\n"
     ]
    },
    {
     "name": "stderr",
     "output_type": "stream",
     "text": [
      "C:\\EMSolution\\EMSolpy5\\EMPY_Analysis\\Test\\..\\include\\MatrixSolver.py:196: RuntimeWarning: invalid value encountered in scalar divide\n",
      "  norm = np.linalg.norm(result)/np.linalg.norm(fcut)\n"
     ]
    },
    {
     "data": {
      "application/vnd.jupyter.widget-view+json": {
       "model_id": "80b7201d8c3a4dbd9f6e4f769c9f48b6",
       "version_major": 2,
       "version_minor": 0
      },
      "text/plain": [
       "WebGuiWidget(layout=Layout(height='50vh', width='100%'), value={'gui_settings': {}, 'ngsolve_version': '6.2.24…"
      ]
     },
     "metadata": {},
     "output_type": "display_data"
    },
    {
     "data": {
      "application/vnd.jupyter.widget-view+json": {
       "model_id": "4e1838d28b2a460ba0bc68e8c6944cd0",
       "version_major": 2,
       "version_minor": 0
      },
      "text/plain": [
       "WebGuiWidget(layout=Layout(height='50vh', width='100%'), value={'gui_settings': {}, 'ngsolve_version': '6.2.24…"
      ]
     },
     "metadata": {},
     "output_type": "display_data"
    },
    {
     "data": {
      "text/plain": [
       "BaseWebGuiScene"
      ]
     },
     "execution_count": 3,
     "metadata": {},
     "output_type": "execute_result"
    }
   ],
   "source": [
    "\n",
    "fesPhi = H1(mesh,  order=feOrder, definedon=\"sig\", dirichlet=\"in|out\", complex=False)\n",
    "phi, psi =fesPhi.TnT()\n",
    "gfPhi = GridFunction(fesPhi)\n",
    "\n",
    "a=BilinearForm(fesPhi)\n",
    "a += sigma*grad(phi)*grad(psi)*dx\n",
    "f=LinearForm(fesPhi)\n",
    "with TaskManager():\n",
    "    a.Assemble()\n",
    "h=1\n",
    "gfPhi.Set(h, definedon=mesh.Boundaries(\"in\"))\n",
    "\n",
    "f=LinearForm(fesPhi)\n",
    "f.Assemble()\n",
    "fr=f.vec-a.mat*gfPhi.vec\n",
    "\n",
    "gfPhi=solver.iccg_solve(fesPhi, gfPhi, a, fr.Evaluate(), \n",
    "    tol=1.e-16, max_iter=200, accel_factor=0, complex=False, logplot=True) \n",
    "E=-grad(gfPhi)\n",
    "J=sigma*E\n",
    "Draw(gfPhi,mesh)\n",
    "Draw(J,mesh)\n"
   ]
  },
  {
   "cell_type": "code",
   "execution_count": 4,
   "id": "67f9f019-b8f5-4d93-b7d5-55cd9130fd52",
   "metadata": {},
   "outputs": [
    {
     "ename": "NameError",
     "evalue": "name 'fesA' is not defined",
     "output_type": "error",
     "traceback": [
      "\u001b[1;31m---------------------------------------------------------------------------\u001b[0m",
      "\u001b[1;31mNameError\u001b[0m                                 Traceback (most recent call last)",
      "Cell \u001b[1;32mIn[4], line 1\u001b[0m\n\u001b[1;32m----> 1\u001b[0m a \u001b[38;5;241m=\u001b[39m BilinearForm(\u001b[43mfesA\u001b[49m)\n\u001b[0;32m      2\u001b[0m a \u001b[38;5;241m+\u001b[39m\u001b[38;5;241m=\u001b[39m \u001b[38;5;241m1\u001b[39m\u001b[38;5;241m/\u001b[39mmu\u001b[38;5;241m*\u001b[39mcurl(A)\u001b[38;5;241m*\u001b[39mcurl(N)\u001b[38;5;241m*\u001b[39mdx\n\u001b[0;32m      3\u001b[0m f \u001b[38;5;241m=\u001b[39m LinearForm(fesA)\n",
      "\u001b[1;31mNameError\u001b[0m: name 'fesA' is not defined"
     ]
    }
   ],
   "source": [
    "    a = BilinearForm(fesA)\n",
    "    a += 1/mu*curl(A)*curl(N)*dx\n",
    "    f = LinearForm(fesA)\n",
    "    f += N*(J) * dx\n",
    "    with TaskManager():\n",
    "        a.Assemble()\n",
    "        f.Assemble()\n",
    "\n",
    "    gfA = GridFunction(fesA)\n",
    "\n",
    "    mat = sp.csr_matrix (a.mat.CSR())\n",
    "    #print(A)\n",
    "    Acut = mat[:,fesA.FreeDofs()][fesA.FreeDofs(),:]\n",
    "    fcut = array(f.vec.FV())[fesA.FreeDofs()]\n",
    "    ucut = array(f.vec.FV(), copy=True)[fesA.FreeDofs()]\n",
    "\n",
    "    rows, cols = Acut.nonzero()\n",
    "    vals = Acut[rows, cols]\n",
    "    vals = ravel(vals)\n",
    "    dim=fcut.size\n",
    "    size= (len(rows)-dim)/2-dim\n",
    "    print('Dof=',dim, '   matrix size=', size)\n",
    "    \n",
    "    mat = SparseSolvPy.SparseMat(len(rows), rows, cols, vals)\n",
    "\n",
    "    solver = SparseSolvPy.MatSolvers()\n",
    "    solver.setSaveBest(True)\n",
    "    solver.setSaveLog(True)\n",
    "    solver.setDiagScale(True)\n",
    "    solver.setDirvegeType(1)\n",
    "    solver.setBadDivCount(10)\n",
    "    solver.setBadDivVal(10.0)\n",
    "    tol=1.e-16\n",
    "    max_iter=200\n",
    "    solver.solveICCG_py(len(fcut), tol, max_iter, 1.1, mat, fcut, ucut, True)\n",
    "    \n",
    "    \n",
    "    log1 = solver.getResidualLog_py()\n",
    "    print(log1)\n",
    "\n",
    "    plt.plot(range(len(log1)), log1)    \n",
    "    plt.yscale('log')\n",
    "    plt.show(block=False)  \n",
    "    \n",
    "    array(gfA.vec.FV(), copy=False)[fesA.FreeDofs()] = ucut\n",
    "    print(\"min:\", min(log1))\n",
    "    #log1min.append(min(log1))\n",
    "\n",
    "    result = Acut.dot(ucut) - fcut\n",
    "    norm = linalg.norm(result)/linalg.norm(fcut)\n",
    "    print(\"結果のノルム:\", norm)\n",
    "    \n",
    "    B=curl(gfA)\n",
    "    Draw(B,mesh)\n",
    "    "
   ]
  }
 ],
 "metadata": {
  "kernelspec": {
   "display_name": "my_env",
   "language": "python",
   "name": "my_env"
  },
  "language_info": {
   "codemirror_mode": {
    "name": "ipython",
    "version": 3
   },
   "file_extension": ".py",
   "mimetype": "text/x-python",
   "name": "python",
   "nbconvert_exporter": "python",
   "pygments_lexer": "ipython3",
   "version": "3.10.5"
  }
 },
 "nbformat": 4,
 "nbformat_minor": 5
}
