{
 "cells": [
  {
   "cell_type": "markdown",
   "id": "0",
   "metadata": {},
   "source": [
    "# Magnetostatics"
   ]
  },
  {
   "cell_type": "code",
   "execution_count": 1,
   "id": "1",
   "metadata": {},
   "outputs": [],
   "source": [
    "from netgen.occ import *\n",
    "from ngsolve import *\n",
    "from ngsolve.webgui import Draw\n",
    "from netgen.webgui import Draw as DrawGeo\n",
    "import math"
   ]
  },
  {
   "cell_type": "markdown",
   "id": "2",
   "metadata": {},
   "source": [
    "### model of the coil:"
   ]
  },
  {
   "cell_type": "code",
   "execution_count": 2,
   "id": "3",
   "metadata": {},
   "outputs": [],
   "source": [
    "cyl = Cylinder((0,0,0), Z, r=0.01, h=0.03).faces[0]\n",
    "heli = Edge(Segment((0,0), (12*math.pi, 0.03)), cyl)\n",
    "ps = heli.start\n",
    "vs = heli.start_tangent\n",
    "pe = heli.end\n",
    "ve = heli.end_tangent\n",
    "\n",
    "e1 = Segment((0,0,-0.03), (0,0,-0.01))\n",
    "c1 = BezierCurve( [(0,0,-0.01), (0,0,0), ps-vs, ps])\n",
    "e2 = Segment((0,0,0.04), (0,0,0.06))\n",
    "c2 = BezierCurve( [pe, pe+ve, (0,0,0.03), (0,0,0.04)])\n",
    "spiral = Wire([e1, c1, heli, c2, e2])\n",
    "circ = Face(Wire([Circle((0,0,-0.03), Z, 0.001)]))\n",
    "coil = Pipe(spiral, circ)\n",
    "\n",
    "coil.faces.maxh=0.2\n",
    "coil.faces.name=\"coilbnd\"\n",
    "coil.faces.Max(Z).name=\"in\"\n",
    "coil.faces.Min(Z).name=\"out\"\n",
    "coil.mat(\"coil\")\n",
    "crosssection = coil.faces.Max(Z).mass"
   ]
  },
  {
   "cell_type": "code",
   "execution_count": 3,
   "id": "4",
   "metadata": {},
   "outputs": [
    {
     "data": {
      "application/vnd.jupyter.widget-view+json": {
       "model_id": "fde9f954a0fc4c7488ceb3f61c8877c1",
       "version_major": 2,
       "version_minor": 0
      },
      "text/plain": [
       "WebGuiWidget(layout=Layout(height='50vh', width='100%'), value={'ngsolve_version': 'Netgen x.x', 'mesh_dim': 3…"
      ]
     },
     "metadata": {},
     "output_type": "display_data"
    }
   ],
   "source": [
    "DrawGeo (coil);"
   ]
  },
  {
   "cell_type": "code",
   "execution_count": 4,
   "id": "5",
   "metadata": {},
   "outputs": [],
   "source": [
    "box = Box((-0.04,-0.04,-0.03), (0.04,0.04,0.06))\n",
    "box.faces.name = \"outer\"\n",
    "air = box-coil\n",
    "air.mat(\"air\");"
   ]
  },
  {
   "cell_type": "markdown",
   "id": "6",
   "metadata": {},
   "source": [
    "### mesh-generation of coil and air-box:"
   ]
  },
  {
   "cell_type": "code",
   "execution_count": 5,
   "id": "7",
   "metadata": {},
   "outputs": [
    {
     "data": {
      "application/vnd.jupyter.widget-view+json": {
       "model_id": "283ff7c3a540406685f14736396f3531",
       "version_major": 2,
       "version_minor": 0
      },
      "text/plain": [
       "WebGuiWidget(layout=Layout(height='50vh', width='100%'), value={'gui_settings': {}, 'ngsolve_version': '6.2.24…"
      ]
     },
     "metadata": {},
     "output_type": "display_data"
    }
   ],
   "source": [
    "geo = OCCGeometry(Glue([coil,air]))\n",
    "with TaskManager():\n",
    "    mesh = Mesh(geo.GenerateMesh(meshsize.coarse, maxh=0.01)).Curve(3)\n",
    "    \n",
    "Draw (mesh, clipping={\"y\":1, \"z\":0, \"dist\":0.012});"
   ]
  },
  {
   "cell_type": "markdown",
   "id": "8",
   "metadata": {},
   "source": [
    "checking mesh data materials and boundaries:"
   ]
  },
  {
   "cell_type": "code",
   "execution_count": 6,
   "id": "9",
   "metadata": {},
   "outputs": [
    {
     "data": {
      "text/plain": [
       "(155334,\n",
       " 26775,\n",
       " ('coil', 'air'),\n",
       " ('out',\n",
       "  'coilbnd',\n",
       "  'coilbnd',\n",
       "  'coilbnd',\n",
       "  'coilbnd',\n",
       "  'coilbnd',\n",
       "  'in',\n",
       "  'outer',\n",
       "  'outer',\n",
       "  'outer',\n",
       "  'outer',\n",
       "  'outer',\n",
       "  'outer'))"
      ]
     },
     "execution_count": 6,
     "metadata": {},
     "output_type": "execute_result"
    }
   ],
   "source": [
    "mesh.ne, mesh.nv, mesh.GetMaterials(), mesh.GetBoundaries()"
   ]
  },
  {
   "cell_type": "markdown",
   "id": "10",
   "metadata": {},
   "source": [
    "### Solve a potential problem to determine current density in wire:\n",
    "on the domain $\\Omega_{\\text{coil}}$:\n",
    "\\begin{eqnarray*}\n",
    "j & = & \\sigma \\nabla \\Phi \\\\\n",
    "\\operatorname{div} j & = & 0\n",
    "\\end{eqnarray*}\n",
    "port boundary conditions: \n",
    "\\begin{eqnarray*}\n",
    "\\Phi & = & 0  \\qquad \\qquad \\text{on } \\Gamma_{\\text{out}},  \\\\\n",
    "j_n & = & \\frac{1}{|S|} \\quad \\qquad \\text{on } \\Gamma_{\\text{in}},\n",
    "\\end{eqnarray*}\n",
    "and $j_n=0$ else"
   ]
  },
  {
   "cell_type": "code",
   "execution_count": 7,
   "id": "11",
   "metadata": {},
   "outputs": [],
   "source": [
    "fespot = H1(mesh, order=3, definedon=\"coil\", dirichlet=\"out\")\n",
    "phi,psi = fespot.TnT()\n",
    "sigma = 58.7e6\n",
    "bfa = BilinearForm(sigma*grad(phi)*grad(psi)*dx).Assemble()\n",
    "inv = bfa.mat.Inverse(freedofs=fespot.FreeDofs(), inverse=\"sparsecholesky\")\n",
    "lff = LinearForm(1/crosssection*psi*ds(\"in\")).Assemble()\n",
    "gfphi = GridFunction(fespot)\n",
    "gfphi.vec.data = inv * lff.vec"
   ]
  },
  {
   "cell_type": "code",
   "execution_count": 8,
   "id": "12",
   "metadata": {},
   "outputs": [
    {
     "data": {
      "application/vnd.jupyter.widget-view+json": {
       "model_id": "e0a87f182fb64d7d9b7d6097e513fea7",
       "version_major": 2,
       "version_minor": 0
      },
      "text/plain": [
       "WebGuiWidget(layout=Layout(height='50vh', width='100%'), value={'gui_settings': {}, 'ngsolve_version': '6.2.24…"
      ]
     },
     "metadata": {},
     "output_type": "display_data"
    }
   ],
   "source": [
    "Draw (gfphi, draw_vol=False, clipping={\"y\":1, \"z\":0, \"dist\":0.012});"
   ]
  },
  {
   "cell_type": "markdown",
   "id": "13",
   "metadata": {},
   "source": [
    "### Solve magnetostatic problem:\n",
    "\n",
    "current source is current from potential equation:\n",
    "\n",
    "$$\n",
    "\\int \\mu^{-1} \\operatorname{curl} u \\cdot \\operatorname{curl} v \\, dx =\n",
    "\\int j \\cdot v \\, dx\n",
    "$$\n"
   ]
  },
  {
   "cell_type": "code",
   "execution_count": 9,
   "id": "14",
   "metadata": {},
   "outputs": [
    {
     "name": "stdout",
     "output_type": "stream",
     "text": [
      "HCurl dofs: 805484\n"
     ]
    }
   ],
   "source": [
    "fes = HCurl(mesh, order=2, nograds=True)\n",
    "print (\"HCurl dofs:\", fes.ndof)\n",
    "u,v = fes.TnT()\n",
    "mu = 4*math.pi*1e-7\n",
    "a = BilinearForm(1/mu*curl(u)*curl(v)*dx+1e-6/mu*u*v*dx)\n",
    "pre = Preconditioner(a, \"bddc\")\n",
    "f = LinearForm(sigma*grad(gfphi)*v*dx(\"coil\"))\n",
    "with TaskManager():\n",
    "    a.Assemble()\n",
    "    f.Assemble()"
   ]
  },
  {
   "cell_type": "code",
   "execution_count": 10,
   "id": "15",
   "metadata": {},
   "outputs": [
    {
     "name": "stdout",
     "output_type": "stream",
     "text": [
      "CG iteration 1, residual = 23.408072277907568     \n",
      "CG iteration 2, residual = 0.079662967180086     \n",
      "CG iteration 3, residual = 0.018919386212224474     \n",
      "CG iteration 4, residual = 0.013578604785837159     \n",
      "CG iteration 5, residual = 0.008003446326698804     \n",
      "CG iteration 6, residual = 0.005160055030359998     \n",
      "CG iteration 7, residual = 0.0032986144389692868     \n",
      "CG iteration 8, residual = 0.0023102657097962866     \n",
      "CG iteration 9, residual = 0.0016030816920312942     \n",
      "CG iteration 10, residual = 0.001193425021950073     \n",
      "CG iteration 11, residual = 0.0009315010323604369     \n",
      "CG iteration 12, residual = 0.0007351004081146959     \n",
      "CG iteration 13, residual = 0.0006179325196965421     \n",
      "CG iteration 14, residual = 0.0005083966602214831     \n",
      "CG iteration 15, residual = 0.0004271640599436244     \n",
      "CG iteration 16, residual = 0.00034168716874909686     \n",
      "CG iteration 17, residual = 0.00026716950208279693     \n",
      "CG iteration 18, residual = 0.00019413567830834386     \n",
      "CG iteration 19, residual = 0.00014082588298342698     \n",
      "CG iteration 20, residual = 0.00011236512847929265     \n",
      "CG iteration 21, residual = 8.758334492629201e-05     \n",
      "CG iteration 22, residual = 6.369231480690925e-05     \n",
      "CG iteration 23, residual = 4.164787777277109e-05     \n",
      "CG iteration 24, residual = 3.014621822290034e-05     \n",
      "CG iteration 25, residual = 2.1529737613297288e-05     \n",
      "CG iteration 26, residual = 1.5972729268998382e-05     \n",
      "CG iteration 27, residual = 1.226819724485656e-05     \n",
      "CG iteration 28, residual = 8.932619968884248e-06     \n",
      "CG iteration 29, residual = 7.253600707885196e-06     \n",
      "CG iteration 30, residual = 5.6611247231401635e-06     \n",
      "CG iteration 31, residual = 5.028388762648158e-06     \n",
      "CG iteration 32, residual = 4.084612931942812e-06     \n",
      "CG iteration 33, residual = 3.0636507562767537e-06     \n",
      "CG iteration 34, residual = 2.4579779145707945e-06     \n",
      "CG iteration 35, residual = 1.884053977714772e-06     \n",
      "CG iteration 36, residual = 1.4170454360418282e-06     \n",
      "CG iteration 37, residual = 1.0488585110024125e-06     \n",
      "CG iteration 38, residual = 7.794564754688649e-07     \n",
      "CG iteration 39, residual = 6.038215010614708e-07     \n",
      "CG iteration 40, residual = 4.629804733700277e-07     \n",
      "CG iteration 41, residual = 3.7012134860549023e-07     \n",
      "CG iteration 42, residual = 2.884246068755286e-07     \n",
      "CG iteration 43, residual = 2.574262582822657e-07     \n",
      "CG iteration 44, residual = 2.214472106222712e-07     \n",
      "CG iteration 45, residual = 1.6484102268659926e-07     \n",
      "CG iteration 46, residual = 1.20732532626654e-07     \n",
      "CG iteration 47, residual = 9.124932190541497e-08     \n",
      "CG iteration 48, residual = 6.8602903461069e-08     \n",
      "CG iteration 49, residual = 5.4087880895973825e-08     \n",
      "CG iteration 50, residual = 4.423724882092699e-08     \n",
      "CG iteration 51, residual = 3.2319340543150284e-08     \n",
      "CG iteration 52, residual = 2.4553192245230064e-08     \n",
      "CG iteration 53, residual = 1.8423612015703133e-08     \n",
      "CG iteration 54, residual = 1.4523659677121068e-08     \n",
      "CG iteration 55, residual = 1.1650143707971231e-08     \n",
      "CG iteration 56, residual = 9.852395998173089e-09     \n",
      "CG iteration 57, residual = 8.267291126710273e-09     \n",
      "CG iteration 58, residual = 6.184767159229842e-09     \n",
      "CG iteration 59, residual = 4.590806656138088e-09     \n",
      "CG iteration 60, residual = 3.506618739308411e-09     \n",
      "CG iteration 61, residual = 2.7178800579225326e-09     \n",
      "CG iteration 62, residual = 2.0693171507378095e-09     \n",
      "CG iteration 63, residual = 1.5758467942239865e-09     \n",
      "CG iteration 64, residual = 1.2381450637405434e-09     \n",
      "CG iteration 65, residual = 9.435453743104408e-10     \n",
      "CG iteration 66, residual = 7.088268198605434e-10     \n",
      "CG iteration 67, residual = 5.998884884661235e-10     \n",
      "CG iteration 68, residual = 5.230800671097541e-10     \n",
      "CG iteration 69, residual = 3.8556050682077816e-10     \n",
      "CG iteration 70, residual = 3.2407675259944695e-10     \n",
      "CG iteration 71, residual = 2.5498550749317463e-10     \n",
      "CG iteration 72, residual = 2.0319906302325033e-10     \n",
      "CG iteration 73, residual = 1.5608978378949725e-10     \n",
      "CG iteration 74, residual = 1.2058573136468766e-10     \n",
      "CG iteration 75, residual = 9.097377501086941e-11     \n",
      "CG iteration 76, residual = 6.925440255864546e-11     \n",
      "CG iteration 77, residual = 5.165600804926092e-11     \n",
      "CG iteration 78, residual = 3.9365205071657487e-11     \n",
      "CG iteration 79, residual = 3.300440534021611e-11     \n",
      "CG iteration 80, residual = 2.7355227957400416e-11     \n",
      "CG iteration 81, residual = 1.9094084855477803e-11     \n"
     ]
    }
   ],
   "source": [
    "from ngsolve.krylovspace import CGSolver\n",
    "inv = CGSolver(a.mat, pre, printrates=True)\n",
    "gfu = GridFunction(fes)\n",
    "with TaskManager():\n",
    "    gfu.vec.data = inv * f.vec"
   ]
  },
  {
   "cell_type": "code",
   "execution_count": 11,
   "id": "16",
   "metadata": {},
   "outputs": [
    {
     "data": {
      "application/vnd.jupyter.widget-view+json": {
       "model_id": "5b6a31b6a16a4fc8a119c3e31355f617",
       "version_major": 2,
       "version_minor": 0
      },
      "text/plain": [
       "WebGuiWidget(layout=Layout(height='50vh', width='100%'), value={'gui_settings': {}, 'ngsolve_version': '6.2.24…"
      ]
     },
     "metadata": {},
     "output_type": "display_data"
    }
   ],
   "source": [
    "Draw (curl(gfu), mesh, draw_surf=False, \\\n",
    "      min=0, max=3e-4, clipping = { \"y\":1, \"z\" : 0, \"function\":False}, vectors = { \"grid_size\":100});"
   ]
  },
  {
   "cell_type": "code",
   "execution_count": null,
   "id": "17",
   "metadata": {},
   "outputs": [],
   "source": []
  }
 ],
 "metadata": {
  "kernelspec": {
   "display_name": "Python 3 (ipykernel)",
   "language": "python",
   "name": "python3"
  },
  "language_info": {
   "codemirror_mode": {
    "name": "ipython",
    "version": 3
   },
   "file_extension": ".py",
   "mimetype": "text/x-python",
   "name": "python",
   "nbconvert_exporter": "python",
   "pygments_lexer": "ipython3",
   "version": "3.12.10"
  }
 },
 "nbformat": 4,
 "nbformat_minor": 5
}
