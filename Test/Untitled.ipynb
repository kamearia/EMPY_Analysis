{
 "cells": [
  {
   "cell_type": "code",
   "execution_count": null,
   "id": "2a768ec7-a30a-48e7-af2d-27c1de02cf89",
   "metadata": {},
   "outputs": [],
   "source": [
    "from ngsolve import *\n",
    "from netgen.occ import *\n",
    "from netgen.webgui import Draw as DrawGeo\n",
    "\n",
    "sphere0 = Sphere(Pnt(0, 0, 0), 0.1).bc('outer')\n",
    "sphere1 = Sphere(Pnt(0, 0, 0), 30.0).bc('outer')\n",
    "shape = Glue([sphere0, sphere1])\n",
    "shape.solids[0].mat('mat')\n",
    "shape.solids[0].maxh = 0.01\n",
    "shape.solids[0].faces.col = (1,0,0)\n",
    "shape.solids[1].mat('air')\n",
    "shape.solids[1].faces.col = (0,0,1)\n",
    "#DrawGeo(shape, clipping = { \"pnt\" : (0.0,-0.1,0), \"vec\" : (0,1,0) })\n",
    "mesh = Mesh(OCCGeometry(shape).GenerateMesh(maxh=5.0, grading=0.1))\n",
    "mesh.Curve(2)\n",
    "from ngsolve.webgui import Draw\n",
    "fes = H1(mesh, order=2)\n",
    "J = CoefficientFunction(x)\n",
    "Draw(J, mesh, clipping = { \"pnt\" : (0.0,-0.1,0), \"vec\" : (0,1,0) })\n",
    "vtk = VTKOutput(mesh, coefs=[J], names=[\"J\"], legacy=True, filename=\"J\", subdivision=1)\n",
    "vtk.Do()"
   ]
  },
  {
   "cell_type": "code",
   "execution_count": null,
   "id": "f341997c-54e1-4e1f-829c-9a7ce8e1c3aa",
   "metadata": {},
   "outputs": [],
   "source": []
  }
 ],
 "metadata": {
  "kernelspec": {
   "display_name": "Python 3 (ipykernel)",
   "language": "python",
   "name": "python3"
  },
  "language_info": {
   "codemirror_mode": {
    "name": "ipython",
    "version": 3
   },
   "file_extension": ".py",
   "mimetype": "text/x-python",
   "name": "python",
   "nbconvert_exporter": "python",
   "pygments_lexer": "ipython3",
   "version": "3.12.10"
  }
 },
 "nbformat": 4,
 "nbformat_minor": 5
}
