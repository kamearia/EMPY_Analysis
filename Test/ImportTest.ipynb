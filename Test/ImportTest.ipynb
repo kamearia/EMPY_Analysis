{
 "cells": [
  {
   "cell_type": "code",
   "execution_count": 2,
   "id": "4a3726d0-fe58-45ed-bcd3-2f63b711f337",
   "metadata": {},
   "outputs": [
    {
     "data": {
      "application/vnd.jupyter.widget-view+json": {
       "model_id": "eccb798d421647d9868b7ed4db72835f",
       "version_major": 2,
       "version_minor": 0
      },
      "text/plain": [
       "WebGuiWidget(layout=Layout(height='50vh', width='100%'), value={'gui_settings': {}, 'ngsolve_version': '6.2.24…"
      ]
     },
     "metadata": {},
     "output_type": "display_data"
    },
    {
     "data": {
      "text/plain": [
       "BaseWebGuiScene"
      ]
     },
     "execution_count": 2,
     "metadata": {},
     "output_type": "execute_result"
    }
   ],
   "source": [
    "from ngsolve import *\n",
    "from ngsolve.webgui import Draw\n",
    "\n",
    "mesh = Mesh(unit_square.GenerateMesh(maxh=0.1))\n",
    "Draw (mesh)\n"
   ]
  },
  {
   "cell_type": "code",
   "execution_count": 1,
   "id": "64372221-1445-4467-bfc6-5edbeda2f925",
   "metadata": {},
   "outputs": [
    {
     "name": "stdout",
     "output_type": "stream",
     "text": [
      "6.2.2402\n",
      "EMPY_Field is imported!\n",
      "EMPY_Solver is imported!\n",
      "SparseSolvPy is imported!\n"
     ]
    }
   ],
   "source": [
    "import ngsolve as ng\n",
    "print(ng.__version__)\n",
    "\n",
    "import sys\n",
    "sys.path.append(r'..\\bin\\Release')\n",
    "\n",
    "from EMPY_Field import *\n",
    "print(\"EMPY_Field is imported!\")\n",
    "from EMPY_Solver import *\n",
    "print(\"EMPY_Solver is imported!\")\n",
    "from SparseSolvPy import *\n",
    "print(\"SparseSolvPy is imported!\")\n"
   ]
  },
  {
   "cell_type": "code",
   "execution_count": null,
   "id": "f63467da-b191-4eaa-a537-ae7e59a3f778",
   "metadata": {},
   "outputs": [],
   "source": []
  }
 ],
 "metadata": {
  "kernelspec": {
   "display_name": "Python 3 (ipykernel)",
   "language": "python",
   "name": "python3"
  },
  "language_info": {
   "codemirror_mode": {
    "name": "ipython",
    "version": 3
   },
   "file_extension": ".py",
   "mimetype": "text/x-python",
   "name": "python",
   "nbconvert_exporter": "python",
   "pygments_lexer": "ipython3",
   "version": "3.12.10"
  }
 },
 "nbformat": 4,
 "nbformat_minor": 5
}
