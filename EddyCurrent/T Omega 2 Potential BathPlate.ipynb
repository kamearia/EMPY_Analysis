{
 "cells": [
  {
   "cell_type": "code",
   "execution_count": 1,
   "id": "e979efd0-8650-40c7-bd59-ed0d04caeee8",
   "metadata": {},
   "outputs": [
    {
     "name": "stdout",
     "output_type": "stream",
     "text": [
      "Bath Plate Model    holes: 0    Thickness: 0.00635\n",
      "boxx=  0.2  boxy=  0.2  boxz=  0.2\n",
      "div_thick=  1\n",
      "name: conductor   mass: 4.191e-05   center: (-9.19197e-20, -2.9053e-19, 0)\n",
      "name: air   mass: 0.00015824625000000016   center: (0, -3.55045e-19, 2.29027e-20)\n",
      "name: reduced   mass: 0.06379984375000002   center: (0, -1.44176e-19, 9.03322e-20)\n",
      "conductive_region: conductor\n",
      "Conductor boundary: conductorBND\n",
      "{'conductor': 32780000.0, 'to_side': 32780000.0, 'from_side': 32780000.0, 'air': 0, 'reduced': 0, 'hole1': 0, 'hole2': 0, 'default': 0}\n",
      "{'conductor': 1.2566370614359173e-06, 'to_side': 1.2566370614359173e-06, 'from_side': 1.2566370614359173e-06, 'air': 1.2566370614359173e-06, 'reduced': 1.2566370614359173e-06, 'hole1': 1.2566370614359173e-06, 'hole2': 1.2566370614359173e-06, 'default': 1.2566370614359173e-06}\n",
      "class HolePot: num= 0  holes\n",
      "class MeasureFace: num= 0  faces\n"
     ]
    },
    {
     "data": {
      "application/vnd.jupyter.widget-view+json": {
       "model_id": "b674428ed426402fae75b742590af75a",
       "version_major": 2,
       "version_minor": 0
      },
      "text/plain": [
       "WebGuiWidget(layout=Layout(height='50vh', width='100%'), value={'ngsolve_version': 'Netgen x.x', 'mesh_dim': 3…"
      ]
     },
     "metadata": {},
     "output_type": "display_data"
    },
    {
     "data": {
      "application/vnd.jupyter.widget-view+json": {
       "model_id": "c3b170b95ea449fabb6cec5905647971",
       "version_major": 2,
       "version_minor": 0
      },
      "text/plain": [
       "WebGuiWidget(layout=Layout(height='50vh', width='100%'), value={'gui_settings': {}, 'ngsolve_version': '6.2.24…"
      ]
     },
     "metadata": {},
     "output_type": "display_data"
    },
    {
     "data": {
      "text/plain": [
       "BaseWebGuiScene"
      ]
     },
     "execution_count": 1,
     "metadata": {},
     "output_type": "execute_result"
    }
   ],
   "source": [
    "from netgen.meshing import *\n",
    "from netgen.csg import *\n",
    "from netgen.occ import *\n",
    "from ngsolve import *\n",
    "from ngsolve.webgui import Draw\n",
    "from netgen.webgui import Draw as DrawGeo\n",
    "import math\n",
    "import numpy as np\n",
    "import sys\n",
    "sys.path.append(r'..\\..\\bin\\Release') \n",
    "from EMPY_Field import *\n",
    "sys.path.append('..\\model')\n",
    "#from Cylinder_Yaxis_1Layer import Cylinder_Yaxis_1Layer\n",
    "from BathPlateModel import BathPlateModel\n",
    "sys.path.append('..\\include')\n",
    "from MatrixSolver import MatrixSolver as solver \n",
    "from HtoOmega import HtoOmega\n",
    "#model=Cylinder_Yaxis_1Layer(sigma=5e7)\n",
    "model=BathPlateModel(holes=0, outerBox=\"box\", boxx=0.2, boxy=0.2, boxz=0.2, msize=meshsize.coarse)\n",
    "#model=BathPlateModel(holes=0,outerBox=\"sphere\", boxx=0.2, div_thick=2)\n",
    "DrawGeo(model.model)\n",
    "mesh=model.mesh\n",
    "Draw(mesh)"
   ]
  },
  {
   "cell_type": "code",
   "execution_count": 2,
   "id": "296b4c39-33c5-4d41-a7eb-f61e944f2b8a",
   "metadata": {},
   "outputs": [],
   "source": [
    "import math\n",
    "jomega=True\n",
    "f=50\n",
    "if jomega==True:\n",
    "    s=2j*math.pi*f\n",
    "else:\n",
    "    s=2*math.pi*f\n",
    "Dirichlet=False\n",
    "feorder=2\n",
    "mu=4e-7*math.pi\n",
    "symmetric_plane=model.symmetric_plane\n",
    "Mu=model.Mu\n",
    "Sigma=model.Sigma\n",
    "reduced_region=model.reduced_region\n",
    "total_region=model.total_region\n",
    "conductive_region=model.conductive_region\n",
    "air_region=model.air_region\n",
    "total_boundary=model.total_boundary\n",
    "reduced_boundary=model.reduced_boundary\n",
    "conductor_boundary=model.conductor_boundary"
   ]
  },
  {
   "cell_type": "code",
   "execution_count": 3,
   "id": "a37a4ae9-075f-4941-a1d1-0a48a7b66064",
   "metadata": {},
   "outputs": [],
   "source": [
    "#field=UNIF(0,1,0,0)\n",
    "field=model.coil.field\n",
    "#coil=UNIF(0,0,0.01,0)\n",
    "Bv=Bfield(field)\n",
    "Hv=Bv/mu\n",
    "Bs=model.ReducedField(Bv, (0,0,0))\n",
    "\n",
    "if Dirichlet==True:\n",
    "    fesOmega=H1(mesh, order=feorder, dirichlet=reduced_boundary, complex=jomega)\n",
    "else:\n",
    "    fesOmega=H1(mesh, order=feorder, complex=jomega)\n",
    "fesT=HCurl(mesh, order=feorder, nograd=True, definedon=conductive_region, dirichlet=conductor_boundary, complex=jomega)     \n",
    "fesTOmega=fesT*fesOmega\n",
    "(T,omega),(W, psi) = fesTOmega.TnT() \n",
    "gfTOmega = GridFunction(fesTOmega)\n",
    "gfT, gfOmega =gfTOmega.components\n",
    "a= BilinearForm(fesTOmega)\n",
    "a +=Mu*grad(omega)*grad(psi)*dx(air_region)\n",
    "a +=Mu*(T+grad(omega))*(W+grad(psi))*dx(conductive_region)\n",
    "a +=1/(s*Sigma)*curl(T)*curl(W)*dx(conductive_region)\n",
    "with TaskManager():\n",
    "    a.Assemble()\n",
    "normal = specialcf.normal(mesh.dim)"
   ]
  },
  {
   "cell_type": "code",
   "execution_count": 4,
   "id": "9f7f4639-0013-42d3-a1f1-2df20865b9b2",
   "metadata": {},
   "outputs": [
    {
     "name": "stdout",
     "output_type": "stream",
     "text": [
      "enter iccg_solve\n",
      "Dof= 858    matrix size= 3609.0\n",
      "shift parameter= 1.0\n",
      "minimum residual= 7.192513563708408e-17  at iteraions:  38\n",
      "結果のノルム: 2.1559112776003444e-15\n",
      "power=  350080.4925418871\n"
     ]
    }
   ],
   "source": [
    "surfaceOmega=HtoOmega(mesh, total_boundary, feorder, Hv)\n",
    "# Calculate Dirichlet condition terms\n",
    "#gfOmega.Set(Ov, BND, mesh.Boundaries(total_boundary))\n",
    "gfOmega.Set(surfaceOmega, BND, mesh.Boundaries(total_boundary))"
   ]
  },
  {
   "cell_type": "code",
   "execution_count": 5,
   "id": "b35c8c00-8b6c-4f30-b3c0-021925e4bb3c",
   "metadata": {
    "scrolled": true
   },
   "outputs": [
    {
     "name": "stdout",
     "output_type": "stream",
     "text": [
      "enter iccg_solve\n",
      "Dof= 12886    matrix size= 273516.0\n",
      "shift parameter= 1.01\n",
      "minimum residual= 5.689242067539249e-07  at iteraions:  28\n",
      "結果のノルム: 0.005334960115681009\n",
      "power=  (0.026888417142086056+0.0022206004632089526j)\n",
      "center magnetic field =  ((0.004603205752154496-0.0002860447043290564j), (-1.7938015670873053e-05+1.2480739337527634e-05j), (0.005713515253043031-0.00358302633872844j))\n"
     ]
    }
   ],
   "source": [
    "f = LinearForm(fesTOmega)\n",
    "f +=Mu*grad(gfOmega)*grad(psi)*dx(reduced_region)\n",
    "with TaskManager():\n",
    "    f.Assemble() \n",
    "#remove components of the Dirichlet boundary\n",
    "fcut = np.array(f.vec.FV())[fesTOmega.FreeDofs()]\n",
    "np.array(f.vec.FV(), copy=False)[fesTOmega.FreeDofs()] = fcut\n",
    "\n",
    "# Add Neumann condition terms\n",
    "f += (normal*Bv)*psi*ds(total_boundary)\n",
    "with TaskManager():\n",
    "    f.Assemble()\n",
    "gfTOmega = GridFunction(fesTOmega)   #Clear gfA\n",
    "gfTOmega=solver.iccg_solve(fesTOmega, gfTOmega, a, f.vec.FV(), tol=1.e-10, max_iter=200, accel_factor=0, complex=jomega) \n",
    "gfT, gfOmega=gfTOmega.components\n",
    "\n",
    "fesOt=H1(mesh, order=feorder, definedon=total_region, complex=jomega)\n",
    "fesOr=H1(mesh, order=feorder, definedon=reduced_region, complex=jomega)\n",
    "Ot=GridFunction(fesOt)\n",
    "Orr=GridFunction(fesOr)\n",
    "Oxr=GridFunction(fesOr)\n",
    "\n",
    "Ot.Set(gfOmega,VOL, definedon=total_region)\n",
    "Orr.Set(gfOmega,VOL, definedon=reduced_region)\n",
    "Oxr.Set(surfaceOmega, BND, mesh.Boundaries(total_boundary))\n",
    "#Oxr.Set(Ov, BND, mesh.Boundaries(total_boundary))\n",
    "\n",
    "Bt=(gfT+grad(Ot))*Mu\n",
    "Or=Orr-Oxr\n",
    "Br=(grad(Orr)-grad(Oxr))*mu\n",
    "Bfield=Bt+Br+Bs\n",
    "Jfield=curl(gfT)\n",
    "\n",
    "mip = mesh(0,0,0)\n",
    "print(\"center magnetic field = \", Bfield(mip))\n"
   ]
  },
  {
   "cell_type": "code",
   "execution_count": 6,
   "id": "0fb1f280-96d1-4d22-ac0d-8696281c5415",
   "metadata": {},
   "outputs": [
    {
     "name": "stdout",
     "output_type": "stream",
     "text": [
      " Average Joule loss=  0.349095359071325\n"
     ]
    }
   ],
   "source": [
    "if jomega==False:\n",
    "    WJ=Integrate(Jfield*Jfield/Sigma*dx(conductive_region), mesh)\n",
    "else:\n",
    "    WJ=Integrate((Jfield.real*Jfield.real+Jfield.imag*Jfield.imag)/Sigma*dx(conductive_region), mesh) /2\n",
    "print(\" Average Joule loss= \", WJ)"
   ]
  },
  {
   "cell_type": "code",
   "execution_count": 7,
   "id": "34cec3ac-4eba-48b6-883a-ea846ce20432",
   "metadata": {},
   "outputs": [
    {
     "name": "stdout",
     "output_type": "stream",
     "text": [
      "****** Bfield.real ******\n"
     ]
    },
    {
     "data": {
      "application/vnd.jupyter.widget-view+json": {
       "model_id": "9ee46838725d4d41a348b590d38df363",
       "version_major": 2,
       "version_minor": 0
      },
      "text/plain": [
       "WebGuiWidget(layout=Layout(height='50vh', width='100%'), value={'gui_settings': {}, 'ngsolve_version': '6.2.24…"
      ]
     },
     "metadata": {},
     "output_type": "display_data"
    },
    {
     "name": "stdout",
     "output_type": "stream",
     "text": [
      "****** Bfield.imag ******\n"
     ]
    },
    {
     "data": {
      "application/vnd.jupyter.widget-view+json": {
       "model_id": "71f80a9621ce4939a6a35518edee460d",
       "version_major": 2,
       "version_minor": 0
      },
      "text/plain": [
       "WebGuiWidget(layout=Layout(height='50vh', width='100%'), value={'gui_settings': {}, 'ngsolve_version': '6.2.24…"
      ]
     },
     "metadata": {},
     "output_type": "display_data"
    },
    {
     "name": "stdout",
     "output_type": "stream",
     "text": [
      "****** Jfield.real ******\n"
     ]
    },
    {
     "data": {
      "application/vnd.jupyter.widget-view+json": {
       "model_id": "29fbeb36265a4a6bae98f75aceafbe1f",
       "version_major": 2,
       "version_minor": 0
      },
      "text/plain": [
       "WebGuiWidget(layout=Layout(height='50vh', width='100%'), value={'gui_settings': {}, 'ngsolve_version': '6.2.24…"
      ]
     },
     "metadata": {},
     "output_type": "display_data"
    },
    {
     "name": "stdout",
     "output_type": "stream",
     "text": [
      "****** Jfield.imag ******\n"
     ]
    },
    {
     "data": {
      "application/vnd.jupyter.widget-view+json": {
       "model_id": "7f7084b8175648b0b455d18b1b0aa8ff",
       "version_major": 2,
       "version_minor": 0
      },
      "text/plain": [
       "WebGuiWidget(layout=Layout(height='50vh', width='100%'), value={'gui_settings': {}, 'ngsolve_version': '6.2.24…"
      ]
     },
     "metadata": {},
     "output_type": "display_data"
    }
   ],
   "source": [
    "if jomega==True:\n",
    "    print(\"****** Bfield.real ******\")\n",
    "    Draw (Bfield.real, mesh, order=3, deformation=False) \n",
    "    print(\"****** Bfield.imag ******\")\n",
    "    Draw (Bfield.imag, mesh, order=3, deformation=False) \n",
    "    print(\"****** Jfield.real ******\")\n",
    "    Draw (Jfield.real, mesh, order=3, deformation=False) \n",
    "    print(\"****** Jfield.imag ******\")\n",
    "    Draw (Jfield.imag, mesh, order=3, deformation=False) \n",
    "else:\n",
    "    print(\"****** Bfield ******\")\n",
    "    Draw (Bfield, mesh, order=3, deformation=False) \n",
    "    print(\"****** Jfield ******\")\n",
    "    Draw (Jfield, mesh, order=3, deformation=False) "
   ]
  },
  {
   "attachments": {
    "69a0f1f4-1afc-452a-bce2-d4ed5bacc4a9.png": {
     "image/png": "[encoded data removed]"
    },
    "fa8860f2-f75f-42dd-8613-31f132067bb3.png": {
     "image/png": "[encoded data removed]"
    }
   },
   "cell_type": "markdown",
   "id": "812bfec1-5628-410c-b2fe-c95467a7947d",
   "metadata": {},
   "source": [
    "Apply Coil field, 　Dirichlet=False, feOrder=3\n",
    "\n",
    "B field real [0, 0.00354]\n",
    "![image.png](attachment:69a0f1f4-1afc-452a-bce2-d4ed5bacc4a9.png)\n",
    "\n",
    "B field img [0, 0.00475]\n",
    "![image.png](attachment:fa8860f2-f75f-42dd-8613-31f132067bb3.png)\n",
    "\n",
    "center magnetic field =  ((0.0046114017915582835-0.0002700835030015863j), (-2.871086876578396e-08+6.144269445770649e-08j), (0.005696655611467302-0.0035804087837488048j))"
   ]
  },
  {
   "attachments": {
    "47447b7c-18dd-47ec-bb1a-89cbbcadcfcb.png": {
     "image/png": "[encoded data removed]"
    },
    "517163f4-e60f-4015-840e-cc6bc434b75f.png": {
     "image/png": "[encoded data removed]"
    },
    "9365b149-044e-4e5d-ba76-455aa38f79be.png": {
     "image/png": "[encoded data removed]"
    }
   },
   "cell_type": "markdown",
   "id": "d088356d-4986-4b1a-9778-7da997ee1f14",
   "metadata": {},
   "source": [
    "Apply Coil field, 　Dirichlet=False, feOrder=3\n",
    "\n",
    "J field real [0, 5.97e5]\n",
    "![image.png](attachment:517163f4-e60f-4015-840e-cc6bc434b75f.png)\n",
    "\n",
    "J field imag [0, 1.76e6]\n",
    "![image.png](attachment:47447b7c-18dd-47ec-bb1a-89cbbcadcfcb.png)\n",
    "\n",
    "Average Joule loss=  0.34934970207307614  <-->0.3486242392846813 (A-Phi, feOrder=3)\n",
    "\n",
    "![image.png](attachment:9365b149-044e-4e5d-ba76-455aa38f79be.png)"
   ]
  },
  {
   "cell_type": "code",
   "execution_count": null,
   "id": "bddfdef8-72c0-4c0e-b818-02a6cef9333d",
   "metadata": {},
   "outputs": [],
   "source": []
  }
 ],
 "metadata": {
  "kernelspec": {
   "display_name": "my_env",
   "language": "python",
   "name": "my_env"
  },
  "language_info": {
   "codemirror_mode": {
    "name": "ipython",
    "version": 3
   },
   "file_extension": ".py",
   "mimetype": "text/x-python",
   "name": "python",
   "nbconvert_exporter": "python",
   "pygments_lexer": "ipython3",
   "version": "3.10.5"
  }
 },
 "nbformat": 4,
 "nbformat_minor": 5
}
