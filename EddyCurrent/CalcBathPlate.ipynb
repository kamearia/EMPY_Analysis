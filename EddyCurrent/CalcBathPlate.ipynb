{
 "cells": [
  {
   "cell_type": "code",
   "execution_count": 1,
   "id": "67646947-5094-47ed-a5f9-f0a968f29b8a",
   "metadata": {
    "scrolled": true
   },
   "outputs": [
    {
     "ename": "ImportError",
     "evalue": "DLL load failed while importing EMPY_Solver: 指定されたモジュールが見つかりません。",
     "output_type": "error",
     "traceback": [
      "\u001b[1;31m---------------------------------------------------------------------------\u001b[0m",
      "\u001b[1;31mImportError\u001b[0m                               Traceback (most recent call last)",
      "Cell \u001b[1;32mIn[1], line 9\u001b[0m\n\u001b[0;32m      5\u001b[0m sys\u001b[38;5;241m.\u001b[39mpath\u001b[38;5;241m.\u001b[39mappend(\u001b[38;5;124mr\u001b[39m\u001b[38;5;124m'\u001b[39m\u001b[38;5;124m..\u001b[39m\u001b[38;5;124m\\\u001b[39m\u001b[38;5;124mStatic\u001b[39m\u001b[38;5;124m'\u001b[39m) \n\u001b[0;32m      6\u001b[0m \u001b[38;5;66;03m#from Omega_ReducedOmega import Omega_ReducedOmega_Method\u001b[39;00m\n\u001b[0;32m      7\u001b[0m \u001b[38;5;66;03m#from A_ReducedOmega import A_ReducedOmega_Method\u001b[39;00m\n\u001b[0;32m      8\u001b[0m \u001b[38;5;66;03m#from A_ReducedA import A_ReducedA_Method\u001b[39;00m\n\u001b[1;32m----> 9\u001b[0m \u001b[38;5;28;01mfrom\u001b[39;00m \u001b[38;5;21;01mA_Phi_ReducedA\u001b[39;00m \u001b[38;5;28;01mimport\u001b[39;00m A_Phi_ReducedA_Method\n\u001b[0;32m     10\u001b[0m sys\u001b[38;5;241m.\u001b[39mpath\u001b[38;5;241m.\u001b[39mappend(\u001b[38;5;124mr\u001b[39m\u001b[38;5;124m'\u001b[39m\u001b[38;5;124m..\u001b[39m\u001b[38;5;124m\\\u001b[39m\u001b[38;5;124mbin\u001b[39m\u001b[38;5;124m\\\u001b[39m\u001b[38;5;124mRelease\u001b[39m\u001b[38;5;124m'\u001b[39m) \n\u001b[0;32m     11\u001b[0m \u001b[38;5;28;01mfrom\u001b[39;00m \u001b[38;5;21;01mEMPY_Field\u001b[39;00m \u001b[38;5;28;01mimport\u001b[39;00m \u001b[38;5;241m*\u001b[39m\n",
      "File \u001b[1;32mC:\\EMSolution\\EMSolpy6\\EMPY_Analysis\\EddyCurrent\\..\\Static\\A_Phi_ReducedA.py:7\u001b[0m\n\u001b[0;32m      5\u001b[0m \u001b[38;5;28;01mimport\u001b[39;00m \u001b[38;5;21;01msys\u001b[39;00m\n\u001b[0;32m      6\u001b[0m sys\u001b[38;5;241m.\u001b[39mpath\u001b[38;5;241m.\u001b[39mappend(\u001b[38;5;124mr\u001b[39m\u001b[38;5;124m'\u001b[39m\u001b[38;5;124m..\u001b[39m\u001b[38;5;124m\\\u001b[39m\u001b[38;5;124minclude\u001b[39m\u001b[38;5;124m'\u001b[39m)\n\u001b[1;32m----> 7\u001b[0m \u001b[38;5;28;01mfrom\u001b[39;00m \u001b[38;5;21;01mMatrixSolver\u001b[39;00m \u001b[38;5;28;01mimport\u001b[39;00m MatrixSolver \u001b[38;5;28;01mas\u001b[39;00m solver \n\u001b[0;32m      8\u001b[0m sys\u001b[38;5;241m.\u001b[39mpath\u001b[38;5;241m.\u001b[39mappend(\u001b[38;5;124mr\u001b[39m\u001b[38;5;124m'\u001b[39m\u001b[38;5;124m..\u001b[39m\u001b[38;5;124m\\\u001b[39m\u001b[38;5;124mbin\u001b[39m\u001b[38;5;124m\\\u001b[39m\u001b[38;5;124mRelease\u001b[39m\u001b[38;5;124m'\u001b[39m) \n\u001b[0;32m      9\u001b[0m \u001b[38;5;28;01mfrom\u001b[39;00m \u001b[38;5;21;01mEMPY_Field\u001b[39;00m \u001b[38;5;28;01mimport\u001b[39;00m \u001b[38;5;241m*\u001b[39m\n",
      "File \u001b[1;32mC:\\EMSolution\\EMSolpy6\\EMPY_Analysis\\EddyCurrent\\..\\include\\MatrixSolver.py:11\u001b[0m\n\u001b[0;32m      7\u001b[0m \u001b[38;5;66;03m#if platform.system() == 'Windows':\u001b[39;00m\n\u001b[0;32m      8\u001b[0m \u001b[38;5;66;03m#if cpp_solver==\"EMPY\":\u001b[39;00m\n\u001b[0;32m      9\u001b[0m     \u001b[38;5;66;03m#sys.path.append(r'C:\\EMSolution\\EMSolPy3\\x64\\Release') \u001b[39;00m\n\u001b[0;32m     10\u001b[0m sys\u001b[38;5;241m.\u001b[39mpath\u001b[38;5;241m.\u001b[39mappend(\u001b[38;5;124mr\u001b[39m\u001b[38;5;124m'\u001b[39m\u001b[38;5;124m..\u001b[39m\u001b[38;5;124m\\\u001b[39m\u001b[38;5;124mbin\u001b[39m\u001b[38;5;124m\\\u001b[39m\u001b[38;5;124mRelease\u001b[39m\u001b[38;5;124m'\u001b[39m) \n\u001b[1;32m---> 11\u001b[0m \u001b[38;5;28;01mimport\u001b[39;00m \u001b[38;5;21;01mEMPY_Solver\u001b[39;00m\n\u001b[0;32m     12\u001b[0m \u001b[38;5;66;03m#else:\u001b[39;00m\n\u001b[0;32m     13\u001b[0m sys\u001b[38;5;241m.\u001b[39mpath\u001b[38;5;241m.\u001b[39mappend(\u001b[38;5;124mr\u001b[39m\u001b[38;5;124m'\u001b[39m\u001b[38;5;124m..\u001b[39m\u001b[38;5;124m\\\u001b[39m\u001b[38;5;124mbin\u001b[39m\u001b[38;5;124m\\\u001b[39m\u001b[38;5;124mRelease\u001b[39m\u001b[38;5;124m'\u001b[39m)\n",
      "\u001b[1;31mImportError\u001b[0m: DLL load failed while importing EMPY_Solver: 指定されたモジュールが見つかりません。"
     ]
    }
   ],
   "source": [
    "from ngsolve import *\n",
    "from netgen.occ import *\n",
    "from ngsolve.webgui import Draw\n",
    "from netgen.webgui import Draw as DrawGeo  \n",
    "sys.path.append(r'..\\Static') \n",
    "#from Omega_ReducedOmega import Omega_ReducedOmega_Method\n",
    "#from A_ReducedOmega import A_ReducedOmega_Method\n",
    "#from A_ReducedA import A_ReducedA_Method\n",
    "from A_Phi_ReducedA import A_Phi_ReducedA_Method\n",
    "sys.path.append(r'..\\bin\\Release') \n",
    "from EMPY_Field import *\n",
    "sys.path.append(r'..\\model')\n",
    "#from SphereMesh import SphereMesh\n",
    "from BathPlateModel import BathPlateModel\n",
    "from Team7Model import Team7Model\n",
    "\n",
    "#coil=UNIF(0,0,1,0)\n",
    "#model=CubeMesh(msize=meshsize.coarse, curveOrder=3, rKelvin=5)\n",
    "#model=SphereMesh(mur=1, sigma=5.e7, msize=meshsize.coarse, curveOrder=3, rKelvin=8)\n",
    "model=BathPlateModel(holes=2, outerBox=\"sphere\", boxx=0.2, boxy=0.2, boxz=0.2,  msize=meshsize.very_coarse, sigma=0.3278e8, rKelvin=0.15)\n",
    "#model=Team7Model()\n",
    "mesh=model.mesh\n",
    "Draw(mesh)\n",
    "DrawGeo(model.geo)\n",
    "Draw(model.plotMesh)\n",
    "\n",
    "feOrder=3\n",
    "#cal=Omega_ReducedOmega_Method(model, coil, feOrder=feOrder, boundaryCD=\"Bn0\", Kelvin=\"on\")\n",
    "cal=A_Phi_ReducedA_Method(model, jomega=True, freq=200)\n",
    "cal.Calc( feOrder=feOrder, Kelvin=\"on\", boundaryCD=\"Bn0\", regularization=True, tol=1.e-8)\n",
    "cal.CalcResult(model, plotBFieldonLine=True, drawFields=True, pltBField=False, useModelPlot=True)\n",
    "#maxerror, error=cal.CalcError()\n",
    "#cal.CalcError()\n",
    "Draw(Norm(cal.JField), model.plotMesh)\n"
   ]
  },
  {
   "cell_type": "code",
   "execution_count": null,
   "id": "fecb3b39-4938-4cfa-acb2-f63d0d027a16",
   "metadata": {
    "scrolled": true
   },
   "outputs": [],
   "source": [
    "\n",
    "iter=0\n",
    "#for iter in range(6):\n",
    "while True:\n",
    "    iter=iter+1\n",
    "    print(\"Adaptive iteration: \",iter) \n",
    "    maxerror, error=cal.CalcError()\n",
    "    cal.Refine(maxerror, error)\n",
    "    Draw(mesh)\n",
    "\n",
    "    cal=A_Phi_ReducedA_Method(model, jomega=True, freq=200)\n",
    "    rt=cal.Calc( feOrder=feOrder, Kelvin=\"on\", boundaryCD=\"Bn0\", regularization=True, tol=1.e-8)\n",
    "\n",
    "    if rt==0: break\n",
    "    cal.CalcResult(model, plotBFieldonLine=True, drawFields=True, pltBField=False, useModelPlot=True)\n",
    "    #cal=Omega_ReducedOmega_Method(model, coil, feOrder=feOrder, boundaryCD=\"Bn0\")\n"
   ]
  },
  {
   "cell_type": "code",
   "execution_count": null,
   "id": "0a1947e9-79d9-4051-a789-209a0e1c7670",
   "metadata": {},
   "outputs": [],
   "source": []
  }
 ],
 "metadata": {
  "kernelspec": {
   "display_name": "Python 3 (ipykernel)",
   "language": "python",
   "name": "python3"
  },
  "language_info": {
   "codemirror_mode": {
    "name": "ipython",
    "version": 3
   },
   "file_extension": ".py",
   "mimetype": "text/x-python",
   "name": "python",
   "nbconvert_exporter": "python",
   "pygments_lexer": "ipython3",
   "version": "3.12.10"
  }
 },
 "nbformat": 4,
 "nbformat_minor": 5
}
