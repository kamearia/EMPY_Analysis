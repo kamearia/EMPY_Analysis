{
 "cells": [
  {
   "cell_type": "code",
   "execution_count": 1,
   "id": "b8ac0053-c9c2-4048-989f-71b5a3b02faa",
   "metadata": {},
   "outputs": [],
   "source": [
    "from ngsolve import *\n",
    "import sys\n",
    "sys.path.append('..\\include')\n",
    "from MatrixSolver import MatrixSolver as solver \n",
    "def HtoOmega(mesh, boundary, feOrder, H):\n",
    "    fesOmega = H1(mesh, order=feOrder, definedon=mesh.Boundaries(boundary), curveOrder=1, ndiv=1, complex=False)\n",
    "    omega, psi= fesOmega.TnT()\n",
    "\n",
    "    a = BilinearForm(fesOmega)\n",
    "    a +=grad(omega).Trace()*grad(psi).Trace()*ds\n",
    "    f=LinearForm(fesOmega)\n",
    "    f += (grad(psi).Trace()*H)*ds\n",
    "    with TaskManager():\n",
    "        a.Assemble()\n",
    "        f.Assemble()\n",
    "    gfOmega=GridFunction(fesOmega)\n",
    "    gfOmega=solver.iccg_solve(fesOmega, gfOmega, a, f.vec.FV(), tol=1.e-16, max_iter=200, accel_factor=0, complex=False) \n",
    "    return gfOmega"
   ]
  },
  {
   "cell_type": "code",
   "execution_count": 2,
   "id": "e979efd0-8650-40c7-bd59-ed0d04caeee8",
   "metadata": {},
   "outputs": [
    {
     "data": {
      "application/vnd.jupyter.widget-view+json": {
       "model_id": "da3c515cee814141a21f367e44715aa2",
       "version_major": 2,
       "version_minor": 0
      },
      "text/plain": [
       "WebGuiWidget(layout=Layout(height='50vh', width='100%'), value={'gui_settings': {}, 'ngsolve_version': '6.2.24…"
      ]
     },
     "metadata": {},
     "output_type": "display_data"
    },
    {
     "data": {
      "text/plain": [
       "BaseWebGuiScene"
      ]
     },
     "execution_count": 2,
     "metadata": {},
     "output_type": "execute_result"
    }
   ],
   "source": [
    "from netgen.meshing import *\n",
    "from netgen.csg import *\n",
    "from netgen.occ import *\n",
    "from ngsolve import *\n",
    "from ngsolve.webgui import Draw\n",
    "from netgen.webgui import Draw as DrawGeo\n",
    "import math\n",
    "import numpy as np\n",
    "import sys\n",
    "sys.path.append(r'..\\..\\bin\\Release') \n",
    "from EMPY_Field import *\n",
    "sys.path.append('..\\model')\n",
    "from Cylinder_Yaxis_1Layer import Cylinder_Yaxis_1Layer\n",
    "sys.path.append('..\\include')\n",
    "from MatrixSolver import MatrixSolver as solver \n",
    "#from HtoOmega import HtoOmega\n",
    "model=Cylinder_Yaxis_1Layer(sigma=5e7)\n",
    "mesh=model.mesh\n",
    "Draw(mesh)"
   ]
  },
  {
   "cell_type": "code",
   "execution_count": 3,
   "id": "296b4c39-33c5-4d41-a7eb-f61e944f2b8a",
   "metadata": {},
   "outputs": [],
   "source": [
    "import math\n",
    "jomega=True\n",
    "f=0.1\n",
    "if jomega==True:\n",
    "    s=2j*math.pi*f\n",
    "else:\n",
    "    s=2*math.pi*f\n",
    "Dirichlet=False\n",
    "feorder=1\n",
    "mu=4e-7*math.pi\n",
    "symmetric_plane=model.symmetric_plane\n",
    "Mu=model.Mu\n",
    "Sigma=model.Sigma\n",
    "reduced_region=model.reduced_region\n",
    "total_region=model.total_region\n",
    "conductive_region=model.conductive_region\n",
    "air_region=model.air_region\n",
    "total_boundary=model.total_boundary\n",
    "reduced_boundary=model.reduced_boundary\n",
    "conductor_boundary=model.conductor_boundary"
   ]
  },
  {
   "cell_type": "code",
   "execution_count": 4,
   "id": "a37a4ae9-075f-4941-a1d1-0a48a7b66064",
   "metadata": {},
   "outputs": [],
   "source": [
    "\n",
    "field=UNIF(0,1,0,0)\n",
    "Ov=Ofield(field)\n",
    "Bv=Bfield(field)\n",
    "Hv=Bv/mu\n",
    "Os=model.ReducedField(Ov, 0)\n",
    "Bs=model.ReducedField(Bv, (0,0,0))\n",
    "\n",
    "if Dirichlet==True:\n",
    "    fesOmega=H1(mesh, order=feorder, dirichlet=reduced_boundary, complex=jomega)\n",
    "else:\n",
    "    fesOmega=H1(mesh, order=feorder, complex=jomega)\n",
    "fesT=HCurl(mesh, order=feorder, nograd=True, definedon=conductive_region, dirichlet=conductor_boundary, complex=jomega)     \n",
    "fesTOmega=fesT*fesOmega\n",
    "(T,omega),(W, psi) = fesTOmega.TnT() \n",
    "gfTOmega = GridFunction(fesTOmega)\n",
    "gfT, gfOmega =gfTOmega.components\n",
    "a= BilinearForm(fesTOmega)\n",
    "a +=Mu*grad(omega)*grad(psi)*dx(air_region)\n",
    "a +=Mu*(T+grad(omega))*(W+grad(psi))*dx(conductive_region)\n",
    "a +=1/(s*Sigma)*curl(T)*curl(W)*dx(conductive_region)\n",
    "with TaskManager():\n",
    "    a.Assemble()\n",
    "normal = specialcf.normal(mesh.dim)"
   ]
  },
  {
   "cell_type": "code",
   "execution_count": 5,
   "id": "9f7f4639-0013-42d3-a1f1-2df20865b9b2",
   "metadata": {},
   "outputs": [
    {
     "name": "stdout",
     "output_type": "stream",
     "text": [
      "enter iccg_solve\n",
      "Dof= 62    matrix size= 93.0\n",
      "shift parameter= 1.0\n",
      "minimum residual= 2.042665534502945e-15  at iteraions:  21\n",
      "結果のノルム: 3.0135291794504496e-07\n",
      "power=  39652723659.6479\n"
     ]
    }
   ],
   "source": [
    "surfaceOmega=HtoOmega(mesh, total_boundary, feorder, Hv)\n",
    "# Calculate Dirichlet condition terms\n",
    "#gfOmega.Set(Ov, BND, mesh.Boundaries(total_boundary))\n",
    "gfOmega.Set(surfaceOmega, BND, mesh.Boundaries(total_boundary))"
   ]
  },
  {
   "cell_type": "code",
   "execution_count": 6,
   "id": "b35c8c00-8b6c-4f30-b3c0-021925e4bb3c",
   "metadata": {
    "scrolled": true
   },
   "outputs": [
    {
     "name": "stdout",
     "output_type": "stream",
     "text": [
      "enter iccg_solve\n",
      "Dof= 2550    matrix size= 61633.0\n",
      "shift parameter= 1.01\n",
      "minimum residual= 1.2749411949254772e-14  at iteraions:  64\n"
     ]
    },
    {
     "data": {
      "image/png": "[encoded data removed]",
      "text/plain": [
       "<Figure size 640x480 with 1 Axes>"
      ]
     },
     "metadata": {},
     "output_type": "display_data"
    },
    {
     "name": "stdout",
     "output_type": "stream",
     "text": [
      "結果のノルム: 6.440520196382754e-12\n",
      "power=  (275003.0628903181+781.64512309524j)\n",
      "center magnetic field =  ((0.0018177721326872239+0.0028136800839028957j), (1.4614579268978716-0.9781280225459085j), (1.2937681763518944e-12+9.398882929771685e-12j))\n"
     ]
    }
   ],
   "source": [
    "f = LinearForm(fesTOmega)\n",
    "f +=Mu*grad(gfOmega)*grad(psi)*dx(reduced_region)\n",
    "with TaskManager():\n",
    "    f.Assemble() \n",
    "#remove components of the Dirichlet boundary\n",
    "fcut = np.array(f.vec.FV())[fesTOmega.FreeDofs()]\n",
    "np.array(f.vec.FV(), copy=False)[fesTOmega.FreeDofs()] = fcut\n",
    "\n",
    "# Add Neumann condition terms\n",
    "f += (normal*Bv)*psi*ds(total_boundary)\n",
    "with TaskManager():\n",
    "    f.Assemble()\n",
    "gfTOmega = GridFunction(fesTOmega)   #Clear gfA\n",
    "gfTOmega=solver.iccg_solve(fesTOmega, gfTOmega, a, f.vec.FV(), tol=1.e-16, max_iter=200, accel_factor=0.0, complex=jomega, logplot=True) \n",
    "gfT, gfOmega=gfTOmega.components\n",
    "\n",
    "fesOt=H1(mesh, order=feorder, definedon=total_region, complex=jomega)\n",
    "fesOr=H1(mesh, order=feorder, definedon=reduced_region, complex=jomega)\n",
    "Ot=GridFunction(fesOt)\n",
    "Orr=GridFunction(fesOr)\n",
    "Oxr=GridFunction(fesOr)\n",
    "\n",
    "Ot.Set(gfOmega,VOL, definedon=total_region)\n",
    "Orr.Set(gfOmega,VOL, definedon=reduced_region)\n",
    "Oxr.Set(surfaceOmega, BND, mesh.Boundaries(total_boundary))\n",
    "#Oxr.Set(Ov, BND, mesh.Boundaries(total_boundary))\n",
    "\n",
    "Bt=(gfT+grad(Ot))*Mu\n",
    "Or=Orr-Oxr\n",
    "Br=(grad(Orr)-grad(Oxr))*mu\n",
    "Bfield=Bt+Br+Bs\n",
    "Jfield=curl(gfT)\n",
    "\n",
    "mip = mesh(0,0,0)\n",
    "print(\"center magnetic field = \", Bfield(mip))\n"
   ]
  },
  {
   "cell_type": "code",
   "execution_count": 7,
   "id": "0fb1f280-96d1-4d22-ac0d-8696281c5415",
   "metadata": {},
   "outputs": [
    {
     "name": "stdout",
     "output_type": "stream",
     "text": [
      " Average Joule loss=  245.56106425220662\n"
     ]
    }
   ],
   "source": [
    "if jomega==False:\n",
    "    WJ=Integrate(Jfield*Jfield/Sigma*dx(conductive_region, mesh))\n",
    "else:\n",
    "    WJ=Integrate((Jfield.real*Jfield.real+Jfield.imag*Jfield.imag)/Sigma*dx(conductive_region), mesh) /2\n",
    "print(\" Average Joule loss= \", WJ)"
   ]
  },
  {
   "cell_type": "code",
   "execution_count": 8,
   "id": "34cec3ac-4eba-48b6-883a-ea846ce20432",
   "metadata": {
    "scrolled": true
   },
   "outputs": [
    {
     "name": "stdout",
     "output_type": "stream",
     "text": [
      "****** Bfield.real ******\n"
     ]
    },
    {
     "data": {
      "application/vnd.jupyter.widget-view+json": {
       "model_id": "983ff561262c49b9ad2b541d560ae6b0",
       "version_major": 2,
       "version_minor": 0
      },
      "text/plain": [
       "WebGuiWidget(layout=Layout(height='50vh', width='100%'), value={'gui_settings': {}, 'ngsolve_version': '6.2.24…"
      ]
     },
     "metadata": {},
     "output_type": "display_data"
    },
    {
     "name": "stdout",
     "output_type": "stream",
     "text": [
      "****** Bfield.imag ******\n"
     ]
    },
    {
     "data": {
      "application/vnd.jupyter.widget-view+json": {
       "model_id": "ed227947341943da81bac05775489249",
       "version_major": 2,
       "version_minor": 0
      },
      "text/plain": [
       "WebGuiWidget(layout=Layout(height='50vh', width='100%'), value={'gui_settings': {}, 'ngsolve_version': '6.2.24…"
      ]
     },
     "metadata": {},
     "output_type": "display_data"
    },
    {
     "name": "stdout",
     "output_type": "stream",
     "text": [
      "****** Jfield.real ******\n"
     ]
    },
    {
     "data": {
      "application/vnd.jupyter.widget-view+json": {
       "model_id": "d225640d397c4f539e475de9cc35669f",
       "version_major": 2,
       "version_minor": 0
      },
      "text/plain": [
       "WebGuiWidget(layout=Layout(height='50vh', width='100%'), value={'gui_settings': {}, 'ngsolve_version': '6.2.24…"
      ]
     },
     "metadata": {},
     "output_type": "display_data"
    },
    {
     "name": "stdout",
     "output_type": "stream",
     "text": [
      "****** Jfield.imag ******\n"
     ]
    },
    {
     "data": {
      "application/vnd.jupyter.widget-view+json": {
       "model_id": "b5249f340bf74c098493d6510b534895",
       "version_major": 2,
       "version_minor": 0
      },
      "text/plain": [
       "WebGuiWidget(layout=Layout(height='50vh', width='100%'), value={'gui_settings': {}, 'ngsolve_version': '6.2.24…"
      ]
     },
     "metadata": {},
     "output_type": "display_data"
    }
   ],
   "source": [
    "if jomega==True:\n",
    "    print(\"****** Bfield.real ******\")\n",
    "    Draw (Bfield.real, mesh, order=3, deformation=False) \n",
    "    print(\"****** Bfield.imag ******\")\n",
    "    Draw (Bfield.imag, mesh, order=3, deformation=False) \n",
    "    print(\"****** Jfield.real ******\")\n",
    "    Draw (Jfield.real, mesh, order=3, deformation=False) \n",
    "    print(\"****** Jfield.imag ******\")\n",
    "    Draw (Jfield.imag, mesh, order=3, deformation=False) \n",
    "else:\n",
    "    print(\"****** Bfield ******\")\n",
    "    Draw (Bfield, mesh, order=3, deformation=False) \n",
    "    print(\"****** Jfield ******\")\n",
    "    Draw (Jfield, mesh, order=3, deformation=False) "
   ]
  },
  {
   "attachments": {
    "64a691ab-d943-414d-9e84-82aa4ed1dd95.png": {
     "image/png": "[encoded data removed]"
    },
    "ef1370ac-45d7-4148-802f-3b5d9dea6222.png": {
     "image/png": "[encoded data removed]"
    }
   },
   "cell_type": "markdown",
   "id": "55376137-8c22-46e9-a329-7a1af1196c26",
   "metadata": {},
   "source": [
    "Dirichlet=False feorder=3\n",
    "\n",
    "Jz real [-1.24e6, 1.24e6]\n",
    "![image.png](attachment:ef1370ac-45d7-4148-802f-3b5d9dea6222.png)\n",
    "\n",
    "Jz imag [-5.55e6, 5.55e6]\n",
    "![image.png](attachment:64a691ab-d943-414d-9e84-82aa4ed1dd95.png)\n",
    "\n",
    "Average Joule loss=  234.43776788148986\n",
    "\n"
   ]
  },
  {
   "cell_type": "code",
   "execution_count": null,
   "id": "96f15b96-ed1f-4762-8e32-74540d496841",
   "metadata": {},
   "outputs": [],
   "source": []
  }
 ],
 "metadata": {
  "kernelspec": {
   "display_name": "my_env",
   "language": "python",
   "name": "my_env"
  },
  "language_info": {
   "codemirror_mode": {
    "name": "ipython",
    "version": 3
   },
   "file_extension": ".py",
   "mimetype": "text/x-python",
   "name": "python",
   "nbconvert_exporter": "python",
   "pygments_lexer": "ipython3",
   "version": "3.10.5"
  }
 },
 "nbformat": 4,
 "nbformat_minor": 5
}
