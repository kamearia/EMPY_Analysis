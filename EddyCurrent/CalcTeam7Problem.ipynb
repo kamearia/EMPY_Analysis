{
 "cells": [
  {
   "cell_type": "code",
   "execution_count": null,
   "id": "2bbefa47-6efe-4990-b0f2-663d7b8be7f8",
   "metadata": {},
   "outputs": [],
   "source": [
    "from ngsolve import *\n",
    "from netgen.occ import *\n",
    "from ngsolve.webgui import Draw\n",
    "from netgen.webgui import Draw as DrawGeo  \n",
    "sys.path.append(r'..\\Static') \n",
    "from Omega_ReducedOmega import Omega_ReducedOmega_Method\n",
    "from A_ReducedOmega import A_ReducedOmega_Method\n",
    "from A_ReducedA import A_ReducedA_Method\n",
    "from A_Phi_ReducedA import A_Phi_ReducedA_Method\n",
    "sys.path.append(r'..\\bin\\Release') \n",
    "from EMPY_Field import *\n",
    "sys.path.append(r'..\\model')\n",
    "#from SphereMesh import SphereMesh\n",
    "from BathPlateModel import BathPlateModel\n",
    "from Team7Model import Team7Model\n",
    "\n",
    "#coil=UNIF(0,0,1,0)\n",
    "#model=CubeMesh(msize=meshsize.coarse, curveOrder=3, rKelvin=5)\n",
    "#model=SphereMesh(mur=1, sigma=5.e7, msize=meshsize.coarse, curveOrder=3, rKelvin=8)\n",
    "#model=BathPlateModel(holes=2, outerBox=\"sphere\", boxx=0.2, boxy=0.2, boxz=0.2,  msize=meshsize.very_coarse, sigma=0.3278e8, rKelvin=0.)\n",
    "model=Team7Model(msize=meshsize.very_coarse, rKelvin=300.e-3)\n",
    "mesh=model.mesh\n",
    "print(\" mesh: nv=\", mesh.nv, \" nedge=\", mesh.nedge, \" nfacet=\", mesh.nfacet, \" ne=\",mesh.ne) \n",
    "Draw(mesh)\n",
    "DrawGeo(model.geo)"
   ]
  },
  {
   "cell_type": "code",
   "execution_count": null,
   "id": "c8b5d2c5-7677-4c4b-99a7-f6b56b9efaae",
   "metadata": {},
   "outputs": [],
   "source": [
    "feOrder=3\n",
    "#cal=Omega_ReducedOmega_Method(model, coil, feOrder=feOrder, boundaryCD=\"Bn0\", Kelvin=\"on\")\n",
    "cal=A_Phi_ReducedA_Method(model, jomega=True, freq=200)\n",
    "cal.Calc( feOrder=feOrder, Kelvin=\"on\", boundaryCD=\"Bn0\", regularization=True, tol=1.e-8)\n",
    "cal.CalcResult(model, plotBFieldonLine=False,  drawFields=False, pltBField=False, plotResults=True)\n",
    "#maxerror, error=cal.CalcError()\n",
    "#cal.CalcError()"
   ]
  },
  {
   "cell_type": "code",
   "execution_count": null,
   "id": "fecb3b39-4938-4cfa-acb2-f63d0d027a16",
   "metadata": {
    "scrolled": true
   },
   "outputs": [],
   "source": [
    "\n",
    "iter=0\n",
    "#for iter in range(6):\n",
    "while True:\n",
    "    iter=iter+1\n",
    "    print(\"Adaptive iteration: \",iter) \n",
    "    maxerror, error=cal.CalcError()\n",
    "    cal.Refine(maxerror, error, adaptive=True, limit=0.25)\n",
    "    cal=A_Phi_ReducedA_Method(model, jomega=True, freq=200)\n",
    "    rt=cal.Calc( feOrder=feOrder, Kelvin=\"on\", boundaryCD=\"Bn0\", regularization=True, tol=1.e-8)\n",
    "    #cal=A_Phi_ReducedA_Method(model, jomega=True, freq=50)\n",
    "    #rt=cal.Calc(feOrder=feOrder, Kelvin=\"on\", boundaryCD=\"Bn0\")\n",
    "    if rt==0: break\n",
    "    cal.CalcResult(model, plotBFieldonLine=False,  drawFields=False, pltBField=False, plotResults=True)\n",
    "\n"
   ]
  }
 ],
 "metadata": {
  "kernelspec": {
   "display_name": "Python 3 (ipykernel)",
   "language": "python",
   "name": "python3"
  },
  "language_info": {
   "codemirror_mode": {
    "name": "ipython",
    "version": 3
   },
   "file_extension": ".py",
   "mimetype": "text/x-python",
   "name": "python",
   "nbconvert_exporter": "python",
   "pygments_lexer": "ipython3",
   "version": "3.12.10"
  }
 },
 "nbformat": 4,
 "nbformat_minor": 5
}
