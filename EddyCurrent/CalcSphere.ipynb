{
 "cells": [
  {
   "cell_type": "code",
   "execution_count": null,
   "id": "67646947-5094-47ed-a5f9-f0a968f29b8a",
   "metadata": {},
   "outputs": [],
   "source": [
    "from ngsolve import *\n",
    "from netgen.occ import *\n",
    "from ngsolve.webgui import Draw\n",
    "from netgen.webgui import Draw as DrawGeo  \n",
    "sys.path.append(r'..\\Static') \n",
    "from Omega_ReducedOmega import Omega_ReducedOmega_Method\n",
    "from A_ReducedOmega import A_ReducedOmega_Method\n",
    "from A_ReducedA import A_ReducedA_Method\n",
    "from A_Phi_ReducedA import A_Phi_ReducedA_Method\n",
    "sys.path.append(r'..\\bin\\Release') \n",
    "from EMPY_Field import *\n",
    "sys.path.append(r'..\\model')\n",
    "from SphereMesh import SphereMesh\n",
    "from BathPlateModel import BathPlateModel\n",
    "from Team7Model import Team7Model\n",
    "\n",
    "#model=SphereMesh(mur=1, sigma=5.e7, msize=meshsize.coarse, curveOrder=3, rKelvin=2, KelvinType=1)\n",
    "model=SphereMesh(mur=1, sigma=5.e7, msize=meshsize.coarse, curveOrder=3, rKelvin=2, KelvinType=2, rKelvin2=4)\n",
    "#model=SphereMesh(mur=1, sigma=5.e7, msize=meshsize.fine, curveOrder=3, rKelvin=2)\n",
    "Draw(model.mesh)\n",
    "\n",
    "DrawGeo(model.geo)\n",
    "\n",
    "feOrder=3\n",
    "\n",
    "#cal=Omega_ReducedOmega_Method(model,  feOrder=feOrder, boundaryCD=\"Bn0\", Kelvin=\"on\")\n",
    "cal=A_Phi_ReducedA_Method(model, jomega=True, freq=0.1, dofLimit=0.5e6)\n",
    "cal.Calc( feOrder=feOrder, Kelvin=\"on\", boundaryCD=\"Bn0\", regularization=False, tol=1.e-8)\n",
    "cal.CalcResult(model, plotBFieldonLine=False, drawFields=True, pltBField=True,  plotResults=False)\n",
    "#maxerror, error=cal.CalcError()\n",
    "#cal.CalcError()\n"
   ]
  },
  {
   "cell_type": "code",
   "execution_count": null,
   "id": "d38a298f-1f9d-49f0-8add-1ccd708a9a81",
   "metadata": {},
   "outputs": [],
   "source": [
    "#maxerror, error=cal.CalcError()\n",
    "#cal.Refine(maxerror, error, adaptive=True, errorRatio=0.25)"
   ]
  },
  {
   "cell_type": "code",
   "execution_count": null,
   "id": "fecb3b39-4938-4cfa-acb2-f63d0d027a16",
   "metadata": {
    "scrolled": true
   },
   "outputs": [],
   "source": [
    "\n",
    "iter=0\n",
    "#for iter in range(6):\n",
    "while True:\n",
    "    iter=iter+1\n",
    "    print(\"Adaptive iteration: \",iter) \n",
    "    maxerror, error=cal.CalcError()\n",
    "    cal.Refine(maxerror, error, adaptive=True, errorRatio=0.25)\n",
    "    cal=A_Phi_ReducedA_Method(model, jomega=True, freq=0.1, dofLimit=0.5e6)\n",
    "    rt=cal.Calc(feOrder=feOrder, Kelvin=\"on\", boundaryCD=\"Bn0\", regularization=False, tol=1.e-8, divfac=100., diviter=100)\n",
    "    if rt==0: break\n",
    "    cal.CalcResult(model, plotBFieldonLine=False, drawFields=True, pltBField=True,  plotResults=False)\n",
    "    #cal=Omega_ReducedOmega_Method(model, coil, feOrder=feOrder, boundaryCD=\"Bn0\")\n"
   ]
  }
 ],
 "metadata": {
  "kernelspec": {
   "display_name": "Python 3 (ipykernel)",
   "language": "python",
   "name": "python3"
  },
  "language_info": {
   "codemirror_mode": {
    "name": "ipython",
    "version": 3
   },
   "file_extension": ".py",
   "mimetype": "text/x-python",
   "name": "python",
   "nbconvert_exporter": "python",
   "pygments_lexer": "ipython3",
   "version": "3.12.10"
  }
 },
 "nbformat": 4,
 "nbformat_minor": 5
}
