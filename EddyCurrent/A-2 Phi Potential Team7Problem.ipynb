{
 "cells": [
  {
   "cell_type": "code",
   "execution_count": 1,
   "id": "147fbd7a-a039-4333-9230-d4253541b4be",
   "metadata": {},
   "outputs": [
    {
     "data": {
      "application/vnd.jupyter.widget-view+json": {
       "model_id": "926b2a18446f445f973882778697f018",
       "version_major": 2,
       "version_minor": 0
      },
      "text/plain": [
       "WebGuiWidget(layout=Layout(height='50vh', width='100%'), value={'ngsolve_version': 'Netgen x.x', 'mesh_dim': 3…"
      ]
     },
     "metadata": {},
     "output_type": "display_data"
    },
    {
     "data": {
      "application/vnd.jupyter.widget-view+json": {
       "model_id": "471b61aa53044788a739392e0e8832ee",
       "version_major": 2,
       "version_minor": 0
      },
      "text/plain": [
       "WebGuiWidget(layout=Layout(height='50vh', width='100%'), value={'gui_settings': {}, 'ngsolve_version': '6.2.24…"
      ]
     },
     "metadata": {},
     "output_type": "display_data"
    },
    {
     "data": {
      "text/plain": [
       "BaseWebGuiScene"
      ]
     },
     "execution_count": 1,
     "metadata": {},
     "output_type": "execute_result"
    }
   ],
   "source": [
    "from ngsolve import *\n",
    "from netgen.meshing import meshsize\n",
    "from ngsolve.webgui import Draw\n",
    "from netgen.webgui import Draw as DrawGeo\n",
    "import math\n",
    "import numpy as np\n",
    "import sys\n",
    "sys.path.append(r'..\\bin\\Release') \n",
    "from EMPY_Field import *\n",
    "sys.path.append('..\\include')\n",
    "from MatrixSolver import MatrixSolver as solver \n",
    "from A_Phi_Method import Ht_regularization\n",
    "sys.path.append('..\\model')\n",
    "sys.path.append('..\\COIL\\include')\n",
    "from Team7Model import Team7Model \n",
    "model=Team7Model(msize=meshsize.coarse, boxsize=1)\n",
    "DrawGeo(model.geo)\n",
    "mesh=model.mesh\n",
    "Draw(mesh)"
   ]
  },
  {
   "cell_type": "code",
   "execution_count": 2,
   "id": "a8105cc0-472d-42d3-a65c-7989d1a30b54",
   "metadata": {},
   "outputs": [],
   "source": [
    "import math\n",
    "feorder=4\n",
    "Dirichlet=False\n",
    "jomega=True\n",
    "f=50\n",
    "if jomega==True:\n",
    "    s=2j*math.pi*f\n",
    "else:\n",
    "    s=2*math.pi*f\n",
    "    \n"
   ]
  },
  {
   "cell_type": "code",
   "execution_count": 3,
   "id": "0c4ae2c4-714c-4998-8857-2981cb582a57",
   "metadata": {
    "scrolled": true
   },
   "outputs": [
    {
     "name": "stdout",
     "output_type": "stream",
     "text": [
      "enter iccg_solve\n",
      "Dof= 236161    matrix size= 10798042.5\n",
      "shift parameter= 1.1400000000000001\n",
      "minimum residual= nan  at iteraions:  0\n"
     ]
    },
    {
     "data": {
      "image/png": "[encoded data removed]",
      "text/plain": [
       "<Figure size 640x480 with 1 Axes>"
      ]
     },
     "metadata": {},
     "output_type": "display_data"
    },
    {
     "name": "stdout",
     "output_type": "stream",
     "text": [
      "結果のノルム: nan\n",
      "power=  (nan+nanj)\n"
     ]
    }
   ],
   "source": [
    "Mu=model.Mu\n",
    "Sigma=model.Sigma\n",
    "reduced_region=model.reduced_region\n",
    "total_region=model.total_region\n",
    "conductive_region=model.conductive_region\n",
    "symmetric_plane=model.symmetric_plane\n",
    "total_boundary=model.total_boundary\n",
    "reduced_boundary=model.reduced_boundary\n",
    "\n",
    "coil=model.coil.field\n",
    "#coil=UNIF(0,0,0.01,0)\n",
    "As=Afield(coil)\n",
    "Bs=Bfield(coil)\n",
    "mu=4.e-7*math.pi\n",
    "Hs=Bs/mu\n",
    "Asr=model.ReducedField(As, (0,0,0))\n",
    "Bsr=model.ReducedField(Bs, (0,0,0))\n",
    "\n",
    "if Dirichlet==True:\n",
    "    fesA=HCurl(mesh, order=feorder, dirichlet=symmetric_plane+'|'+reduced_boundary, nograds=True, complex=jomega)\n",
    "else:\n",
    "    fesA=HCurl(mesh, order=feorder, dirichlet=symmetric_plane, nograds=True, complex=jomega) \n",
    "fesPhi=H1(mesh, order=feorder, definedon=conductive_region, complex=jomega) \n",
    "fesAPhi=fesA*fesPhi\n",
    "(A,phi), (N, psi) = fesAPhi.TnT() \n",
    "gfAPhi = GridFunction(fesAPhi)\n",
    "gfA, gfPhi=gfAPhi.components\n",
    "\n",
    "normal = specialcf.normal(mesh.dim)\n",
    "a= BilinearForm(fesAPhi)\n",
    "a +=1/Mu*curl(A)*curl(N)*dx\n",
    "a +=s*Sigma*(A+grad(phi))*(N+grad(psi))*dx(conductive_region)\n",
    "with TaskManager():\n",
    "    a.Assemble()\n",
    "\n",
    "# Calculate Dirichlet condition terms\n",
    "gfA.Set(As, BND, mesh.Boundaries(total_boundary))\n",
    "f = LinearForm(fesAPhi)\n",
    "f +=1/Mu*curl(gfA)*curl(N)*dx(reduced_region)\n",
    "\n",
    "with TaskManager():\n",
    "    f.Assemble()    \n",
    "#remove components of the Dirichlet boundary\n",
    "fcut = np.array(f.vec.FV())[fesAPhi.FreeDofs()]\n",
    "np.array(f.vec.FV(), copy=False)[fesAPhi.FreeDofs()] = fcut\n",
    "\n",
    "# Add Neumann condition terms\n",
    "#hst=Ht_regularization(Hs, mesh, total_boundary, feorder)\n",
    "f += Cross(N.Trace(),Hs)*normal*ds(total_boundary)\n",
    "#f += Cross(N.Trace(),hst)*normal*ds(total_boundary)\n",
    "with TaskManager():\n",
    "    f.Assemble()\n",
    "gfAPhi= GridFunction(fesAPhi)   #Clear gfA\n",
    "gfA, gfPhi=gfAPhi.components\n",
    "gfAPhi=solver.iccg_solve(fesAPhi, gfAPhi, a, f.vec.FV(), tol=1.e-16, max_iter=200, accel_factor=0, logplot=True, complex=jomega) \n",
    "\n",
    "\n"
   ]
  },
  {
   "cell_type": "code",
   "execution_count": 4,
   "id": "5ecdcdaa-d5e1-4490-84ff-a625be072342",
   "metadata": {},
   "outputs": [],
   "source": [
    "fesAt=HCurl(mesh, order=feorder, definedon=total_region, dirichlet=symmetric_plane, nograds=True, complex=jomega)\n",
    "fesAr=HCurl(mesh, order=feorder, definedon=reduced_region, dirichlet=symmetric_plane, nograds=True, complex=jomega)\n",
    "At=GridFunction(fesAt)\n",
    "Arr=GridFunction(fesAr)\n",
    "Axr=GridFunction(fesAr)\n",
    "At.Set(gfA,VOL, definedon=total_region)\n",
    "Arr.Set(gfA,VOL, definedon=reduced_region)\n",
    "Axr.Set(As, BND, mesh.Boundaries(total_boundary))\n",
    "\n",
    "Bt=curl(At)\n",
    "Ar=Arr-Axr\n",
    "Br=curl(Arr)-curl(Axr)\n",
    "\n",
    "Afield=At+Ar+Asr\n",
    "Bfield=Bt+Br+Bsr\n",
    "Jfield=-s*Sigma*(At+grad(gfPhi))"
   ]
  },
  {
   "cell_type": "code",
   "execution_count": 5,
   "id": "60f5b58a-86d1-47e7-b99d-6f846fce3590",
   "metadata": {},
   "outputs": [
    {
     "name": "stdout",
     "output_type": "stream",
     "text": [
      "center magnetic field =  ((nan+nanj), (nan+nanj), (nan+nanj))\n",
      " Average Joule loss=  nan\n"
     ]
    }
   ],
   "source": [
    "mip = mesh(0,0,0)\n",
    "print(\"center magnetic field = \", Bfield(mip))\n",
    "\n",
    "if jomega==False:\n",
    "    WJ=Integrate(Jfield*Jfield/Sigma*dx(conductive_region), mesh)\n",
    "else:\n",
    "    WJ=Integrate((Jfield.real*Jfield.real+Jfield.imag*Jfield.imag)/Sigma*dx(conductive_region), mesh) /2\n",
    "print(\" Average Joule loss= \", WJ)"
   ]
  },
  {
   "cell_type": "code",
   "execution_count": 6,
   "id": "69236f3f-1a8a-409a-90d8-07b04fdea7c4",
   "metadata": {},
   "outputs": [],
   "source": [
    "from netgen.occ import OCCGeometry\n",
    "from ngsolve.comp import Mesh\n",
    "from netgen.meshing import meshsize\n",
    "#plotMesh=Mesh(OCCGeometry(model.conductor).GenerateMesh(meshsize.coarse)).Curve(1)"
   ]
  },
  {
   "cell_type": "code",
   "execution_count": 7,
   "id": "a94810b4-10dc-4d69-8418-a69aef544932",
   "metadata": {
    "scrolled": true
   },
   "outputs": [
    {
     "name": "stdout",
     "output_type": "stream",
     "text": [
      "****** Bfield.real ******\n"
     ]
    },
    {
     "data": {
      "application/vnd.jupyter.widget-view+json": {
       "model_id": "cd62264acce84541a9b7d5c826e6acb5",
       "version_major": 2,
       "version_minor": 0
      },
      "text/plain": [
       "WebGuiWidget(layout=Layout(height='50vh', width='100%'), value={'gui_settings': {}, 'ngsolve_version': '6.2.24…"
      ]
     },
     "metadata": {},
     "output_type": "display_data"
    },
    {
     "name": "stdout",
     "output_type": "stream",
     "text": [
      "****** Bfield.imag ******\n"
     ]
    },
    {
     "data": {
      "application/vnd.jupyter.widget-view+json": {
       "model_id": "53b7b42b06144484b71cd026d3392d69",
       "version_major": 2,
       "version_minor": 0
      },
      "text/plain": [
       "WebGuiWidget(layout=Layout(height='50vh', width='100%'), value={'gui_settings': {}, 'ngsolve_version': '6.2.24…"
      ]
     },
     "metadata": {},
     "output_type": "display_data"
    },
    {
     "name": "stdout",
     "output_type": "stream",
     "text": [
      "****** Jfield.real ******\n"
     ]
    },
    {
     "data": {
      "application/vnd.jupyter.widget-view+json": {
       "model_id": "2e4fe0650d1f4b9cab8be4eab9dcfb43",
       "version_major": 2,
       "version_minor": 0
      },
      "text/plain": [
       "WebGuiWidget(layout=Layout(height='50vh', width='100%'), value={'gui_settings': {}, 'ngsolve_version': '6.2.24…"
      ]
     },
     "metadata": {},
     "output_type": "display_data"
    },
    {
     "name": "stdout",
     "output_type": "stream",
     "text": [
      "****** Jfield.imag ******\n"
     ]
    },
    {
     "data": {
      "application/vnd.jupyter.widget-view+json": {
       "model_id": "7bc0df2ce10b42df82810551d212f245",
       "version_major": 2,
       "version_minor": 0
      },
      "text/plain": [
       "WebGuiWidget(layout=Layout(height='50vh', width='100%'), value={'gui_settings': {}, 'ngsolve_version': '6.2.24…"
      ]
     },
     "metadata": {},
     "output_type": "display_data"
    }
   ],
   "source": [
    "if jomega==True:\n",
    "    print(\"****** Bfield.real ******\")\n",
    "    Draw (Bfield.real, mesh, order=3, deformation=False) \n",
    "    print(\"****** Bfield.imag ******\")\n",
    "    Draw (Bfield.imag, mesh, order=3, deformation=False) \n",
    "    print(\"****** Jfield.real ******\")\n",
    "    Draw (Jfield.real, mesh,order=3, deformation=False) \n",
    "    print(\"****** Jfield.imag ******\")\n",
    "    Draw (Jfield.imag, mesh, order=3, deformation=False) \n",
    "else:\n",
    "    #print(\"****** Bfield ******\")\n",
    "    #Draw (Bfield, mesh, order=3, deformation=False) \n",
    "    print(\"****** Jfield ******\")\n",
    "    Draw (Jfield, mesh, order=3, deformation=False) "
   ]
  },
  {
   "cell_type": "code",
   "execution_count": 8,
   "id": "1e3ec93c-938b-4cd1-a1b3-f28722b2619a",
   "metadata": {},
   "outputs": [
    {
     "data": {
      "image/png": "[encoded data removed]",
      "text/plain": [
       "<Figure size 640x480 with 1 Axes>"
      ]
     },
     "metadata": {},
     "output_type": "display_data"
    }
   ],
   "source": [
    "import matplotlib.pylab as plt\n",
    "N=1000\n",
    "x0=0\n",
    "y0=0.072\n",
    "z0=0.034\n",
    "#z0=0.0265\n",
    "x1=0.288\n",
    "y1=y0\n",
    "z1=z0\n",
    "dx=(x1-x0)/N\n",
    "dy=(y1-y0)/N\n",
    "dz=(z1-z0)/N\n",
    "xp=[]\n",
    "yvreal=[]\n",
    "yvimag=[]\n",
    "x=x0\n",
    "y=y0\n",
    "z=z0\n",
    "for n in range(N+1):\n",
    "    pnt=mesh(x,y,z)\n",
    "    #print( \"x= \", x, \"  Bz= \", Bfield(pnt)[2].real, \"  \", Bfield(pnt)[2].imag)\n",
    "    xp.append(x)\n",
    "    val=Bfield(pnt)[2]\n",
    "    yvreal.append(val.real)\n",
    "    yvimag.append(val.imag)\n",
    "    #print(\"x=\", x, \"  Bz real=\", val)\n",
    "    x=x+dx\n",
    "    y=y+dy\n",
    "    z=z+dz\n",
    "\n",
    "plt.plot(xp, yvreal)  \n",
    "plt.xlabel(\"x\")  # Add x-axis label\n",
    "#plt.ylabel(\"Bz\")  # Add y-axis label\n",
    "plt.plot(xp, yvimag ) \n",
    "plt.xlabel(\"x\")  # Add x-axis label\n",
    "plt.ylabel(\"Bz\")  # Add y-axis label\n",
    "plt.show()  "
   ]
  },
  {
   "cell_type": "code",
   "execution_count": null,
   "id": "4e4d88c1-224a-46b5-bfe6-c2300f837eef",
   "metadata": {},
   "outputs": [],
   "source": []
  }
 ],
 "metadata": {
  "kernelspec": {
   "display_name": "my_env",
   "language": "python",
   "name": "my_env"
  },
  "language_info": {
   "codemirror_mode": {
    "name": "ipython",
    "version": 3
   },
   "file_extension": ".py",
   "mimetype": "text/x-python",
   "name": "python",
   "nbconvert_exporter": "python",
   "pygments_lexer": "ipython3",
   "version": "3.10.5"
  }
 },
 "nbformat": 4,
 "nbformat_minor": 5
}
