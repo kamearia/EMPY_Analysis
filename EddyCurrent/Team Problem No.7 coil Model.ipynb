{
 "cells": [
  {
   "cell_type": "code",
   "execution_count": 1,
   "id": "d52ba2a3-1434-447a-83a4-78300c8f9ae9",
   "metadata": {},
   "outputs": [
    {
     "data": {
      "application/vnd.jupyter.widget-view+json": {
       "model_id": "be285e842499479e816ed19a59f7c126",
       "version_major": 2,
       "version_minor": 0
      },
      "text/plain": [
       "WebGuiWidget(layout=Layout(height='50vh', width='100%'), value={'ngsolve_version': 'Netgen x.x', 'mesh_dim': 3…"
      ]
     },
     "metadata": {},
     "output_type": "display_data"
    },
    {
     "data": {
      "application/vnd.jupyter.widget-view+json": {
       "model_id": "49a4dda336c24a5292f1577fb79b167f",
       "version_major": 2,
       "version_minor": 0
      },
      "text/plain": [
       "WebGuiWidget(layout=Layout(height='50vh', width='100%'), value={'gui_settings': {}, 'ngsolve_version': '6.2.24…"
      ]
     },
     "metadata": {},
     "output_type": "display_data"
    },
    {
     "data": {
      "text/plain": [
       "BaseWebGuiScene"
      ]
     },
     "execution_count": 1,
     "metadata": {},
     "output_type": "execute_result"
    }
   ],
   "source": [
    "import sys\n",
    "sys.path.append('..\\model')\n",
    "sys.path.append('..\\COIL\\include')\n",
    "from netgen.webgui import Draw as DrawGeo\n",
    "from ngsolve.webgui import Draw\n",
    "from Team7Model import Team7Model \n",
    "model=Team7Model()\n",
    "DrawGeo(model.geo)\n",
    "Draw(model.mesh, draw_vol=True)\n"
   ]
  },
  {
   "cell_type": "code",
   "execution_count": 2,
   "id": "9df3ea1d-29ac-4aa7-b466-f19467c7babc",
   "metadata": {},
   "outputs": [
    {
     "ename": "NameError",
     "evalue": "name 'VTKOutput' is not defined",
     "output_type": "error",
     "traceback": [
      "\u001b[1;31m---------------------------------------------------------------------------\u001b[0m",
      "\u001b[1;31mNameError\u001b[0m                                 Traceback (most recent call last)",
      "Cell \u001b[1;32mIn[2], line 3\u001b[0m\n\u001b[0;32m      1\u001b[0m \u001b[38;5;28;01mimport\u001b[39;00m \u001b[38;5;21;01mvtk\u001b[39;00m\n\u001b[1;32m----> 3\u001b[0m vtk_exporter \u001b[38;5;241m=\u001b[39m \u001b[43mVTKOutput\u001b[49m(model\u001b[38;5;241m.\u001b[39mmesh, filename\u001b[38;5;241m=\u001b[39m\u001b[38;5;124m\"\u001b[39m\u001b[38;5;124mmesh.vtk\u001b[39m\u001b[38;5;124m\"\u001b[39m)\n\u001b[0;32m      4\u001b[0m vtk_exporter\u001b[38;5;241m.\u001b[39mDo()\n\u001b[0;32m      6\u001b[0m reader \u001b[38;5;241m=\u001b[39m vtk\u001b[38;5;241m.\u001b[39mvtkPolyDataReader()\n",
      "\u001b[1;31mNameError\u001b[0m: name 'VTKOutput' is not defined"
     ]
    }
   ],
   "source": [
    "import vtk\n",
    "\n",
    "vtk_exporter = VTKOutput(model.mesh, filename=\"mesh.vtk\")\n",
    "vtk_exporter.Do()\n",
    "\n",
    "reader = vtk.vtkPolyDataReader()\n",
    "reader.SetFileName(\"mesh.vtk.vtu\") # ファイルパスを指定\n",
    "reader.Update()\n",
    "polydata = reader.GetOutput()\n",
    "mapper = vtk.vtkPolyDataMapper()\n",
    "mapper.SetInputData(polydata)\n",
    "mapper.SetInputConnection(reader.GetOutputPort())\n",
    "actor = vtk.vtkActor()\n",
    "actor.SetMapper(mapper)\n",
    "renderer = vtk.vtkRenderer()\n",
    "renderer.AddActor(actor)\n",
    "renderer.SetBackground(1.0, 0.2, 0.3)\n",
    "renderWindow = vtk.vtkRenderWindow()\n",
    "renderWindow.AddRenderer(renderer)\n",
    "iren = vtk.vtkRenderWindowInteractor()\n",
    "iren.SetRenderWindow(renderWindow)\n",
    "renderWindow.Render()\n",
    "iren.Start()"
   ]
  }
 ],
 "metadata": {
  "kernelspec": {
   "display_name": "Python 3 (ipykernel)",
   "language": "python",
   "name": "python3"
  },
  "language_info": {
   "codemirror_mode": {
    "name": "ipython",
    "version": 3
   },
   "file_extension": ".py",
   "mimetype": "text/x-python",
   "name": "python",
   "nbconvert_exporter": "python",
   "pygments_lexer": "ipython3",
   "version": "3.10.5"
  }
 },
 "nbformat": 4,
 "nbformat_minor": 5
}
